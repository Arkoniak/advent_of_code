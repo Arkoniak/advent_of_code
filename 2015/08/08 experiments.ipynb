{
 "cells": [
  {
   "cell_type": "code",
   "execution_count": 110,
   "metadata": {},
   "outputs": [
    {
     "data": {
      "text/plain": [
       "complify (generic function with 1 method)"
      ]
     },
     "execution_count": 110,
     "metadata": {},
     "output_type": "execute_result"
    }
   ],
   "source": [
    "function simplify(s)\n",
    "    s = replace(s, \"\\\\\\\\\" => '0')\n",
    "    s = replace(s, \"\\\\\\\"\" => '0')\n",
    "    s = replace(s, r\"\\\\x..\" => '0')\n",
    "    s = replace(s, \"\\\"\" => \"\")\n",
    "    \n",
    "    s\n",
    "end\n",
    "\n",
    "function complify(s)\n",
    "    s = replace(s, \"\\\\\" => \"00\")\n",
    "    s = replace(s, \"\\\"\" => \"00\")\n",
    "    \n",
    "    \"1\" * s * \"1\"\n",
    "end"
   ]
  },
  {
   "cell_type": "code",
   "execution_count": 10,
   "metadata": {},
   "outputs": [
    {
     "data": {
      "text/plain": [
       "'a': ASCII/Unicode U+0061 (category Ll: Letter, lowercase)"
      ]
     },
     "execution_count": 10,
     "metadata": {},
     "output_type": "execute_result"
    }
   ],
   "source": [
    "s[7]"
   ]
  },
  {
   "cell_type": "code",
   "execution_count": 100,
   "metadata": {},
   "outputs": [
    {
     "data": {
      "text/plain": [
       "1333"
      ]
     },
     "execution_count": 100,
     "metadata": {},
     "output_type": "execute_result"
    }
   ],
   "source": [
    "sum([length(s) - length(simplify(s)) for s in readlines(\"input.txt\")])"
   ]
  },
  {
   "cell_type": "code",
   "execution_count": 99,
   "metadata": {},
   "outputs": [
    {
     "data": {
      "text/plain": [
       "5-element Array{Tuple{String,Int64,String,Int64},1}:\n",
       " (\"\\\"trajs\\\\x5brom\\\\xf1yoijaumkem\\\\\\\"\\\\\\\"tahlzs\\\"\", 38, \"trajs0rom0yoijaumkem00tahlzs\", 28)        \n",
       " (\"\\\"c\\\"\", 3, \"c\", 1)                                                                              \n",
       " (\"\\\"\\\\\\\\\\\"\", 4, \"0\", 1)                                                                           \n",
       " (\"\\\"xziq\\\\\\\\\\\\x18ybyv\\\\x9am\\\\\\\"neacoqjzytertisysza\\\"\", 42, \"xziq00ybyv0m0neacoqjzytertisysza\", 32)\n",
       " (\"\\\"aqcbvlvcrzceeyx\\\\\\\\j\\\\\\\"\\\\\\\"x\\\"\", 25, \"aqcbvlvcrzceeyx0j00x\", 20)                             "
      ]
     },
     "execution_count": 99,
     "metadata": {},
     "output_type": "execute_result"
    }
   ],
   "source": [
    "[(s, length(s), simplify(s), length(simplify(s))) for s in readlines(\"test2.txt\")]"
   ]
  },
  {
   "cell_type": "code",
   "execution_count": 113,
   "metadata": {},
   "outputs": [
    {
     "data": {
      "text/plain": [
       "2046"
      ]
     },
     "execution_count": 113,
     "metadata": {},
     "output_type": "execute_result"
    }
   ],
   "source": [
    "sum([length(complify(s)) - length(s) for s in readlines(\"input.txt\")])"
   ]
  },
  {
   "cell_type": "code",
   "execution_count": 76,
   "metadata": {},
   "outputs": [
    {
     "data": {
      "text/plain": [
       "\"\\\\\""
      ]
     },
     "execution_count": 76,
     "metadata": {},
     "output_type": "execute_result"
    }
   ],
   "source": [
    "raw\"\\\\\""
   ]
  },
  {
   "cell_type": "code",
   "execution_count": 41,
   "metadata": {},
   "outputs": [
    {
     "data": {
      "text/plain": [
       "\"\\\"0\\\"\""
      ]
     },
     "execution_count": 41,
     "metadata": {},
     "output_type": "execute_result"
    }
   ],
   "source": [
    "replace(s, r\"\\\\x[0-9][0-9]\" => '0')"
   ]
  },
  {
   "cell_type": "code",
   "execution_count": null,
   "metadata": {},
   "outputs": [],
   "source": []
  }
 ],
 "metadata": {
  "kernelspec": {
   "display_name": "Julia 1.3.0",
   "language": "julia",
   "name": "julia-1.3"
  },
  "language_info": {
   "file_extension": ".jl",
   "mimetype": "application/julia",
   "name": "julia",
   "version": "1.3.0"
  }
 },
 "nbformat": 4,
 "nbformat_minor": 2
}
