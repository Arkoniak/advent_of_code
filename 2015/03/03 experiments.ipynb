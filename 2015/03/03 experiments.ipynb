{
 "cells": [
  {
   "cell_type": "markdown",
   "metadata": {},
   "source": [
    "## Part 1"
   ]
  },
  {
   "cell_type": "code",
   "execution_count": 10,
   "metadata": {},
   "outputs": [
    {
     "data": {
      "text/plain": [
       "Set([2, 3, -1, 1])"
      ]
     },
     "execution_count": 10,
     "metadata": {},
     "output_type": "execute_result"
    }
   ],
   "source": [
    "foldl((x, y) -> push!(x, y), [1, 2, 3, 1]; init = Set([-1]))"
   ]
  },
  {
   "cell_type": "code",
   "execution_count": 12,
   "metadata": {},
   "outputs": [
    {
     "data": {
      "text/plain": [
       "4-element Array{Char,1}:\n",
       " '^'\n",
       " '>'\n",
       " 'v'\n",
       " '<'"
      ]
     },
     "execution_count": 12,
     "metadata": {},
     "output_type": "execute_result"
    }
   ],
   "source": [
    "data = collect(\"^>v<\")"
   ]
  },
  {
   "cell_type": "code",
   "execution_count": 19,
   "metadata": {},
   "outputs": [
    {
     "data": {
      "text/plain": [
       "2572"
      ]
     },
     "execution_count": 19,
     "metadata": {},
     "output_type": "execute_result"
    }
   ],
   "source": [
    "length(Set(foldl((x, y) -> push!(x, \n",
    "        if y == '^' \n",
    "            (x[end][1], x[end][2] + 1)\n",
    "        elseif y == 'v' \n",
    "            (x[end][1], x[end][2] - 1)\n",
    "        elseif y == '<' \n",
    "            (x[end][1] - 1, x[end][2])\n",
    "        else \n",
    "            (x[end][1] + 1, x[end][2])\n",
    "        end\n",
    "        ), collect(readline(\"input.txt\")); init = [(0, 0)])))"
   ]
  },
  {
   "cell_type": "markdown",
   "metadata": {},
   "source": [
    "## Part 2"
   ]
  },
  {
   "cell_type": "code",
   "execution_count": 5,
   "metadata": {},
   "outputs": [
    {
     "name": "stderr",
     "output_type": "stream",
     "text": [
      "WARNING: redefining constant DELTA\n"
     ]
    },
    {
     "data": {
      "text/plain": [
       "2572"
      ]
     },
     "execution_count": 5,
     "metadata": {},
     "output_type": "execute_result"
    }
   ],
   "source": [
    "const DELTA = Dict(\n",
    "        '^' => [0, 1],\n",
    "        'v' => [0, -1],\n",
    "        '<' => [-1, 0],\n",
    "        '>' => [1, 0]\n",
    "    )\n",
    "\n",
    "readline(\"input.txt\") |> collect |> z -> foldl((x, y) -> vcat(x, [x[end] .+ DELTA[y]]), z; init = [[0, 0]]) |> \n",
    "    Set |> length"
   ]
  },
  {
   "cell_type": "code",
   "execution_count": 7,
   "metadata": {},
   "outputs": [
    {
     "data": {
      "text/plain": [
       "2631"
      ]
     },
     "execution_count": 7,
     "metadata": {},
     "output_type": "execute_result"
    }
   ],
   "source": [
    "readline(\"input.txt\") |> collect |> \n",
    "    z -> foldl((x, y) -> vcat(x, [x[end - 1] .+ DELTA[y]]), z; init = [[0, 0], [0, 0]])  |>\n",
    "    Set |> length"
   ]
  },
  {
   "cell_type": "code",
   "execution_count": null,
   "metadata": {},
   "outputs": [],
   "source": []
  }
 ],
 "metadata": {
  "kernelspec": {
   "display_name": "Julia 1.3.0",
   "language": "julia",
   "name": "julia-1.3"
  },
  "language_info": {
   "file_extension": ".jl",
   "mimetype": "application/julia",
   "name": "julia",
   "version": "1.3.0"
  }
 },
 "nbformat": 4,
 "nbformat_minor": 2
}
