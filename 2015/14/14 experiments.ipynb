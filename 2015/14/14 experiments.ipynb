{
 "cells": [
  {
   "cell_type": "markdown",
   "metadata": {},
   "source": [
    "## Part 1"
   ]
  },
  {
   "cell_type": "code",
   "execution_count": 4,
   "metadata": {},
   "outputs": [
    {
     "data": {
      "text/plain": [
       "9-element Array{String,1}:\n",
       " \"Vixen can fly 19 km/s for 7 seconds, but then must rest for 124 seconds.\"  \n",
       " \"Rudolph can fly 3 km/s for 15 seconds, but then must rest for 28 seconds.\" \n",
       " \"Donner can fly 19 km/s for 9 seconds, but then must rest for 164 seconds.\" \n",
       " \"Blitzen can fly 19 km/s for 9 seconds, but then must rest for 158 seconds.\"\n",
       " \"Comet can fly 13 km/s for 7 seconds, but then must rest for 82 seconds.\"   \n",
       " \"Cupid can fly 25 km/s for 6 seconds, but then must rest for 145 seconds.\"  \n",
       " \"Dasher can fly 14 km/s for 3 seconds, but then must rest for 38 seconds.\"  \n",
       " \"Dancer can fly 3 km/s for 16 seconds, but then must rest for 37 seconds.\"  \n",
       " \"Prancer can fly 25 km/s for 6 seconds, but then must rest for 143 seconds.\""
      ]
     },
     "execution_count": 4,
     "metadata": {},
     "output_type": "execute_result"
    }
   ],
   "source": [
    "ss = readlines(\"input.txt\")"
   ]
  },
  {
   "cell_type": "code",
   "execution_count": 2,
   "metadata": {},
   "outputs": [],
   "source": [
    "struct Deer\n",
    "    name::String\n",
    "    fly::Int\n",
    "    period::Int\n",
    "    rest::Int\n",
    "end"
   ]
  },
  {
   "cell_type": "code",
   "execution_count": 11,
   "metadata": {},
   "outputs": [
    {
     "data": {
      "text/plain": [
       "9-element Array{Deer,1}:\n",
       " Deer(\"Vixen\", 19, 7, 124)  \n",
       " Deer(\"Rudolph\", 3, 15, 28) \n",
       " Deer(\"Donner\", 19, 9, 164) \n",
       " Deer(\"Blitzen\", 19, 9, 158)\n",
       " Deer(\"Comet\", 13, 7, 82)   \n",
       " Deer(\"Cupid\", 25, 6, 145)  \n",
       " Deer(\"Dasher\", 14, 3, 38)  \n",
       " Deer(\"Dancer\", 3, 16, 37)  \n",
       " Deer(\"Prancer\", 25, 6, 143)"
      ]
     },
     "execution_count": 11,
     "metadata": {},
     "output_type": "execute_result"
    }
   ],
   "source": [
    "deers = Deer[]\n",
    "for s in ss\n",
    "    m = match(r\"^([^ ]+) [^0-9]*([0-9]+) km/s for ([0-9]+).*rest[^0-9]*([0-9]+)\", s)\n",
    "    push!(deers, Deer(m[1], parse.(Int, m.captures[2:end])...))\n",
    "end\n",
    "\n",
    "deers"
   ]
  },
  {
   "cell_type": "code",
   "execution_count": null,
   "metadata": {},
   "outputs": [],
   "source": []
  },
  {
   "cell_type": "code",
   "execution_count": 12,
   "metadata": {},
   "outputs": [
    {
     "data": {
      "text/plain": [
       "distance (generic function with 1 method)"
      ]
     },
     "execution_count": 12,
     "metadata": {},
     "output_type": "execute_result"
    }
   ],
   "source": [
    "function distance(d::Deer, t)\n",
    "    res = 0\n",
    "    while t > 0\n",
    "        t0 = min(d.period, t)\n",
    "        res += d.fly*t0\n",
    "        t -= t0\n",
    "        t0 = min(d.rest, t)\n",
    "        t -= t0\n",
    "    end\n",
    "    res\n",
    "end"
   ]
  },
  {
   "cell_type": "code",
   "execution_count": 16,
   "metadata": {},
   "outputs": [
    {
     "data": {
      "text/plain": [
       "2660"
      ]
     },
     "execution_count": 16,
     "metadata": {},
     "output_type": "execute_result"
    }
   ],
   "source": [
    "maximum(map(x -> distance(x, 2503), deers))"
   ]
  },
  {
   "cell_type": "markdown",
   "metadata": {},
   "source": [
    "## Part 2"
   ]
  },
  {
   "cell_type": "code",
   "execution_count": 25,
   "metadata": {},
   "outputs": [
    {
     "data": {
      "text/plain": [
       "distance2 (generic function with 1 method)"
      ]
     },
     "execution_count": 25,
     "metadata": {},
     "output_type": "execute_result"
    }
   ],
   "source": [
    "function distance2(d::Deer, t)\n",
    "    d.fly*((t ÷ (d.period + d.rest))*d.period + min(mod(t, d.period + d.rest), d.period))\n",
    "end"
   ]
  },
  {
   "cell_type": "code",
   "execution_count": 28,
   "metadata": {},
   "outputs": [
    {
     "data": {
      "text/plain": [
       "2637"
      ]
     },
     "execution_count": 28,
     "metadata": {},
     "output_type": "execute_result"
    }
   ],
   "source": [
    "distance2(deers[2], 2503)"
   ]
  },
  {
   "cell_type": "code",
   "execution_count": 27,
   "metadata": {},
   "outputs": [
    {
     "data": {
      "text/plain": [
       "2637"
      ]
     },
     "execution_count": 27,
     "metadata": {},
     "output_type": "execute_result"
    }
   ],
   "source": [
    "distance(deers[2], 2503)"
   ]
  },
  {
   "cell_type": "code",
   "execution_count": 24,
   "metadata": {},
   "outputs": [
    {
     "data": {
      "text/plain": [
       "2527"
      ]
     },
     "execution_count": 24,
     "metadata": {},
     "output_type": "execute_result"
    }
   ],
   "source": [
    "(2503 ÷ (deers[1].period + deers[1].rest))*deers[1].fly*deers[1].period"
   ]
  },
  {
   "cell_type": "code",
   "execution_count": 37,
   "metadata": {},
   "outputs": [
    {
     "data": {
      "text/plain": [
       "9-element Array{Int64,1}:\n",
       "  469\n",
       "  188\n",
       "  589\n",
       " 1256\n",
       "  158\n",
       "  307\n",
       "    9\n",
       "    0\n",
       "  504"
      ]
     },
     "execution_count": 37,
     "metadata": {},
     "output_type": "execute_result"
    }
   ],
   "source": [
    "res = zeros(Int, length(deers))\n",
    "for i in 1:2503\n",
    "    dist = [distance2(d, i) for d in deers]\n",
    "    m = maximum(dist)\n",
    "    res += dist .== m\n",
    "end\n",
    "res"
   ]
  },
  {
   "cell_type": "code",
   "execution_count": null,
   "metadata": {},
   "outputs": [],
   "source": []
  }
 ],
 "metadata": {
  "kernelspec": {
   "display_name": "Julia 1.3.0",
   "language": "julia",
   "name": "julia-1.3"
  },
  "language_info": {
   "file_extension": ".jl",
   "mimetype": "application/julia",
   "name": "julia",
   "version": "1.3.0"
  }
 },
 "nbformat": 4,
 "nbformat_minor": 2
}
