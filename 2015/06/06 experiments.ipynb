{
 "cells": [
  {
   "cell_type": "markdown",
   "metadata": {},
   "source": [
    "## Part 1"
   ]
  },
  {
   "cell_type": "code",
   "execution_count": 15,
   "metadata": {},
   "outputs": [],
   "source": [
    "bulbs = Dict{Vector{Int}, Int}()\n",
    "toggle!(d, v) = for i in v[1]:v[3], j in v[2]:v[4] d[[i, j]] = 1 - get(d, [i, j], 0) end\n",
    "turn!(d, v, on) = for i in v[1]:v[3], j in v[2]:v[4] d[[i, j]] = on end\n",
    "function apply!(d, s)\n",
    "    v = match(r\"([0-9]+),([0-9]+) through ([0-9]+),([0-9]+)\", s).captures |> z -> parse.(Int, z)\n",
    "    if startswith(s, \"toggle\")\n",
    "        toggle!(d, v)\n",
    "    elseif startswith(s, \"turn on\")\n",
    "        turn!(d, v, 1)\n",
    "    else\n",
    "        turn!(d, v, 0)\n",
    "    end\n",
    "end\n",
    "\n",
    "data = readlines(\"input.txt\")\n",
    "for inp in data\n",
    "    apply!(bulbs, inp)\n",
    "end"
   ]
  },
  {
   "cell_type": "code",
   "execution_count": 6,
   "metadata": {},
   "outputs": [
    {
     "data": {
      "text/plain": [
       "4-element Array{Int64,1}:\n",
       " 461\n",
       " 550\n",
       " 564\n",
       " 900"
      ]
     },
     "execution_count": 6,
     "metadata": {},
     "output_type": "execute_result"
    }
   ],
   "source": [
    "match(r\"([0-9]+),([0-9]+) through ([0-9]+),([0-9]+)\", \"toggle 461,550 through 564,900\").captures |> z -> parse.(Int, z)"
   ]
  },
  {
   "cell_type": "code",
   "execution_count": 16,
   "metadata": {},
   "outputs": [
    {
     "data": {
      "text/plain": [
       "543903"
      ]
     },
     "execution_count": 16,
     "metadata": {},
     "output_type": "execute_result"
    }
   ],
   "source": [
    "length([bulb for bulb in keys(bulbs) if bulbs[bulb] == 1])"
   ]
  },
  {
   "cell_type": "markdown",
   "metadata": {},
   "source": [
    "## Part 2"
   ]
  },
  {
   "cell_type": "code",
   "execution_count": 47,
   "metadata": {},
   "outputs": [
    {
     "data": {
      "text/plain": [
       "turn! (generic function with 1 method)"
      ]
     },
     "execution_count": 47,
     "metadata": {},
     "output_type": "execute_result"
    }
   ],
   "source": [
    "bulbs = Dict{Vector{Int}, Int}()\n",
    "toggle!(d, v) = for i in v[1]:v[3], j in v[2]:v[4] d[[i, j]] = get(d, [i, j], 0) + 2 end\n",
    "turn!(d, v, on) = for i in v[1]:v[3], j in v[2]:v[4] d[[i, j]] = max(get(d, [i, j], 0) + (on == 1 ? 1 : -1), 0) end"
   ]
  },
  {
   "cell_type": "code",
   "execution_count": 48,
   "metadata": {},
   "outputs": [],
   "source": [
    "data = readlines(\"input.txt\")\n",
    "for inp in data\n",
    "    apply!(bulbs, inp)\n",
    "end"
   ]
  },
  {
   "cell_type": "code",
   "execution_count": 49,
   "metadata": {},
   "outputs": [
    {
     "data": {
      "text/plain": [
       "14687245"
      ]
     },
     "execution_count": 49,
     "metadata": {},
     "output_type": "execute_result"
    }
   ],
   "source": [
    "sum(values(bulbs))"
   ]
  },
  {
   "cell_type": "code",
   "execution_count": 37,
   "metadata": {},
   "outputs": [
    {
     "data": {
      "text/plain": [
       "apply! (generic function with 1 method)"
      ]
     },
     "execution_count": 37,
     "metadata": {},
     "output_type": "execute_result"
    }
   ],
   "source": [
    "function apply!(d, s)\n",
    "    v = match(r\"([0-9]+),([0-9]+) through ([0-9]+),([0-9]+)\", s).captures |> z -> parse.(Int, z)\n",
    "    if startswith(s, \"toggle\")\n",
    "        toggle!(d, v)\n",
    "    elseif startswith(s, \"turn on\")\n",
    "        turn!(d, v, 1)\n",
    "    else\n",
    "        turn!(d, v, 0)\n",
    "    end\n",
    "end"
   ]
  },
  {
   "cell_type": "code",
   "execution_count": 46,
   "metadata": {},
   "outputs": [
    {
     "data": {
      "text/plain": [
       "163"
      ]
     },
     "execution_count": 46,
     "metadata": {},
     "output_type": "execute_result"
    }
   ],
   "source": [
    "bulbs = Dict{Vector{Int}, Int}()\n",
    "data = [\"turn on 0,0 through 10,10\", \"turn off 0,0 through 9,9\", \"toggle 0,0 through 10,10\", \"turn off 0,0 through 9,9\"]\n",
    "for inp in data\n",
    "    apply!(bulbs, inp)\n",
    "end\n",
    "sum(values(bulbs))"
   ]
  },
  {
   "cell_type": "code",
   "execution_count": 45,
   "metadata": {},
   "outputs": [
    {
     "data": {
      "text/plain": [
       "263"
      ]
     },
     "execution_count": 45,
     "metadata": {},
     "output_type": "execute_result"
    }
   ],
   "source": []
  },
  {
   "cell_type": "code",
   "execution_count": null,
   "metadata": {},
   "outputs": [],
   "source": []
  }
 ],
 "metadata": {
  "kernelspec": {
   "display_name": "Julia 1.3.0",
   "language": "julia",
   "name": "julia-1.3"
  },
  "language_info": {
   "file_extension": ".jl",
   "mimetype": "application/julia",
   "name": "julia",
   "version": "1.3.0"
  }
 },
 "nbformat": 4,
 "nbformat_minor": 2
}
