{
 "cells": [
  {
   "cell_type": "markdown",
   "metadata": {},
   "source": [
    "## Part 1"
   ]
  },
  {
   "cell_type": "code",
   "execution_count": 8,
   "metadata": {},
   "outputs": [
    {
     "data": {
      "text/plain": [
       "1-element Array{Int64,1}:\n",
       " 43"
      ]
     },
     "execution_count": 8,
     "metadata": {},
     "output_type": "execute_result"
    }
   ],
   "source": [
    "s = \"1x1x10\"\n",
    "map(x -> minimum(x) + 2*sum(x), map(x -> [x[1] * x[2], x[1] * x[3], x[2] * x[3]], [parse.(Int, match(r\"([0-9]+)x([0-9]+)x([0-9]+)\", s).captures)]))"
   ]
  },
  {
   "cell_type": "code",
   "execution_count": 17,
   "metadata": {},
   "outputs": [
    {
     "data": {
      "text/plain": [
       "1586300"
      ]
     },
     "execution_count": 17,
     "metadata": {},
     "output_type": "execute_result"
    }
   ],
   "source": [
    "sum(map(x -> minimum(x) + 2*sum(x), \n",
    "        map(x -> [x[1] * x[2], x[1] * x[3], x[2] * x[3]], \n",
    "            map(x -> parse.(Int, x), \n",
    "                map(x -> x.captures, \n",
    "                    match.(r\"([0-9]+)x([0-9]+)x([0-9]+)\", readlines(\"input.txt\")))))))"
   ]
  },
  {
   "cell_type": "markdown",
   "metadata": {},
   "source": [
    "## Part 2"
   ]
  },
  {
   "cell_type": "code",
   "execution_count": 18,
   "metadata": {},
   "outputs": [
    {
     "data": {
      "text/plain": [
       "3737498"
      ]
     },
     "execution_count": 18,
     "metadata": {},
     "output_type": "execute_result"
    }
   ],
   "source": [
    "sum(map(x -> 2*minimum(x[1]) + x[2], \n",
    "        map(x -> [[x[1] + x[2], x[1] + x[3], x[2] + x[3]], x[1]*x[2]*x[3]], \n",
    "            map(x -> parse.(Int, x), \n",
    "                map(x -> x.captures, \n",
    "                    match.(r\"([0-9]+)x([0-9]+)x([0-9]+)\", readlines(\"input.txt\")))))))"
   ]
  }
 ],
 "metadata": {
  "kernelspec": {
   "display_name": "Julia 1.2.0",
   "language": "julia",
   "name": "julia-1.2"
  },
  "language_info": {
   "file_extension": ".jl",
   "mimetype": "application/julia",
   "name": "julia",
   "version": "1.2.0"
  }
 },
 "nbformat": 4,
 "nbformat_minor": 2
}
