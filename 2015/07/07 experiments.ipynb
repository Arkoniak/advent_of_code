{
 "cells": [
  {
   "cell_type": "markdown",
   "metadata": {},
   "source": [
    "## Part 1"
   ]
  },
  {
   "cell_type": "code",
   "execution_count": 14,
   "metadata": {},
   "outputs": [
    {
     "name": "stdout",
     "output_type": "stream",
     "text": [
      "d = 72\n",
      "e = 507\n",
      "f = 492\n",
      "g = 114\n",
      "h = 65412\n",
      "i = 65079\n"
     ]
    }
   ],
   "source": [
    "x = UInt16(123)\n",
    "y = UInt16(456)\n",
    "println(\"d = \", Int(x & y))\n",
    "println(\"e = \", Int(x | y))\n",
    "println(\"f = \", Int(x << 2))\n",
    "println(\"g = \", Int(y >> 2))\n",
    "println(\"h = \", Int(~x))\n",
    "println(\"i = \", Int(~y))"
   ]
  },
  {
   "cell_type": "code",
   "execution_count": 11,
   "metadata": {},
   "outputs": [
    {
     "data": {
      "text/plain": [
       "65412"
      ]
     },
     "execution_count": 11,
     "metadata": {},
     "output_type": "execute_result"
    }
   ],
   "source": [
    "Int(h)"
   ]
  },
  {
   "cell_type": "code",
   "execution_count": null,
   "metadata": {},
   "outputs": [],
   "source": []
  }
 ],
 "metadata": {
  "kernelspec": {
   "display_name": "Julia 1.3.0",
   "language": "julia",
   "name": "julia-1.3"
  },
  "language_info": {
   "file_extension": ".jl",
   "mimetype": "application/julia",
   "name": "julia",
   "version": "1.3.0"
  }
 },
 "nbformat": 4,
 "nbformat_minor": 2
}
