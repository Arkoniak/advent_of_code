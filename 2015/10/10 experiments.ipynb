{
 "cells": [
  {
   "cell_type": "markdown",
   "metadata": {},
   "source": [
    "## Part 1"
   ]
  },
  {
   "cell_type": "code",
   "execution_count": 27,
   "metadata": {},
   "outputs": [
    {
     "data": {
      "text/plain": [
       "part1 (generic function with 2 methods)"
      ]
     },
     "execution_count": 27,
     "metadata": {},
     "output_type": "execute_result"
    }
   ],
   "source": [
    "function part1(inp, n = 1)\n",
    "    inp = collect(string(inp))\n",
    "    for k in 1:n\n",
    "        inp2 = []\n",
    "        cnt = 0\n",
    "        cur = inp[1]\n",
    "        for c in inp\n",
    "            if c == cur\n",
    "                cnt += 1\n",
    "            else\n",
    "                push!(inp2, string(cnt), cur)\n",
    "                cur = c\n",
    "                cnt = 1\n",
    "            end\n",
    "        end\n",
    "        push!(inp2, string(cnt), cur)\n",
    "        inp = collect(join(inp2))\n",
    "    end\n",
    "    \n",
    "    join(inp)\n",
    "end"
   ]
  },
  {
   "cell_type": "code",
   "execution_count": 33,
   "metadata": {},
   "outputs": [
    {
     "data": {
      "text/plain": [
       "5103798"
      ]
     },
     "execution_count": 33,
     "metadata": {},
     "output_type": "execute_result"
    }
   ],
   "source": [
    "length(part1(1113122113, 50))"
   ]
  },
  {
   "cell_type": "code",
   "execution_count": null,
   "metadata": {},
   "outputs": [],
   "source": []
  }
 ],
 "metadata": {
  "kernelspec": {
   "display_name": "Julia 1.3.0",
   "language": "julia",
   "name": "julia-1.3"
  },
  "language_info": {
   "file_extension": ".jl",
   "mimetype": "application/julia",
   "name": "julia",
   "version": "1.3.0"
  }
 },
 "nbformat": 4,
 "nbformat_minor": 2
}
