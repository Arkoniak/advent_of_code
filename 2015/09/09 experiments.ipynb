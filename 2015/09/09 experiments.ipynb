{
 "cells": [
  {
   "cell_type": "markdown",
   "metadata": {},
   "source": [
    "## Part 1"
   ]
  },
  {
   "cell_type": "code",
   "execution_count": 32,
   "metadata": {},
   "outputs": [
    {
     "data": {
      "text/plain": [
       "part1 (generic function with 2 methods)"
      ]
     },
     "execution_count": 32,
     "metadata": {},
     "output_type": "execute_result"
    }
   ],
   "source": [
    "function part1(inp = \"input.txt\")\n",
    "    data = readlines(inp)\n",
    "    info = Dict()\n",
    "    for s in data\n",
    "        m = match(r\"^(.*) to (.*) = (.*)$\", s)\n",
    "        d = get!(info, Symbol(m[1]), Dict())\n",
    "        d[Symbol(m[2])] = parse(Int, m[3])\n",
    "        d = get!(info, Symbol(m[2]), Dict())\n",
    "        d[Symbol(m[1])] = parse(Int, m[3])\n",
    "    end\n",
    "    \n",
    "    lng = length(keys(info))\n",
    "    \n",
    "    d = Dict()\n",
    "    for k in keys(info)\n",
    "        d[k] = 0\n",
    "    end\n",
    "    info[:start] = d\n",
    "    \n",
    "    memo = Dict()\n",
    "    start = (Set(Symbol[]), :start)\n",
    "    memo[start] = (0, :start)\n",
    "    acc = [start]\n",
    "    while !isempty(acc)\n",
    "        state = popfirst!(acc)\n",
    "        for (k, v) in info[state[2]]\n",
    "            if !(k in state[1])\n",
    "                new_state = (union(state[1], [k]), k)\n",
    "                new_val = memo[state][1] + v\n",
    "                if !(new_state in keys(memo)) || memo[new_state][1] > new_val \n",
    "                    memo[new_state] = (new_val, state[2])\n",
    "                    push!(acc, new_state)\n",
    "                end\n",
    "            end\n",
    "        end\n",
    "    end\n",
    "    \n",
    "    m = Inf\n",
    "    p = nothing\n",
    "    for (k, v) in memo\n",
    "        if length(k[1]) < lng continue end\n",
    "        if v[1] < m \n",
    "            p = k\n",
    "            m = v[1]\n",
    "        end\n",
    "    end\n",
    "    \n",
    "    res = []\n",
    "    push!(res, (p, memo[p][1]))\n",
    "    while true\n",
    "        r1 = setdiff(p[1], [p[2]])\n",
    "        if isempty(r1) break end\n",
    "        p = (r1, memo[p][2])\n",
    "        push!(res, (p, memo[p][1]))\n",
    "    end\n",
    "    res = reverse([(x[1][2], x[2]) for x in res])\n",
    "end"
   ]
  },
  {
   "cell_type": "code",
   "execution_count": 33,
   "metadata": {},
   "outputs": [
    {
     "data": {
      "text/plain": [
       "3-element Array{Tuple{Symbol,Int64},1}:\n",
       " (:London, 0)   \n",
       " (:Dublin, 464) \n",
       " (:Belfast, 605)"
      ]
     },
     "execution_count": 33,
     "metadata": {},
     "output_type": "execute_result"
    }
   ],
   "source": [
    "part1(\"test.txt\")"
   ]
  },
  {
   "cell_type": "code",
   "execution_count": 34,
   "metadata": {},
   "outputs": [
    {
     "data": {
      "text/plain": [
       "8-element Array{Tuple{Symbol,Int64},1}:\n",
       " (:Straylight, 0)     \n",
       " (:Arbre, 14)         \n",
       " (:Tristram, 28)      \n",
       " (:Norrath, 32)       \n",
       " (:Snowdin, 40)       \n",
       " (:Tambi, 92)         \n",
       " (:AlphaCentauri, 114)\n",
       " (:Faerun, 117)       "
      ]
     },
     "execution_count": 34,
     "metadata": {},
     "output_type": "execute_result"
    }
   ],
   "source": [
    "part1(\"input.txt\")"
   ]
  },
  {
   "cell_type": "code",
   "execution_count": 27,
   "metadata": {},
   "outputs": [
    {
     "data": {
      "text/plain": [
       "Set(Symbol[:b])"
      ]
     },
     "execution_count": 27,
     "metadata": {},
     "output_type": "execute_result"
    }
   ],
   "source": [
    "setdiff(Set([:a, :b]), [:a, :c])"
   ]
  },
  {
   "cell_type": "markdown",
   "metadata": {},
   "source": [
    "## Part 2"
   ]
  },
  {
   "cell_type": "code",
   "execution_count": 41,
   "metadata": {},
   "outputs": [
    {
     "data": {
      "text/plain": [
       "part2 (generic function with 2 methods)"
      ]
     },
     "execution_count": 41,
     "metadata": {},
     "output_type": "execute_result"
    }
   ],
   "source": [
    "function part2(inp = \"input.txt\")\n",
    "    data = readlines(inp)\n",
    "    info = Dict()\n",
    "    for s in data\n",
    "        m = match(r\"^(.*) to (.*) = (.*)$\", s)\n",
    "        d = get!(info, Symbol(m[1]), Dict())\n",
    "        d[Symbol(m[2])] = parse(Int, m[3])\n",
    "        d = get!(info, Symbol(m[2]), Dict())\n",
    "        d[Symbol(m[1])] = parse(Int, m[3])\n",
    "    end\n",
    "    \n",
    "    lng = length(keys(info))\n",
    "    \n",
    "    d = Dict()\n",
    "    for k in keys(info)\n",
    "        d[k] = 0\n",
    "    end\n",
    "    info[:start] = d\n",
    "    \n",
    "    memo = Dict()\n",
    "    start = (Set(Symbol[]), :start)\n",
    "    memo[start] = (0, :start)\n",
    "    acc = [start]\n",
    "    while !isempty(acc)\n",
    "        state = popfirst!(acc)\n",
    "        for (k, v) in info[state[2]]\n",
    "            if !(k in state[1])\n",
    "                new_state = (union(state[1], [k]), k)\n",
    "                new_val = memo[state][1] + v\n",
    "                if !(new_state in keys(memo)) || memo[new_state][1] < new_val \n",
    "                    memo[new_state] = (new_val, state[2])\n",
    "                    push!(acc, new_state)\n",
    "                end\n",
    "            end\n",
    "        end\n",
    "    end\n",
    "    \n",
    "    m = -Inf\n",
    "    p = nothing\n",
    "    for (k, v) in memo\n",
    "        if length(k[1]) < lng continue end\n",
    "        if v[1] > m\n",
    "            p = k\n",
    "            m = v[1]\n",
    "        end\n",
    "    end\n",
    "    \n",
    "    res = []\n",
    "    push!(res, (p, memo[p][1]))\n",
    "    while true\n",
    "        r1 = setdiff(p[1], [p[2]])\n",
    "        if isempty(r1) break end\n",
    "        p = (r1, memo[p][2])\n",
    "        push!(res, (p, memo[p][1]))\n",
    "    end\n",
    "    res = reverse([(x[1][2], x[2]) for x in res])\n",
    "end"
   ]
  },
  {
   "cell_type": "code",
   "execution_count": 42,
   "metadata": {},
   "outputs": [
    {
     "data": {
      "text/plain": [
       "3-element Array{Tuple{Symbol,Int64},1}:\n",
       " (:Dublin, 0)   \n",
       " (:London, 464) \n",
       " (:Belfast, 982)"
      ]
     },
     "execution_count": 42,
     "metadata": {},
     "output_type": "execute_result"
    }
   ],
   "source": [
    "part2(\"test.txt\")"
   ]
  },
  {
   "cell_type": "code",
   "execution_count": 43,
   "metadata": {},
   "outputs": [
    {
     "data": {
      "text/plain": [
       "8-element Array{Tuple{Symbol,Int64},1}:\n",
       " (:Snowdin, 0)        \n",
       " (:Tristram, 105)     \n",
       " (:Straylight, 230)   \n",
       " (:AlphaCentauri, 337)\n",
       " (:Norrath, 473)      \n",
       " (:Faerun, 617)       \n",
       " (:Arbre, 766)        \n",
       " (:Tambi, 909)        "
      ]
     },
     "execution_count": 43,
     "metadata": {},
     "output_type": "execute_result"
    }
   ],
   "source": [
    "part2(\"input.txt\")"
   ]
  },
  {
   "cell_type": "code",
   "execution_count": null,
   "metadata": {},
   "outputs": [],
   "source": []
  }
 ],
 "metadata": {
  "kernelspec": {
   "display_name": "Julia 1.3.0",
   "language": "julia",
   "name": "julia-1.3"
  },
  "language_info": {
   "file_extension": ".jl",
   "mimetype": "application/julia",
   "name": "julia",
   "version": "1.3.0"
  }
 },
 "nbformat": 4,
 "nbformat_minor": 2
}
