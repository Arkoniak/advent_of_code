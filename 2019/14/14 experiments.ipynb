{
 "cells": [
  {
   "cell_type": "markdown",
   "metadata": {},
   "source": [
    "## Part 1"
   ]
  },
  {
   "cell_type": "code",
   "execution_count": 8,
   "metadata": {},
   "outputs": [
    {
     "data": {
      "text/plain": [
       "add_element! (generic function with 2 methods)"
      ]
     },
     "execution_count": 8,
     "metadata": {},
     "output_type": "execute_result"
    }
   ],
   "source": [
    "mutable struct Element\n",
    "    name::Symbol\n",
    "    quant::Int\n",
    "    formula::Dict{Symbol, Int}\n",
    "    required::Int\n",
    "    residue::Int\n",
    "    used_in::Set{Symbol}\n",
    "    is_ready::Bool\n",
    "end\n",
    "Element(name::Symbol) = Element(name, 0, Dict{Symbol, Int}(), 0, 0, Set([]), false)\n",
    "sym(s) = Symbol(strip(s))\n",
    "quant(s) = parse(Int, strip(s))\n",
    "\n",
    "struct NanoFactory\n",
    "    elements::Dict{Symbol, Element}\n",
    "    ore_cnt::Vector{Int}\n",
    "end\n",
    "\n",
    "function NanoFactory(desc::Vector{T}) where T\n",
    "    elements = Dict{Symbol, Element}()\n",
    "    for s in desc add_element!(elements, s) end\n",
    "    NanoFactory(elements, Int[])\n",
    "end\n",
    "\n",
    "function add_element!(elements, s)\n",
    "    m = match(r\"^(.*) => ([0-9]+) (.*)$\", s)\n",
    "    product = get!(elements, sym(m[3]), Element(sym(m[3])))\n",
    "    product.quant = quant(m[2])\n",
    "    m = split(m[1], ',')\n",
    "    for elem_str in m\n",
    "        term = match(r\"([0-9]+) (.*)$\", elem_str)\n",
    "        elem = get!(elements, sym(term[2]), Element(sym(term[2])))\n",
    "        product.formula[elem.name] = quant(term[1])\n",
    "        push!(elem.used_in, product.name)\n",
    "    end\n",
    "end"
   ]
  },
  {
   "cell_type": "code",
   "execution_count": 15,
   "metadata": {},
   "outputs": [
    {
     "data": {
      "text/plain": [
       "update_ore! (generic function with 2 methods)"
      ]
     },
     "execution_count": 15,
     "metadata": {},
     "output_type": "execute_result"
    }
   ],
   "source": [
    "function process_elem!(f::NanoFactory, start=:FUEL)\n",
    "    stack = Vector{Symbol}()\n",
    "    f.elements[start].required = 1\n",
    "    f.elements[start].is_ready = true\n",
    "    f.elements[start].residue = 0\n",
    "    push!(stack, start)\n",
    "    while !isempty(stack)\n",
    "        elem = f.elements[popfirst!(stack)]\n",
    "        elem.is_ready = elem.is_ready || all([f.elements[x].is_ready for x in elem.used_in])\n",
    "        if elem.is_ready\n",
    "            if elem.quant > 0\n",
    "                multiplier = div(elem.required - elem.residue, elem.quant) + \n",
    "                    Int(mod(elem.required - elem.residue, elem.quant) != 0)\n",
    "                elem.residue = multiplier*elem.quant + elem.residue - elem.required\n",
    "                for (x, v) in elem.formula\n",
    "                    if !(x in stack) push!(stack, x) end\n",
    "                    f.elements[x].required += multiplier * v\n",
    "                end\n",
    "            end\n",
    "        else\n",
    "            push!(stack, elem.name)\n",
    "        end\n",
    "    end\n",
    "end\n",
    "\n",
    "function restart!(f::NanoFactory)\n",
    "    for elem in values(f.elements)\n",
    "        elem.is_ready = false\n",
    "        elem.required = 0\n",
    "    end\n",
    "end\n",
    "\n",
    "function update_ore!(f::NanoFactory, elem = :FUEL)\n",
    "    restart!(f)\n",
    "    process_elem!(f, elem)\n",
    "    total_ore = isempty(f.ore_cnt) ? 0 : f.ore_cnt[end]\n",
    "    push!(f.ore_cnt, f.elements[:ORE].required + total_ore)\n",
    "end"
   ]
  },
  {
   "cell_type": "code",
   "execution_count": 13,
   "metadata": {},
   "outputs": [
    {
     "name": "stdout",
     "output_type": "stream",
     "text": [
      "2210736\n"
     ]
    }
   ],
   "source": [
    "# 2210736\n",
    "nanofactory = NanoFactory(readlines(\"test5.txt\"))\n",
    "update_ore!(nanofactory)\n",
    "println(nanofactory.ore_cnt[end])"
   ]
  },
  {
   "cell_type": "code",
   "execution_count": 14,
   "metadata": {},
   "outputs": [
    {
     "name": "stdout",
     "output_type": "stream",
     "text": [
      "Part 1: 443537\n"
     ]
    }
   ],
   "source": [
    "# 443537\n",
    "nanofactory = NanoFactory(readlines(\"input.txt\"))\n",
    "update_ore!(nanofactory)\n",
    "println(\"Part 1: \", nanofactory.ore_cnt[end])"
   ]
  },
  {
   "cell_type": "markdown",
   "metadata": {},
   "source": [
    "## Part 2"
   ]
  },
  {
   "cell_type": "code",
   "execution_count": 39,
   "metadata": {},
   "outputs": [
    {
     "name": "stdout",
     "output_type": "stream",
     "text": [
      "13312\n"
     ]
    }
   ],
   "source": [
    "nanofactory = NanoFactory(readlines(\"test3.txt\"))\n",
    "update_ore!(nanofactory)\n",
    "println(nanofactory.ore_cnt[end])"
   ]
  },
  {
   "cell_type": "code",
   "execution_count": 54,
   "metadata": {},
   "outputs": [
    {
     "data": {
      "text/plain": [
       "calc_fuel (generic function with 1 method)"
      ]
     },
     "execution_count": 54,
     "metadata": {},
     "output_type": "execute_result"
    }
   ],
   "source": [
    "function generate_cycle(f::NanoFactory, lim)\n",
    "    update_ore!(f)\n",
    "    while any([elem.residue != 0 for elem in values(f.elements)]) && f.ore_cnt[end] < lim\n",
    "        update_ore!(f)\n",
    "    end\n",
    "end\n",
    "\n",
    "function calc_fuel(f::NanoFactory, ore)\n",
    "    generate_cycle(f, ore)\n",
    "    fuel = div(ore, f.ore_cnt[end])*length(f.ore_cnt)\n",
    "    residual_ore = mod(ore, f.ore_cnt[end])\n",
    "    fuel += sum(f.ore_cnt .<= residual_ore)\n",
    "    \n",
    "    fuel\n",
    "end"
   ]
  },
  {
   "cell_type": "code",
   "execution_count": 56,
   "metadata": {},
   "outputs": [
    {
     "data": {
      "text/plain": [
       "2910558"
      ]
     },
     "execution_count": 56,
     "metadata": {},
     "output_type": "execute_result"
    }
   ],
   "source": [
    "nanofactory = NanoFactory(readlines(\"input.txt\"))\n",
    "calc_fuel(nanofactory, 1000000000000)"
   ]
  },
  {
   "cell_type": "code",
   "execution_count": 57,
   "metadata": {},
   "outputs": [
    {
     "data": {
      "text/plain": [
       "2910559-element Array{Int64,1}:\n",
       "        443537\n",
       "        858403\n",
       "       1109059\n",
       "       1523115\n",
       "       1772062\n",
       "       2180294\n",
       "       2450835\n",
       "       2866012\n",
       "       3119181\n",
       "       3524148\n",
       "       3944020\n",
       "       4188979\n",
       "       4626693\n",
       "             ⋮\n",
       "  999996246991\n",
       "  999996498543\n",
       "  999996904960\n",
       "  999997161174\n",
       "  999997567855\n",
       "  999997841190\n",
       "  999998256268\n",
       "  999998502865\n",
       "  999998913541\n",
       "  999999331439\n",
       "  999999577919\n",
       " 1000000009891"
      ]
     },
     "execution_count": 57,
     "metadata": {},
     "output_type": "execute_result"
    }
   ],
   "source": [
    "nanofactory.ore_cnt"
   ]
  },
  {
   "cell_type": "code",
   "execution_count": 52,
   "metadata": {},
   "outputs": [
    {
     "data": {
      "text/plain": [
       "2.3994894299589147"
      ]
     },
     "execution_count": 52,
     "metadata": {},
     "output_type": "execute_result"
    }
   ],
   "source": [
    "1000000000000/416755326160"
   ]
  },
  {
   "cell_type": "code",
   "execution_count": 27,
   "metadata": {},
   "outputs": [
    {
     "name": "stdout",
     "output_type": "stream",
     "text": [
      "145\n"
     ]
    }
   ],
   "source": [
    "update_ore!(nanofactory)\n",
    "println(nanofactory.ore_cnt[end])"
   ]
  },
  {
   "cell_type": "code",
   "execution_count": 28,
   "metadata": {},
   "outputs": [
    {
     "name": "stdout",
     "output_type": "stream",
     "text": [
      "FUEL: 0\n",
      "A: 0\n",
      "D: 0\n",
      "ORE: 0\n",
      "B: 0\n",
      "E: 0\n",
      "C: 0\n"
     ]
    }
   ],
   "source": [
    "for v in values(nanofactory.elements)\n",
    "    println(v.name, \": \", v.residue)\n",
    "end"
   ]
  },
  {
   "cell_type": "code",
   "execution_count": 30,
   "metadata": {},
   "outputs": [
    {
     "data": {
      "text/plain": [
       "5-element Array{Int64,1}:\n",
       "  31\n",
       "  62\n",
       "  93\n",
       " 124\n",
       " 145"
      ]
     },
     "execution_count": 30,
     "metadata": {},
     "output_type": "execute_result"
    }
   ],
   "source": [
    "nanofactory.ore_cnt"
   ]
  },
  {
   "cell_type": "code",
   "execution_count": 25,
   "metadata": {},
   "outputs": [
    {
     "data": {
      "text/plain": [
       "1000000000000"
      ]
     },
     "execution_count": 25,
     "metadata": {},
     "output_type": "execute_result"
    }
   ],
   "source": [
    "1000000000000"
   ]
  },
  {
   "cell_type": "code",
   "execution_count": 26,
   "metadata": {},
   "outputs": [
    {
     "data": {
      "text/plain": [
       "1009377417334"
      ]
     },
     "execution_count": 26,
     "metadata": {},
     "output_type": "execute_result"
    }
   ],
   "source": [
    "180697*5586022"
   ]
  },
  {
   "cell_type": "code",
   "execution_count": 27,
   "metadata": {},
   "outputs": [
    {
     "data": {
      "text/plain": [
       "1103468327936"
      ]
     },
     "execution_count": 27,
     "metadata": {},
     "output_type": "execute_result"
    }
   ],
   "source": [
    "13312*82892753"
   ]
  },
  {
   "cell_type": "code",
   "execution_count": null,
   "metadata": {},
   "outputs": [],
   "source": []
  }
 ],
 "metadata": {
  "kernelspec": {
   "display_name": "Julia 1.3.0",
   "language": "julia",
   "name": "julia-1.3"
  },
  "language_info": {
   "file_extension": ".jl",
   "mimetype": "application/julia",
   "name": "julia",
   "version": "1.3.0"
  }
 },
 "nbformat": 4,
 "nbformat_minor": 2
}
