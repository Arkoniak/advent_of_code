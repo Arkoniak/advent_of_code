{
 "cells": [
  {
   "cell_type": "markdown",
   "metadata": {},
   "source": [
    "## Part 1"
   ]
  },
  {
   "cell_type": "code",
   "execution_count": 348,
   "metadata": {},
   "outputs": [
    {
     "data": {
      "text/plain": [
       "\".#..##.###...#######\\n##.############..##.\\n.#.######.########.#\\n.###.#######.####.#.\\n#####.##.#.##.###.##\\n..#####..#.#########\\n####################\\n#.####....###.#.#.##\\n##.#################\\n#####.##.###..####..\\n..######..##.#######\\n####.##.####...##..#\\n.#####..#.######.###\\n##...#.##########...\\n#.##########.#######\\n.####.#.###.###.#.##\\n....##.##.###..#####\\n.#.#.###########.###\\n#.#.#.#####.####.###\\n###.##.####.##.#..##\""
      ]
     },
     "execution_count": 348,
     "metadata": {},
     "output_type": "execute_result"
    }
   ],
   "source": [
    "# data = \".#..#\n",
    "# .....\n",
    "# #####\n",
    "# ....#\n",
    "# ...##\"\n",
    "\n",
    "# data = \"......#.#.\n",
    "# #..#.#....\n",
    "# ..#######.\n",
    "# .#.#.###..\n",
    "# .#..#.....\n",
    "# ..#....#.#\n",
    "# #..#....#.\n",
    "# .##.#..###\n",
    "# ##...#..#.\n",
    "# .#....####\"\n",
    "\n",
    "# data = \"###\n",
    "# ###\n",
    "# ###\"\n",
    "\n",
    "# data = \"#...\n",
    "# .#..\n",
    "# ..#.\n",
    "# ...#\"\n",
    "\n",
    "# data = \"#.#...#.#.\n",
    "# .###....#.\n",
    "# .#....#...\n",
    "# ##.#.#.#.#\n",
    "# ....#.#.#.\n",
    "# .##..###.#\n",
    "# ..#...##..\n",
    "# ..##....##\n",
    "# ......#...\n",
    "# .####.###.\"\n",
    "\n",
    "# data = \".#..#..###\n",
    "# ####.###.#\n",
    "# ....###.#.\n",
    "# ..###.##.#\n",
    "# ##.##.#.#.\n",
    "# ....###..#\n",
    "# ..#.#..#.#\n",
    "# #..#.#.###\n",
    "# .##...##.#\n",
    "# .....#.#..\"\n",
    "\n",
    "data = \".#..##.###...#######\n",
    "##.############..##.\n",
    ".#.######.########.#\n",
    ".###.#######.####.#.\n",
    "#####.##.#.##.###.##\n",
    "..#####..#.#########\n",
    "####################\n",
    "#.####....###.#.#.##\n",
    "##.#################\n",
    "#####.##.###..####..\n",
    "..######..##.#######\n",
    "####.##.####...##..#\n",
    ".#####..#.######.###\n",
    "##...#.##########...\n",
    "#.##########.#######\n",
    ".####.#.###.###.#.##\n",
    "....##.##.###..#####\n",
    ".#.#.###########.###\n",
    "#.#.#.#####.####.###\n",
    "###.##.####.##.#..##\""
   ]
  },
  {
   "cell_type": "code",
   "execution_count": 322,
   "metadata": {},
   "outputs": [
    {
     "data": {
      "text/plain": [
       "34-element Array{String,1}:\n",
       " \"#....#.....#...#.#.....#.#..#....#\"\n",
       " \"#..#..##...#......#.....#..###.#.#\"\n",
       " \"#......#.#.#.....##....#.#.....#..\"\n",
       " \"..#.#...#.......#.##..#...........\"\n",
       " \".##..#...##......##.#.#...........\"\n",
       " \".....#.#..##...#..##.....#...#.##.\"\n",
       " \"....#.##.##.#....###.#........####\"\n",
       " \"..#....#..####........##.........#\"\n",
       " \"..#...#......#.#..#..#.#.##......#\"\n",
       " \".............#.#....##.......#...#\"\n",
       " \".#.#..##.#.#.#.#.......#.....#....\"\n",
       " \".....##.###..#.....#.#..###.....##\"\n",
       " \".....#...#.#.#......#.#....##.....\"\n",
       " ⋮                                   \n",
       " \".#.#.#..#............#..........#.\"\n",
       " \"..##.....#....#....##..#.#.......#\"\n",
       " \"..##.....#.#......................\"\n",
       " \".#..#...#....#.#.....#.........#..\"\n",
       " \"........#.............#.#.........\"\n",
       " \"#...#.#......#.##....#...#.#.#...#\"\n",
       " \".#.....#.#.....#.....#.#.##......#\"\n",
       " \"..##....#.....#.....#....#.##..#..\"\n",
       " \"#..###.#.#....#......#...#........\"\n",
       " \"..#......#..#....##...#.#.#...#..#\"\n",
       " \".#.##.#.#.....#..#..#........##...\"\n",
       " \"....#...##.##.##......#..#..##....\""
      ]
     },
     "execution_count": 322,
     "metadata": {},
     "output_type": "execute_result"
    }
   ],
   "source": [
    "data = readlines(\"input.txt\")"
   ]
  },
  {
   "cell_type": "code",
   "execution_count": 325,
   "metadata": {},
   "outputs": [
    {
     "data": {
      "text/plain": [
       "34-element Array{Array{Char,1},1}:\n",
       " ['#', '.', '.', '.', '.', '#', '.', '.', '.', '.'  …  '.', '#', '.', '.', '#', '.', '.', '.', '.', '#']\n",
       " ['#', '.', '.', '#', '.', '.', '#', '#', '.', '.'  …  '#', '.', '.', '#', '#', '#', '.', '#', '.', '#']\n",
       " ['#', '.', '.', '.', '.', '.', '.', '#', '.', '#'  …  '.', '#', '.', '.', '.', '.', '.', '#', '.', '.']\n",
       " ['.', '.', '#', '.', '#', '.', '.', '.', '#', '.'  …  '.', '.', '.', '.', '.', '.', '.', '.', '.', '.']\n",
       " ['.', '#', '#', '.', '.', '#', '.', '.', '.', '#'  …  '.', '.', '.', '.', '.', '.', '.', '.', '.', '.']\n",
       " ['.', '.', '.', '.', '.', '#', '.', '#', '.', '.'  …  '.', '#', '.', '.', '.', '#', '.', '#', '#', '.']\n",
       " ['.', '.', '.', '.', '#', '.', '#', '#', '.', '#'  …  '.', '.', '.', '.', '.', '.', '#', '#', '#', '#']\n",
       " ['.', '.', '#', '.', '.', '.', '.', '#', '.', '.'  …  '.', '.', '.', '.', '.', '.', '.', '.', '.', '#']\n",
       " ['.', '.', '#', '.', '.', '.', '#', '.', '.', '.'  …  '.', '#', '#', '.', '.', '.', '.', '.', '.', '#']\n",
       " ['.', '.', '.', '.', '.', '.', '.', '.', '.', '.'  …  '.', '.', '.', '.', '.', '#', '.', '.', '.', '#']\n",
       " ['.', '#', '.', '#', '.', '.', '#', '#', '.', '#'  …  '.', '.', '.', '.', '.', '#', '.', '.', '.', '.']\n",
       " ['.', '.', '.', '.', '.', '#', '#', '.', '#', '#'  …  '#', '#', '#', '.', '.', '.', '.', '.', '#', '#']\n",
       " ['.', '.', '.', '.', '.', '#', '.', '.', '.', '#'  …  '.', '.', '.', '#', '#', '.', '.', '.', '.', '.']\n",
       " ⋮                                                                                                      \n",
       " ['.', '#', '.', '#', '.', '#', '.', '.', '#', '.'  …  '.', '.', '.', '.', '.', '.', '.', '.', '#', '.']\n",
       " ['.', '.', '#', '#', '.', '.', '.', '.', '.', '#'  …  '.', '#', '.', '.', '.', '.', '.', '.', '.', '#']\n",
       " ['.', '.', '#', '#', '.', '.', '.', '.', '.', '#'  …  '.', '.', '.', '.', '.', '.', '.', '.', '.', '.']\n",
       " ['.', '#', '.', '.', '#', '.', '.', '.', '#', '.'  …  '.', '.', '.', '.', '.', '.', '.', '#', '.', '.']\n",
       " ['.', '.', '.', '.', '.', '.', '.', '.', '#', '.'  …  '#', '.', '.', '.', '.', '.', '.', '.', '.', '.']\n",
       " ['#', '.', '.', '.', '#', '.', '#', '.', '.', '.'  …  '.', '#', '.', '#', '.', '#', '.', '.', '.', '#']\n",
       " ['.', '#', '.', '.', '.', '.', '.', '#', '.', '#'  …  '.', '#', '#', '.', '.', '.', '.', '.', '.', '#']\n",
       " ['.', '.', '#', '#', '.', '.', '.', '.', '#', '.'  …  '.', '#', '.', '#', '#', '.', '.', '#', '.', '.']\n",
       " ['#', '.', '.', '#', '#', '#', '.', '#', '.', '#'  …  '.', '#', '.', '.', '.', '.', '.', '.', '.', '.']\n",
       " ['.', '.', '#', '.', '.', '.', '.', '.', '.', '#'  …  '#', '.', '#', '.', '.', '.', '#', '.', '.', '#']\n",
       " ['.', '#', '.', '#', '#', '.', '#', '.', '#', '.'  …  '.', '.', '.', '.', '.', '#', '#', '.', '.', '.']\n",
       " ['.', '.', '.', '.', '#', '.', '.', '.', '#', '#'  …  '.', '#', '.', '.', '#', '#', '.', '.', '.', '.']"
      ]
     },
     "execution_count": 325,
     "metadata": {},
     "output_type": "execute_result"
    }
   ],
   "source": [
    "collect.(data)"
   ]
  },
  {
   "cell_type": "code",
   "execution_count": 279,
   "metadata": {},
   "outputs": [
    {
     "data": {
      "text/plain": [
       "4×4 Array{Char,2}:\n",
       " '#'  '.'  '.'  '.'\n",
       " '.'  '#'  '.'  '.'\n",
       " '.'  '.'  '#'  '.'\n",
       " '.'  '.'  '.'  '#'"
      ]
     },
     "execution_count": 279,
     "metadata": {},
     "output_type": "execute_result"
    }
   ],
   "source": [
    "hcat(collect.(split(data, '\\n'))...)"
   ]
  },
  {
   "cell_type": "code",
   "execution_count": 326,
   "metadata": {},
   "outputs": [
    {
     "data": {
      "text/plain": [
       "316-element Array{Array{Int64,1},1}:\n",
       " [1, 1]  \n",
       " [6, 1]  \n",
       " [12, 1] \n",
       " [16, 1] \n",
       " [18, 1] \n",
       " [24, 1] \n",
       " [26, 1] \n",
       " [29, 1] \n",
       " [34, 1] \n",
       " [1, 2]  \n",
       " [4, 2]  \n",
       " [7, 2]  \n",
       " [8, 2]  \n",
       " ⋮       \n",
       " [31, 33]\n",
       " [5, 34] \n",
       " [9, 34] \n",
       " [10, 34]\n",
       " [12, 34]\n",
       " [13, 34]\n",
       " [15, 34]\n",
       " [16, 34]\n",
       " [23, 34]\n",
       " [26, 34]\n",
       " [29, 34]\n",
       " [30, 34]"
      ]
     },
     "execution_count": 326,
     "metadata": {},
     "output_type": "execute_result"
    }
   ],
   "source": [
    "#dd = hcat(collect.(split(data, '\\n'))...)\n",
    "dd = hcat(collect.(data)...)\n",
    "asts = [[i[1], i[2]] for i in CartesianIndices(dd) if dd[i] == '#']"
   ]
  },
  {
   "cell_type": "code",
   "execution_count": 287,
   "metadata": {},
   "outputs": [
    {
     "data": {
      "text/plain": [
       "ev (generic function with 2 methods)"
      ]
     },
     "execution_count": 287,
     "metadata": {},
     "output_type": "execute_result"
    }
   ],
   "source": [
    "op(x, y) = x[1]*y[2] - x[2]*y[1]\n",
    "sp(x, y) = x[1]*y[1] + x[2]*y[2]\n",
    "\n",
    "function ev(a, j)\n",
    "    res = 0\n",
    "    b = ones(Int, size(a)[1])\n",
    "    b[j] = 0\n",
    "    for i in 1:length(b)\n",
    "        res += (sum(a[:, i]) - 1)*b[i]\n",
    "#         println(a[:, i])\n",
    "#         println(sum(a[:, i]) - 1)\n",
    "        b[a[:, i] .== 1] .= 0\n",
    "    end\n",
    "    \n",
    "    res\n",
    "end"
   ]
  },
  {
   "cell_type": "code",
   "execution_count": 421,
   "metadata": {},
   "outputs": [
    {
     "data": {
      "text/plain": [
       "316×316 Array{Int64,2}:\n",
       "  2    7   13   17   19   25   27   30  …    49    50    57    60    63    64\n",
       "  7   37   73   97  109  145  157  175      124   130   172   190   208   214\n",
       " 13   73  145  193  217  289  313  349      214   226   310   346   382   394\n",
       " 17   97  193  257  289  385  417  465      274   290   402   450   498   514\n",
       " 19  109  217  289  325  433  469  523      304   322   448   502   556   574\n",
       " 25  145  289  385  433  577  625  697  …   394   418   586   658   730   754\n",
       " 27  157  313  417  469  625  677  755      424   450   632   710   788   814\n",
       " 30  175  349  465  523  697  755  842      469   498   701   788   875   904\n",
       " 35  205  409  545  613  817  885  987      544   578   816   918  1020  1054\n",
       "  3    8   14   18   20   26   28   31       83    84    91    94    97    98\n",
       "  6   26   50   66   74   98  106  118  …   128   132   160   172   184   188\n",
       "  9   44   86  114  128  170  184  205      173   180   229   250   271   278\n",
       " 10   50   98  130  146  194  210  234      188   196   252   276   300   308\n",
       "  ⋮                        ⋮            ⋱     ⋮                             ⋮\n",
       " 64  219  405  529  591  777  839  932     1587  1618  1835  1928  2021  2052\n",
       " 39   64   94  114  124  154  164  179  …  1231  1236  1271  1286  1301  1306\n",
       " 43   88  142  178  196  250  268  295     1291  1300  1363  1390  1417  1426\n",
       " 44   94  154  194  214  274  294  324     1306  1316  1386  1416  1446  1456\n",
       " 46  106  178  226  250  322  346  382     1336  1348  1432  1468  1504  1516\n",
       " 47  112  190  242  268  346  372  411     1351  1364  1455  1494  1533  1546\n",
       " 49  124  214  274  304  394  424  469  …  1381  1396  1501  1546  1591  1606\n",
       " 50  130  226  290  322  418  450  498     1396  1412  1524  1572  1620  1636\n",
       " 57  172  310  402  448  586  632  701     1501  1524  1685  1754  1823  1846\n",
       " 60  190  346  450  502  658  710  788     1546  1572  1754  1832  1910  1936\n",
       " 63  208  382  498  556  730  788  875     1591  1620  1823  1910  1997  2026\n",
       " 64  214  394  514  574  754  814  904  …  1606  1636  1846  1936  2026  2056"
      ]
     },
     "execution_count": 421,
     "metadata": {},
     "output_type": "execute_result"
    }
   ],
   "source": [
    "dd1 = op.(asts, asts')\n",
    "dd2 = sp.(asts, asts')"
   ]
  },
  {
   "cell_type": "code",
   "execution_count": 207,
   "metadata": {},
   "outputs": [
    {
     "data": {
      "text/plain": [
       "-53"
      ]
     },
     "execution_count": 207,
     "metadata": {},
     "output_type": "execute_result"
    }
   ],
   "source": [
    "#map(x -> Int(x == 0), dd1 .- dd1[i, :]' .- dd1[: ,i])\n",
    "\n",
    "2*(9 - 1) - sum(map(x -> Int(x > 0), dd2 .- dd2[1, :]' .- dd2[:, 1] .+ dd2[1, 1]) .*\n",
    "    map(x -> Int(x == 0), dd1 .- dd1[1, :]' .- dd1[: ,1]))"
   ]
  },
  {
   "cell_type": "code",
   "execution_count": 179,
   "metadata": {},
   "outputs": [
    {
     "data": {
      "text/plain": [
       "8"
      ]
     },
     "execution_count": 179,
     "metadata": {},
     "output_type": "execute_result"
    }
   ],
   "source": [
    "8 - div(sum(map(x -> Int(x > 0), dd2 .- dd2[5, :]' .- dd2[:, 5] .+ dd2[5, 5]) .*\n",
    "    map(x -> Int(x == 0), dd1 .- dd1[5, :]' .- dd1[: ,5])) - 8, 2)"
   ]
  },
  {
   "cell_type": "code",
   "execution_count": 208,
   "metadata": {},
   "outputs": [
    {
     "data": {
      "text/plain": [
       "32"
      ]
     },
     "execution_count": 208,
     "metadata": {},
     "output_type": "execute_result"
    }
   ],
   "source": [
    "maximum([length(asts) - 1 - \n",
    "    div(sum(map(x -> Int(x > 0), dd2 .- dd2[i, :]' .- dd2[:, i] .+ dd2[i, i]) .*\n",
    "    map(x -> Int(x == 0), dd1 .- dd1[i, :]' .- dd1[: ,i])) - length(asts) + 1, 2)\n",
    "    for i in 1:length(asts)])"
   ]
  },
  {
   "cell_type": "code",
   "execution_count": 209,
   "metadata": {},
   "outputs": [
    {
     "data": {
      "text/plain": [
       "3"
      ]
     },
     "execution_count": 209,
     "metadata": {},
     "output_type": "execute_result"
    }
   ],
   "source": [
    "argmax([length(asts) - 1 - \n",
    "    div(sum(map(x -> Int(x > 0), dd2 .- dd2[i, :]' .- dd2[:, i] .+ dd2[i, i]) .*\n",
    "    map(x -> Int(x == 0), dd1 .- dd1[i, :]' .- dd1[: ,i])) - length(asts) + 1, 2)\n",
    "    for i in 1:length(asts)])"
   ]
  },
  {
   "cell_type": "code",
   "execution_count": 422,
   "metadata": {},
   "outputs": [
    {
     "data": {
      "text/plain": [
       "267"
      ]
     },
     "execution_count": 422,
     "metadata": {},
     "output_type": "execute_result"
    }
   ],
   "source": [
    "maximum([\n",
    "     length(asts) - 1 - ev(map(x -> Int(x > 0), dd2 .- dd2[i, :]' .- dd2[:, i] .+ dd2[i, i]) .*\n",
    "    map(x -> Int(x == 0), dd1 .- dd1[i, :]' .- dd1[: , i]), i) for i in 1:length(asts)])"
   ]
  },
  {
   "cell_type": "code",
   "execution_count": 423,
   "metadata": {},
   "outputs": [
    {
     "data": {
      "text/plain": [
       "266"
      ]
     },
     "execution_count": 423,
     "metadata": {},
     "output_type": "execute_result"
    }
   ],
   "source": [
    "argmax([\n",
    "     length(asts) - 1 - ev(map(x -> Int(x > 0), dd2 .- dd2[i, :]' .- dd2[:, i] .+ dd2[i, i]) .*\n",
    "    map(x -> Int(x == 0), dd1 .- dd1[i, :]' .- dd1[: , i]), i) for i in 1:length(asts)])"
   ]
  },
  {
   "cell_type": "code",
   "execution_count": 292,
   "metadata": {},
   "outputs": [
    {
     "data": {
      "text/plain": [
       "6"
      ]
     },
     "execution_count": 292,
     "metadata": {},
     "output_type": "execute_result"
    }
   ],
   "source": [
    "ev(map(x -> Int(x > 0), dd2 .- dd2[34, :]' .- dd2[:, 34] .+ dd2[34, 34]) .*\n",
    "    map(x -> Int(x == 0), dd1 .- dd1[34, :]' .- dd1[: ,34]), 34)"
   ]
  },
  {
   "cell_type": "code",
   "execution_count": 288,
   "metadata": {},
   "outputs": [
    {
     "data": {
      "text/plain": [
       "2"
      ]
     },
     "execution_count": 288,
     "metadata": {},
     "output_type": "execute_result"
    }
   ],
   "source": [
    "ev(map(x -> Int(x > 0), dd2 .- dd2[1, :]' .- dd2[:, 1] .+ dd2[1, 1]) .*\n",
    "    map(x -> Int(x == 0), dd1 .- dd1[1, :]' .- dd1[: ,1]), 1)"
   ]
  },
  {
   "cell_type": "code",
   "execution_count": 283,
   "metadata": {},
   "outputs": [
    {
     "data": {
      "text/plain": [
       "4×4 Array{Int64,2}:\n",
       " 0  0  0  0\n",
       " 0  1  1  1\n",
       " 0  1  1  1\n",
       " 0  1  1  1"
      ]
     },
     "execution_count": 283,
     "metadata": {},
     "output_type": "execute_result"
    }
   ],
   "source": [
    "map(x -> Int(x > 0), dd2 .- dd2[1, :]' .- dd2[:, 1] .+ dd2[1, 1]) .*\n",
    "    map(x -> Int(x == 0), dd1 .- dd1[1, :]' .- dd1[: ,1])"
   ]
  },
  {
   "cell_type": "code",
   "execution_count": 251,
   "metadata": {},
   "outputs": [
    {
     "data": {
      "text/plain": [
       "0"
      ]
     },
     "execution_count": 251,
     "metadata": {},
     "output_type": "execute_result"
    }
   ],
   "source": [
    "map(x -> Int(x > 0), dd2 .- dd2[34, :]' .- dd2[:, 34] .+ dd2[34, 34])[32, 35]"
   ]
  },
  {
   "cell_type": "code",
   "execution_count": 237,
   "metadata": {},
   "outputs": [
    {
     "name": "stdout",
     "output_type": "stream",
     "text": [
      "[1, 34]\n",
      "[2, 34]\n",
      "[3, 34]\n",
      "[4, 34]\n",
      "[5, 9, 15, 34]\n",
      "[6, 34]\n",
      "[7, 34]\n",
      "[8, 34]\n",
      "[5, 9, 15, 34]\n",
      "[10, 34]\n",
      "[11, 34]\n",
      "[12, 34]\n",
      "[13, 34]\n",
      "[14, 34]\n",
      "[5, 9, 15, 34]\n",
      "[16, 34]\n",
      "[17, 34]\n",
      "[18, 20, 24, 28, 34, 37]\n",
      "[19, 34]\n",
      "[18, 20, 24, 28, 34, 37]\n",
      "[21, 34]\n",
      "[22, 34]\n",
      "[23, 34]\n",
      "[18, 20, 24, 28, 34, 37]\n",
      "[25, 34]\n",
      "[26, 34, 40]\n",
      "[27, 34, 39]\n",
      "[18, 20, 24, 28, 34, 37]\n",
      "[29, 34]\n",
      "[30, 34]\n",
      "[31, 34, 36]\n",
      "[32, 33, 34, 35]\n",
      "[32, 33, 34, 35]\n",
      "[1, 2, 3, 4, 5, 6, 7, 8, 9, 10, 11, 12, 13, 14, 15, 16, 17, 18, 19, 20, 21, 22, 23, 24, 25, 26, 27, 28, 29, 30, 31, 32, 33, 34, 35, 36, 37, 38, 39, 40]\n",
      "[32, 33, 34, 35]\n",
      "[31, 34, 36]\n",
      "[18, 20, 24, 28, 34, 37]\n",
      "[34, 38]\n",
      "[27, 34, 39]\n",
      "[26, 34, 40]\n"
     ]
    },
    {
     "data": {
      "text/plain": [
       "40-element Array{Nothing,1}:\n",
       " nothing\n",
       " nothing\n",
       " nothing\n",
       " nothing\n",
       " nothing\n",
       " nothing\n",
       " nothing\n",
       " nothing\n",
       " nothing\n",
       " nothing\n",
       " nothing\n",
       " nothing\n",
       " nothing\n",
       " ⋮      \n",
       " nothing\n",
       " nothing\n",
       " nothing\n",
       " nothing\n",
       " nothing\n",
       " nothing\n",
       " nothing\n",
       " nothing\n",
       " nothing\n",
       " nothing\n",
       " nothing\n",
       " nothing"
      ]
     },
     "execution_count": 237,
     "metadata": {},
     "output_type": "execute_result"
    }
   ],
   "source": [
    "[println(sort(findall(map(x -> Int(x == 0), dd1 .- dd1[34, :]' .- dd1[: ,34])[i, :] .== 1))) for i in 1:length(asts)]"
   ]
  },
  {
   "cell_type": "code",
   "execution_count": 223,
   "metadata": {},
   "outputs": [
    {
     "data": {
      "text/plain": [
       "40"
      ]
     },
     "execution_count": 223,
     "metadata": {},
     "output_type": "execute_result"
    }
   ],
   "source": [
    "length(asts)"
   ]
  },
  {
   "cell_type": "code",
   "execution_count": 220,
   "metadata": {},
   "outputs": [
    {
     "data": {
      "text/plain": [
       "34"
      ]
     },
     "execution_count": 220,
     "metadata": {},
     "output_type": "execute_result"
    }
   ],
   "source": [
    "argmax([x == [6, 9] for x in asts])"
   ]
  },
  {
   "cell_type": "code",
   "execution_count": 150,
   "metadata": {},
   "outputs": [
    {
     "data": {
      "text/plain": [
       "6"
      ]
     },
     "execution_count": 150,
     "metadata": {},
     "output_type": "execute_result"
    }
   ],
   "source": [
    "maximum([length(asts) - div(sum(map(x -> Int(x == 0), dd .- dd[i, :]' .- dd[: ,i])) - 3*length(asts), 2) - 2 for i in 1:length(asts)])"
   ]
  },
  {
   "cell_type": "code",
   "execution_count": 142,
   "metadata": {},
   "outputs": [
    {
     "data": {
      "text/plain": [
       "3"
      ]
     },
     "execution_count": 142,
     "metadata": {},
     "output_type": "execute_result"
    }
   ],
   "source": [
    "xx = [length(asts) - div(sum(map(x -> Int(x == 0), dd .- dd[i, :]' .- dd[: ,i])) - 3*length(asts), 2) - 2 for i in 1:length(asts)]\n",
    "argmax(xx .== 32)"
   ]
  },
  {
   "cell_type": "code",
   "execution_count": 157,
   "metadata": {},
   "outputs": [
    {
     "data": {
      "text/plain": [
       "9×9 Array{Int64,2}:\n",
       " 1  0  0  0  1  0  0  0  1\n",
       " 0  1  0  0  1  0  0  1  0\n",
       " 0  0  1  0  1  0  1  0  0\n",
       " 0  0  0  1  1  1  0  0  0\n",
       " 1  1  1  1  1  1  1  1  1\n",
       " 0  0  0  1  1  1  0  0  0\n",
       " 0  0  1  0  1  0  1  0  0\n",
       " 0  1  0  0  1  0  0  1  0\n",
       " 1  0  0  0  1  0  0  0  1"
      ]
     },
     "execution_count": 157,
     "metadata": {},
     "output_type": "execute_result"
    }
   ],
   "source": [
    "map(x -> Int(x == 0), dd .- dd[5, :]' .- dd[: ,5])"
   ]
  },
  {
   "cell_type": "code",
   "execution_count": 156,
   "metadata": {},
   "outputs": [
    {
     "data": {
      "text/plain": [
       "4"
      ]
     },
     "execution_count": 156,
     "metadata": {},
     "output_type": "execute_result"
    }
   ],
   "source": [
    "length(asts) - div(sum(map(x -> Int(x == 0), dd .- dd[5, :]' .- dd[: ,5])) - 3*length(asts), 2) - 2"
   ]
  },
  {
   "cell_type": "code",
   "execution_count": 95,
   "metadata": {},
   "outputs": [
    {
     "data": {
      "text/plain": [
       "2-element Array{Int64,1}:\n",
       " 5\n",
       " 3"
      ]
     },
     "execution_count": 95,
     "metadata": {},
     "output_type": "execute_result"
    }
   ],
   "source": [
    "asts[7]"
   ]
  },
  {
   "cell_type": "code",
   "execution_count": 103,
   "metadata": {},
   "outputs": [
    {
     "data": {
      "text/plain": [
       "(-3, -6, 3)"
      ]
     },
     "execution_count": 103,
     "metadata": {},
     "output_type": "execute_result"
    }
   ],
   "source": [
    "dd[5, 6], dd[5, 7], dd[7, 6]"
   ]
  },
  {
   "cell_type": "code",
   "execution_count": 13,
   "metadata": {},
   "outputs": [
    {
     "data": {
      "text/plain": [
       "10-element Array{CartesianIndex{2},1}:\n",
       " CartesianIndex(2, 1)\n",
       " CartesianIndex(5, 1)\n",
       " CartesianIndex(1, 3)\n",
       " CartesianIndex(2, 3)\n",
       " CartesianIndex(3, 3)\n",
       " CartesianIndex(4, 3)\n",
       " CartesianIndex(5, 3)\n",
       " CartesianIndex(5, 4)\n",
       " CartesianIndex(4, 5)\n",
       " CartesianIndex(5, 5)"
      ]
     },
     "execution_count": 13,
     "metadata": {},
     "output_type": "execute_result"
    }
   ],
   "source": [
    "[i for i in CartesianIndices(dd) if dd[i] == '#']"
   ]
  },
  {
   "cell_type": "code",
   "execution_count": 270,
   "metadata": {},
   "outputs": [
    {
     "data": {
      "text/plain": [
       "10-element Array{Char,1}:\n",
       " '.'\n",
       " '.'\n",
       " '.'\n",
       " '.'\n",
       " '.'\n",
       " '.'\n",
       " '#'\n",
       " '.'\n",
       " '#'\n",
       " '.'"
      ]
     },
     "execution_count": 270,
     "metadata": {},
     "output_type": "execute_result"
    }
   ],
   "source": [
    "dd[:, 1]"
   ]
  },
  {
   "cell_type": "code",
   "execution_count": 269,
   "metadata": {},
   "outputs": [
    {
     "data": {
      "text/plain": [
       "(10, 10)"
      ]
     },
     "execution_count": 269,
     "metadata": {},
     "output_type": "execute_result"
    }
   ],
   "source": []
  },
  {
   "cell_type": "markdown",
   "metadata": {},
   "source": [
    "## Part 2"
   ]
  },
  {
   "cell_type": "code",
   "execution_count": 347,
   "metadata": {},
   "outputs": [
    {
     "data": {
      "text/plain": [
       "90.0"
      ]
     },
     "execution_count": 347,
     "metadata": {},
     "output_type": "execute_result"
    }
   ],
   "source": [
    "atand(-1, 0) + 180"
   ]
  },
  {
   "cell_type": "code",
   "execution_count": 420,
   "metadata": {},
   "outputs": [
    {
     "data": {
      "text/plain": [
       "316-element Array{Array{Int64,1},1}:\n",
       " [1, 1]  \n",
       " [6, 1]  \n",
       " [12, 1] \n",
       " [16, 1] \n",
       " [18, 1] \n",
       " [24, 1] \n",
       " [26, 1] \n",
       " [29, 1] \n",
       " [34, 1] \n",
       " [1, 2]  \n",
       " [4, 2]  \n",
       " [7, 2]  \n",
       " [8, 2]  \n",
       " ⋮       \n",
       " [31, 33]\n",
       " [5, 34] \n",
       " [9, 34] \n",
       " [10, 34]\n",
       " [12, 34]\n",
       " [13, 34]\n",
       " [15, 34]\n",
       " [16, 34]\n",
       " [23, 34]\n",
       " [26, 34]\n",
       " [29, 34]\n",
       " [30, 34]"
      ]
     },
     "execution_count": 420,
     "metadata": {},
     "output_type": "execute_result"
    }
   ],
   "source": [
    "# dd = hcat(collect.(split(data, '\\n'))...)\n",
    "data = readlines(\"input.txt\")\n",
    "dd = hcat(collect.(data)...)\n",
    "asts = [[i[1], i[2]] for i in CartesianIndices(dd) if dd[i] == '#']"
   ]
  },
  {
   "cell_type": "code",
   "execution_count": 424,
   "metadata": {},
   "outputs": [
    {
     "data": {
      "text/plain": [
       "316-element Array{Array{Float64,1},1}:\n",
       " [1460.0, 317.1210963966614] \n",
       " [1225.0, 323.13010235415595]\n",
       " [1009.0, 331.82140989004085]\n",
       " [905.0, 338.5522636728947]  \n",
       " [865.0, 342.18111108547726] \n",
       " [793.0, 353.8844964337146]  \n",
       " [785.0, 357.95459151111277] \n",
       " [788.0, 4.085616779974885]  \n",
       " [833.0, 14.036243467926482] \n",
       " [1405.0, 316.0809241866607] \n",
       " [1258.0, 319.5739212599009] \n",
       " [1129.0, 323.47114463301483]\n",
       " [1090.0, 324.86580694308435]\n",
       " ⋮                           \n",
       " [32.0, 135.0]               \n",
       " [509.0, 257.19573393471325] \n",
       " [349.0, 254.47588900324575] \n",
       " [314.0, 253.6104596659652]  \n",
       " [250.0, 251.56505117707798] \n",
       " [221.0, 250.34617594194668] \n",
       " [169.0, 247.3801350519596]  \n",
       " [146.0, 245.55604521958347] \n",
       " [41.0, 218.65980825409008]  \n",
       " [26.0, 191.30993247402023]  \n",
       " [29.0, 158.19859051364818]  \n",
       " [34.0, 149.03624346792648]  "
      ]
     },
     "execution_count": 424,
     "metadata": {},
     "output_type": "execute_result"
    }
   ],
   "source": [
    "# 206\n",
    "argmax([a[1] == 12 && a[2] == 14 for a in asts])\n",
    "id = 206\n",
    "\n",
    "# 266\n",
    "id = 266\n",
    "\n",
    "ox = [0, 1]\n",
    "oy = [-1, 0]\n",
    "\n",
    "asts2 = [[a[1] - asts[id][1], a[2] - asts[id][2]] for a in asts]\n",
    "asts3 = [[sp(a, ox), sp(a, oy)] for a in asts2]\n",
    "asts4 = [[a[1]^2 + a[2]^2, atand(a[2], a[1]) + 180] for a in asts3]\n",
    "asts4 = [[a[1], a[2] == 360.0 ? 0.0 : a[2]] for a in asts4]"
   ]
  },
  {
   "cell_type": "code",
   "execution_count": 397,
   "metadata": {},
   "outputs": [
    {
     "data": {
      "text/plain": [
       "isless1 (generic function with 1 method)"
      ]
     },
     "execution_count": 397,
     "metadata": {},
     "output_type": "execute_result"
    }
   ],
   "source": [
    "isless1(x, y) = x[2] < y[2] || (x[2] == y[2] && x[1] < y[1])"
   ]
  },
  {
   "cell_type": "code",
   "execution_count": 425,
   "metadata": {},
   "outputs": [
    {
     "data": {
      "text/plain": [
       "316-element Array{Int64,1}:\n",
       " 176\n",
       " 169\n",
       " 117\n",
       "  89\n",
       "  17\n",
       " 126\n",
       "   8\n",
       "  18\n",
       " 170\n",
       " 185\n",
       " 194\n",
       "  19\n",
       " 127\n",
       "   ⋮\n",
       "  79\n",
       " 115\n",
       "  28\n",
       "   6\n",
       " 184\n",
       "  16\n",
       " 135\n",
       " 116\n",
       "  88\n",
       "  54\n",
       "  29\n",
       "   7"
      ]
     },
     "execution_count": 425,
     "metadata": {},
     "output_type": "execute_result"
    }
   ],
   "source": [
    "p1 = sortperm(asts4, lt = (x, y) -> x[2] < y[2] || (x[2] == y[2] && x[1] < y[1]))"
   ]
  },
  {
   "cell_type": "code",
   "execution_count": 401,
   "metadata": {},
   "outputs": [
    {
     "data": {
      "text/plain": [
       "300-element Array{Array{Float64,1},1}:\n",
       " [1.0, 0.0]                 \n",
       " [4.0, 0.0]                 \n",
       " [9.0, 0.0]                 \n",
       " [16.0, 0.0]                \n",
       " [25.0, 0.0]                \n",
       " [36.0, 0.0]                \n",
       " [49.0, 0.0]                \n",
       " [64.0, 0.0]                \n",
       " [81.0, 0.0]                \n",
       " [100.0, 0.0]               \n",
       " [121.0, 0.0]               \n",
       " [144.0, 0.0]               \n",
       " [145.0, 4.763641690726189] \n",
       " ⋮                          \n",
       " [153.0, 345.9637565320735] \n",
       " [178.0, 347.00538320808346]\n",
       " [85.0, 347.4711922908485]  \n",
       " [26.0, 348.69006752597977] \n",
       " [104.0, 348.69006752597977]\n",
       " [37.0, 350.5376777919744]  \n",
       " [148.0, 350.5376777919744] \n",
       " [173.0, 351.25383773744477]\n",
       " [50.0, 351.86989764584405] \n",
       " [101.0, 354.28940686250036]\n",
       " [122.0, 354.8055710922652] \n",
       " [145.0, 355.2363583092738] "
      ]
     },
     "execution_count": 401,
     "metadata": {},
     "output_type": "execute_result"
    }
   ],
   "source": [
    "asts4[p1]"
   ]
  },
  {
   "cell_type": "code",
   "execution_count": 426,
   "metadata": {},
   "outputs": [
    {
     "data": {
      "text/plain": [
       "316-element Array{Array{Float64,1},1}:\n",
       " [0.0, 1.0]               \n",
       " [0.0, 2.0]               \n",
       " [0.0, 3.0]               \n",
       " [0.0, 4.0]               \n",
       " [2.121096396661443, 1.0] \n",
       " [3.5763343749973444, 1.0]\n",
       " [4.085616779974885, 1.0] \n",
       " [4.236394799058814, 1.0] \n",
       " [4.763641690726189, 1.0] \n",
       " [5.710593137499643, 1.0] \n",
       " [6.340191745909891, 1.0] \n",
       " [6.340191745909891, 2.0] \n",
       " [7.125016348901795, 1.0] \n",
       " ⋮                        \n",
       " [351.86989764584405, 2.0]\n",
       " [353.2901631922431, 1.0] \n",
       " [353.418055344822, 1.0]  \n",
       " [353.8844964337146, 1.0] \n",
       " [354.28940686250036, 1.0]\n",
       " [355.7636052009412, 1.0] \n",
       " [356.18592516570965, 1.0]\n",
       " [356.63353933657015, 1.0]\n",
       " [357.1375947738883, 1.0] \n",
       " [357.5104470780009, 1.0] \n",
       " [357.79740183823424, 1.0]\n",
       " [357.95459151111277, 1.0]"
      ]
     },
     "execution_count": 426,
     "metadata": {},
     "output_type": "execute_result"
    }
   ],
   "source": [
    "asts5 = foldl((x, y) -> push!(x, x[end][1] == y[2] ? [y[2], x[end][2] + 1] : [y[2], 1]), asts4[p1]; init = [[asts4[p1][1][2], 0]])[2:end]"
   ]
  },
  {
   "cell_type": "code",
   "execution_count": 427,
   "metadata": {},
   "outputs": [
    {
     "data": {
      "text/plain": [
       "316-element Array{Int64,1}:\n",
       "   1\n",
       "   5\n",
       "   6\n",
       "   7\n",
       "   8\n",
       "   9\n",
       "  10\n",
       "  11\n",
       "  13\n",
       "  14\n",
       "  15\n",
       "  17\n",
       "  18\n",
       "   ⋮\n",
       " 109\n",
       " 193\n",
       " 292\n",
       " 110\n",
       " 194\n",
       " 293\n",
       " 111\n",
       " 195\n",
       " 112\n",
       " 196\n",
       " 197\n",
       " 198"
      ]
     },
     "execution_count": 427,
     "metadata": {},
     "output_type": "execute_result"
    }
   ],
   "source": [
    "p2 = sortperm(asts5, lt = (x, y) -> x[2] < y[2] || (x[2] == y[2] && x[1] < y[1]))"
   ]
  },
  {
   "cell_type": "code",
   "execution_count": 429,
   "metadata": {},
   "outputs": [
    {
     "data": {
      "text/plain": [
       "1309"
      ]
     },
     "execution_count": 429,
     "metadata": {},
     "output_type": "execute_result"
    }
   ],
   "source": [
    "z = asts[p1][p2][200]\n",
    "(z[1] - 1)*100 + (z[2] - 1)"
   ]
  },
  {
   "cell_type": "code",
   "execution_count": 395,
   "metadata": {},
   "outputs": [
    {
     "data": {
      "text/plain": [
       "2-element Array{Float64,1}:\n",
       " 1.0\n",
       " 0.0"
      ]
     },
     "execution_count": 395,
     "metadata": {},
     "output_type": "execute_result"
    }
   ],
   "source": [
    "asts4[191]"
   ]
  },
  {
   "cell_type": "code",
   "execution_count": 388,
   "metadata": {},
   "outputs": [
    {
     "data": {
      "text/plain": [
       "2-element Array{Int64,1}:\n",
       " -1\n",
       "  0"
      ]
     },
     "execution_count": 388,
     "metadata": {},
     "output_type": "execute_result"
    }
   ],
   "source": [
    "asts3[191]"
   ]
  },
  {
   "cell_type": "code",
   "execution_count": 393,
   "metadata": {},
   "outputs": [
    {
     "data": {
      "text/plain": [
       "90.0"
      ]
     },
     "execution_count": 393,
     "metadata": {},
     "output_type": "execute_result"
    }
   ],
   "source": [
    "atand(1, 0)"
   ]
  },
  {
   "cell_type": "code",
   "execution_count": null,
   "metadata": {},
   "outputs": [],
   "source": []
  }
 ],
 "metadata": {
  "kernelspec": {
   "display_name": "Julia 1.3.0",
   "language": "julia",
   "name": "julia-1.3"
  },
  "language_info": {
   "file_extension": ".jl",
   "mimetype": "application/julia",
   "name": "julia",
   "version": "1.3.0"
  }
 },
 "nbformat": 4,
 "nbformat_minor": 2
}
