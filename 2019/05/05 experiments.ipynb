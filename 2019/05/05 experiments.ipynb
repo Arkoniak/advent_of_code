{
 "cells": [
  {
   "cell_type": "markdown",
   "metadata": {},
   "source": [
    "## Part 1"
   ]
  },
  {
   "cell_type": "code",
   "execution_count": 16,
   "metadata": {},
   "outputs": [
    {
     "data": {
      "text/plain": [
       "Instruction"
      ]
     },
     "execution_count": 16,
     "metadata": {},
     "output_type": "execute_result"
    }
   ],
   "source": [
    "mutable struct Code\n",
    "    code::Vector{Int}\n",
    "    cur::Int\n",
    "    input::Int\n",
    "    output::Int\n",
    "    eop::Bool\n",
    "end\n",
    "\n",
    "str2prog(s) = parse.(Int, split(s, \",\"))\n",
    "\n",
    "Code(s::String) = Code(str2prog(s), 1, 0, 0, false)\n",
    "\n",
    "struct Instruction\n",
    "    op::Int\n",
    "    modes::Vector{Int}\n",
    "end\n",
    "\n",
    "function Instruction(op_code::Int)\n",
    "    ops = Dict{Int, Int}(\n",
    "        1 => 3,\n",
    "        2 => 3,\n",
    "        3 => 1,\n",
    "        4 => 1,\n",
    "        5 => 2,\n",
    "        6 => 2,\n",
    "        7 => 3,\n",
    "        8 => 3,\n",
    "        99 => 0\n",
    "    )\n",
    "    \n",
    "    op = mod(op_code, 100)\n",
    "    modes_code = div(op_code, 100)\n",
    "    modes = zeros(ops[op])\n",
    "    for i in 1:ops[op]\n",
    "        modes[i] = mod(modes_code, 10)\n",
    "        modes_code = div(modes_code, 10)\n",
    "    end\n",
    "    \n",
    "    Instruction(op, modes)\n",
    "end\n",
    "\n",
    "Instruction(code::Code) = Instruction(code.code[code.cur])"
   ]
  },
  {
   "cell_type": "code",
   "execution_count": 66,
   "metadata": {},
   "outputs": [
    {
     "data": {
      "text/plain": [
       "run (generic function with 2 methods)"
      ]
     },
     "execution_count": 66,
     "metadata": {},
     "output_type": "execute_result"
    }
   ],
   "source": [
    "function apply(code::Code, instruction::Instruction)\n",
    "    if instruction.op == 99\n",
    "        code.eop = true\n",
    "    elseif instruction.op == 1\n",
    "        a1 = instruction.modes[1] == 1 ? code.code[code.cur + 1] : code.code[code.code[code.cur + 1] + 1]\n",
    "        a2 = instruction.modes[2] == 1 ? code.code[code.cur + 2] : code.code[code.code[code.cur + 2] + 1]\n",
    "        code.code[code.code[code.cur + 3] + 1] = a1 + a2\n",
    "        code.cur += 4\n",
    "    elseif instruction.op == 2\n",
    "        a1 = instruction.modes[1] == 1 ? code.code[code.cur + 1] : code.code[code.code[code.cur + 1] + 1]\n",
    "        a2 = instruction.modes[2] == 1 ? code.code[code.cur + 2] : code.code[code.code[code.cur + 2] + 1]\n",
    "        code.code[code.code[code.cur + 3] + 1] = a1 * a2\n",
    "        code.cur += 4\n",
    "    elseif instruction.op == 3\n",
    "        code.code[code.code[code.cur + 1] + 1] = code.input\n",
    "        code.cur += 2\n",
    "    elseif instruction.op == 4\n",
    "        code.output = instruction.modes[1] == 1 ? code.code[code.cur + 1] : code.code[code.code[code.cur + 1] + 1]\n",
    "        code.cur += 2\n",
    "    elseif instruction.op == 5\n",
    "        a1 = instruction.modes[1] == 1 ? code.code[code.cur + 1] : code.code[code.code[code.cur + 1] + 1]\n",
    "        a2 = instruction.modes[2] == 1 ? code.code[code.cur + 2] : code.code[code.code[code.cur + 2] + 1]\n",
    "        if a1 != 0 \n",
    "            code.cur = a2 + 1 \n",
    "        else\n",
    "            code.cur += 3\n",
    "        end\n",
    "    elseif instruction.op == 6\n",
    "        a1 = instruction.modes[1] == 1 ? code.code[code.cur + 1] : code.code[code.code[code.cur + 1] + 1]\n",
    "        a2 = instruction.modes[2] == 1 ? code.code[code.cur + 2] : code.code[code.code[code.cur + 2] + 1]\n",
    "        if a1 == 0 \n",
    "            code.cur = a2 + 1 \n",
    "        else\n",
    "            code.cur += 3\n",
    "        end\n",
    "    elseif instruction.op == 7\n",
    "        a1 = instruction.modes[1] == 1 ? code.code[code.cur + 1] : code.code[code.code[code.cur + 1] + 1]\n",
    "        a2 = instruction.modes[2] == 1 ? code.code[code.cur + 2] : code.code[code.code[code.cur + 2] + 1]\n",
    "        a3 = code.code[code.cur + 3] + 1\n",
    "        if a1 < a2\n",
    "            code.code[a3] = 1\n",
    "        else\n",
    "            code.code[a3] = 0\n",
    "        end\n",
    "        code.cur += 4\n",
    "    elseif instruction.op == 8\n",
    "        a1 = instruction.modes[1] == 1 ? code.code[code.cur + 1] : code.code[code.code[code.cur + 1] + 1]\n",
    "        a2 = instruction.modes[2] == 1 ? code.code[code.cur + 2] : code.code[code.code[code.cur + 2] + 1]\n",
    "        a3 = code.code[code.cur + 3] + 1\n",
    "        if a1 == a2\n",
    "            code.code[a3] = 1\n",
    "        else\n",
    "            code.code[a3] = 0\n",
    "        end\n",
    "        code.cur += 4\n",
    "    end\n",
    "end\n",
    "\n",
    "function run(code::Code; verbose = false)\n",
    "    while !code.eop\n",
    "        instruction = Instruction(code)\n",
    "        apply(code, instruction)\n",
    "        if verbose println(code.output) end\n",
    "    end\n",
    "end\n",
    "\n",
    "function run(code::Code, input::Int; verbose = false)\n",
    "    code.input = input\n",
    "    run(code, verbose = verbose)\n",
    "end"
   ]
  },
  {
   "cell_type": "code",
   "execution_count": 18,
   "metadata": {},
   "outputs": [
    {
     "name": "stdout",
     "output_type": "stream",
     "text": [
      "Code([1002, 4, 3, 4, 99], 5, 0, 0, true)\n"
     ]
    }
   ],
   "source": [
    "code = Code(\"1002,4,3,4,33\")\n",
    "run1(code)\n",
    "\n",
    "println(code)"
   ]
  },
  {
   "cell_type": "code",
   "execution_count": 19,
   "metadata": {},
   "outputs": [
    {
     "name": "stdout",
     "output_type": "stream",
     "text": [
      "10\n"
     ]
    }
   ],
   "source": [
    "code = Code(\"3,0,4,0,99\")\n",
    "run1(code, 10)\n",
    "\n",
    "@assert code.output == 10"
   ]
  },
  {
   "cell_type": "code",
   "execution_count": 41,
   "metadata": {},
   "outputs": [
    {
     "data": {
      "text/plain": [
       "Code([3, 225, 1, 225, 6, 6, 1100, 1, 238, 225  …  224, 674, 101, 1, 223, 223, 4, 223, 99, 226], 1, 0, 0, false)"
      ]
     },
     "execution_count": 41,
     "metadata": {},
     "output_type": "execute_result"
    }
   ],
   "source": [
    "code = Code(readlines(\"input.txt\")[1])"
   ]
  },
  {
   "cell_type": "code",
   "execution_count": 42,
   "metadata": {},
   "outputs": [
    {
     "name": "stdout",
     "output_type": "stream",
     "text": [
      "3\n",
      "0\n",
      "0\n",
      "0\n",
      "0\n",
      "0\n",
      "0\n",
      "0\n",
      "0\n",
      "15508323\n"
     ]
    }
   ],
   "source": [
    "run1(code, 1)"
   ]
  },
  {
   "cell_type": "markdown",
   "metadata": {},
   "source": [
    "## Part 2"
   ]
  },
  {
   "cell_type": "code",
   "execution_count": 38,
   "metadata": {},
   "outputs": [
    {
     "name": "stdout",
     "output_type": "stream",
     "text": [
      "0\n"
     ]
    }
   ],
   "source": [
    "code = Code(\"3,9,8,9,10,9,4,9,99,-1,8\")\n",
    "run1(code, 9)\n",
    "\n",
    "@assert code.output == 0"
   ]
  },
  {
   "cell_type": "code",
   "execution_count": 40,
   "metadata": {},
   "outputs": [
    {
     "name": "stdout",
     "output_type": "stream",
     "text": [
      "1\n"
     ]
    }
   ],
   "source": [
    "code = Code(\"3,9,8,9,10,9,4,9,99,-1,8\")\n",
    "run1(code, 8)\n",
    "\n",
    "@assert code.output == 1"
   ]
  },
  {
   "cell_type": "code",
   "execution_count": 46,
   "metadata": {},
   "outputs": [],
   "source": [
    "code = Code(\"3,9,7,9,10,9,4,9,99,-1,8\")\n",
    "run1(code, 6)\n",
    "\n",
    "@assert code.output == 1\n",
    "\n",
    "code = Code(\"3,9,7,9,10,9,4,9,99,-1,8\")\n",
    "run1(code, 8)\n",
    "\n",
    "@assert code.output == 0"
   ]
  },
  {
   "cell_type": "code",
   "execution_count": 53,
   "metadata": {},
   "outputs": [
    {
     "name": "stdout",
     "output_type": "stream",
     "text": [
      "0\n",
      "1\n",
      "1\n"
     ]
    }
   ],
   "source": [
    "code = Code(\"3,12,6,12,15,1,13,14,13,4,13,99,-1,0,1,9\")\n",
    "run1(code, 0)\n",
    "\n",
    "println(code.output)\n",
    "\n",
    "code = Code(\"3,12,6,12,15,1,13,14,13,4,13,99,-1,0,1,9\")\n",
    "run1(code, 1)\n",
    "\n",
    "println(code.output)\n",
    "\n",
    "code = Code(\"3,12,6,12,15,1,13,14,13,4,13,99,-1,0,1,9\")\n",
    "run1(code, -1)\n",
    "\n",
    "println(code.output)"
   ]
  },
  {
   "cell_type": "code",
   "execution_count": 50,
   "metadata": {},
   "outputs": [
    {
     "ename": "BoundsError",
     "evalue": "BoundsError: attempt to access 47-element Array{Int64,1} at index [1000]",
     "output_type": "error",
     "traceback": [
      "BoundsError: attempt to access 47-element Array{Int64,1} at index [1000]",
      "",
      "Stacktrace:",
      " [1] getindex at ./array.jl:728 [inlined]",
      " [2] apply(::Code, ::Instruction) at ./In[45]:18",
      " [3] run1 at ./In[45]:62 [inlined]",
      " [4] run1(::Code, ::Int64) at ./In[45]:68",
      " [5] top-level scope at In[50]:2"
     ]
    }
   ],
   "source": [
    "code = Code(\"3,21,1008,21,8,20,1005,20,22,107,8,21,20,1006,20,31,1106,0,36,98,0,0,1002,21,125,20,4,20,1105,1,46,104,999,1105,1,46,1101,1000,1,20,4,20,1105,1,46,98,99\")\n",
    "\n",
    "run1(code, 7)\n",
    "@assert code.output == 999\n",
    "\n",
    "code = Code(\"3,21,1008,21,8,20,1005,20,22,107,8,21,20,1006,20,31,1106,0,36,98,0,0,1002,21,125,20,4,20,1105,1,46,104,999,1105,1,46,1101,1000,1,20,4,20,1105,1,46,98,99\")\n",
    "\n",
    "run1(code, 8)\n",
    "@assert code.output == 1000\n",
    "\n",
    "code = Code(\"3,21,1008,21,8,20,1005,20,22,107,8,21,20,1006,20,31,1106,0,36,98,0,0,1002,21,125,20,4,20,1105,1,46,104,999,1105,1,46,1101,1000,1,20,4,20,1105,1,46,98,99\")\n",
    "\n",
    "run1(code, 9)\n",
    "@assert code.output == 1001"
   ]
  },
  {
   "cell_type": "code",
   "execution_count": 55,
   "metadata": {},
   "outputs": [],
   "source": [
    "code = Code(readlines(\"input.txt\")[1])\n",
    "run1(code, 5)"
   ]
  },
  {
   "cell_type": "code",
   "execution_count": 56,
   "metadata": {},
   "outputs": [
    {
     "data": {
      "text/plain": [
       "9006327"
      ]
     },
     "execution_count": 56,
     "metadata": {},
     "output_type": "execute_result"
    }
   ],
   "source": [
    "code.output"
   ]
  },
  {
   "cell_type": "code",
   "execution_count": 68,
   "metadata": {},
   "outputs": [
    {
     "name": "stdout",
     "output_type": "stream",
     "text": [
      "2\n",
      "2\n"
     ]
    }
   ],
   "source": [
    "code = Code(\"104,2,99\")\n",
    "run(code, 10, verbose = true)"
   ]
  },
  {
   "cell_type": "code",
   "execution_count": 70,
   "metadata": {},
   "outputs": [
    {
     "name": "stdout",
     "output_type": "stream",
     "text": [
      "0\n",
      "0\n",
      "0\n",
      "0\n",
      "0\n",
      "0\n",
      "0\n",
      "0\n",
      "0\n",
      "0\n",
      "0\n",
      "0\n",
      "0\n",
      "0\n",
      "0\n",
      "0\n",
      "0\n",
      "0\n",
      "0\n",
      "0\n",
      "0\n",
      "0\n",
      "0\n",
      "0\n",
      "0\n",
      "0\n",
      "0\n",
      "0\n",
      "0\n",
      "0\n",
      "0\n",
      "0\n",
      "0\n",
      "0\n",
      "0\n",
      "0\n",
      "0\n",
      "0\n",
      "0\n",
      "0\n",
      "0\n",
      "0\n",
      "0\n",
      "0\n",
      "0\n",
      "0\n",
      "0\n",
      "0\n",
      "0\n",
      "0\n",
      "0\n",
      "0\n",
      "0\n",
      "0\n",
      "0\n",
      "0\n",
      "0\n",
      "0\n",
      "0\n",
      "0\n",
      "15508323\n",
      "15508323\n"
     ]
    }
   ],
   "source": [
    "code = Code(readlines(\"input.txt\")[1])\n",
    "run(code, 1, verbose = true)"
   ]
  },
  {
   "cell_type": "code",
   "execution_count": null,
   "metadata": {},
   "outputs": [],
   "source": []
  }
 ],
 "metadata": {
  "kernelspec": {
   "display_name": "Julia 1.2.0",
   "language": "julia",
   "name": "julia-1.2"
  },
  "language_info": {
   "file_extension": ".jl",
   "mimetype": "application/julia",
   "name": "julia",
   "version": "1.2.0"
  }
 },
 "nbformat": 4,
 "nbformat_minor": 2
}
