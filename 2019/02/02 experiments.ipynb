{
 "cells": [
  {
   "cell_type": "markdown",
   "metadata": {},
   "source": [
    "Let's try it step by step"
   ]
  },
  {
   "cell_type": "code",
   "execution_count": 2,
   "metadata": {},
   "outputs": [
    {
     "data": {
      "text/plain": [
       "12-element Array{Int64,1}:\n",
       "  1\n",
       "  9\n",
       " 10\n",
       "  3\n",
       "  2\n",
       "  3\n",
       " 11\n",
       "  0\n",
       " 99\n",
       " 30\n",
       " 40\n",
       " 50"
      ]
     },
     "execution_count": 2,
     "metadata": {},
     "output_type": "execute_result"
    }
   ],
   "source": [
    "s = \"1,9,10,3,2,3,11,0,99,30,40,50\"\n",
    "s = parse.(Int, split(s, \",\"))"
   ]
  },
  {
   "cell_type": "code",
   "execution_count": 29,
   "metadata": {},
   "outputs": [
    {
     "data": {
      "text/plain": [
       "run_program (generic function with 1 method)"
      ]
     },
     "execution_count": 29,
     "metadata": {},
     "output_type": "execute_result"
    }
   ],
   "source": [
    "function run_program(s)\n",
    "    cur = 1\n",
    "    while true\n",
    "        op = s[cur]\n",
    "        if op == 1\n",
    "            s[s[cur + 3] + 1] = s[s[cur + 1] + 1] + s[s[cur + 2] + 1]\n",
    "            cur += 4\n",
    "        elseif op == 2\n",
    "            s[s[cur + 3] + 1] = s[s[cur + 1] + 1] * s[s[cur + 2] + 1]\n",
    "            cur += 4\n",
    "        elseif op == 99\n",
    "#            println(s)\n",
    "            break\n",
    "        else\n",
    "            println(string(\"Wrong op: \", op))\n",
    "            break\n",
    "        end\n",
    "    end\n",
    "    \n",
    "    return s\n",
    "end"
   ]
  },
  {
   "cell_type": "code",
   "execution_count": 13,
   "metadata": {},
   "outputs": [
    {
     "name": "stdout",
     "output_type": "stream",
     "text": [
      "[3500, 9, 10, 70, 2, 3, 11, 0, 99, 30, 40, 50]\n"
     ]
    }
   ],
   "source": [
    "s = \"1,9,10,3,2,3,11,0,99,30,40,50\"\n",
    "s = parse.(Int, split(s, \",\"))\n",
    "@assert run_program(s) == [3500,9,10,70,2,3,11,0,99,30,40,50]"
   ]
  },
  {
   "cell_type": "code",
   "execution_count": 14,
   "metadata": {},
   "outputs": [
    {
     "name": "stdout",
     "output_type": "stream",
     "text": [
      "[2, 0, 0, 0, 99]\n"
     ]
    }
   ],
   "source": [
    "s = parse.(Int, split(\"1,0,0,0,99\", \",\"))\n",
    "@assert run_program(s) == [2,0,0,0,99]"
   ]
  },
  {
   "cell_type": "code",
   "execution_count": 17,
   "metadata": {},
   "outputs": [
    {
     "name": "stdout",
     "output_type": "stream",
     "text": [
      "[2, 3, 0, 6, 99]\n"
     ]
    }
   ],
   "source": [
    "s = \"2,3,0,3,99\"\n",
    "s = parse.(Int, split(s, \",\"))\n",
    "@assert run_program(s) == [2,3,0,6,99]"
   ]
  },
  {
   "cell_type": "code",
   "execution_count": 18,
   "metadata": {},
   "outputs": [
    {
     "name": "stdout",
     "output_type": "stream",
     "text": [
      "[2, 4, 4, 5, 99, 9801]\n"
     ]
    }
   ],
   "source": [
    "s = \"2,4,4,5,99,0\"\n",
    "s = parse.(Int, split(s, \",\"))\n",
    "@assert run_program(s) == [2,4,4,5,99,9801]"
   ]
  },
  {
   "cell_type": "code",
   "execution_count": 19,
   "metadata": {},
   "outputs": [
    {
     "name": "stdout",
     "output_type": "stream",
     "text": [
      "[30, 1, 1, 4, 2, 5, 6, 0, 99]\n"
     ]
    }
   ],
   "source": [
    "s = \"1,1,1,4,99,5,6,0,99\"\n",
    "s = parse.(Int, split(s, \",\"))\n",
    "@assert run_program(s) == [30,1,1,4,2,5,6,0,99]"
   ]
  },
  {
   "cell_type": "code",
   "execution_count": 24,
   "metadata": {},
   "outputs": [
    {
     "name": "stdout",
     "output_type": "stream",
     "text": [
      "[6568671, 12, 2, 2, 1, 1, 2, 3, 1, 3, 4, 3, 1, 5, 0, 3, 2, 9, 1, 36, 1, 19, 5, 37, 1, 9, 23, 40, 2, 27, 6, 80, 1, 5, 31, 81, 2, 9, 35, 243, 2, 6, 39, 486, 2, 43, 13, 2430, 2, 13, 47, 12150, 1, 10, 51, 12154, 1, 9, 55, 12157, 1, 6, 59, 12159, 2, 63, 9, 36477, 1, 67, 6, 36479, 1, 71, 13, 36484, 1, 6, 75, 36486, 1, 9, 79, 36489, 2, 9, 83, 109467, 1, 87, 6, 109469, 1, 91, 13, 109474, 2, 6, 95, 218948, 1, 10, 99, 218952, 2, 103, 9, 656856, 1, 6, 107, 656858, 1, 10, 111, 656862, 2, 6, 115, 1313724, 1, 5, 119, 1313725, 1, 123, 13, 1313730, 1, 127, 5, 1313731, 1, 6, 131, 1313733, 2, 135, 13, 6568665, 1, 139, 2, 6568667, 1, 143, 10, 0, 99, 2, 0, 14, 0]\n"
     ]
    },
    {
     "data": {
      "text/plain": [
       "6568671"
      ]
     },
     "execution_count": 24,
     "metadata": {},
     "output_type": "execute_result"
    }
   ],
   "source": [
    "s = readlines(\"input.txt\")\n",
    "s = parse.(Int, split(s[1], \",\"))\n",
    "s[2] = 12\n",
    "s[3] = 2\n",
    "\n",
    "# Here goes nothing\n",
    "run_program(s)[1]"
   ]
  },
  {
   "cell_type": "markdown",
   "metadata": {},
   "source": [
    "## Part 2"
   ]
  },
  {
   "cell_type": "code",
   "execution_count": 27,
   "metadata": {},
   "outputs": [
    {
     "data": {
      "text/plain": [
       "update_and_run (generic function with 1 method)"
      ]
     },
     "execution_count": 27,
     "metadata": {},
     "output_type": "execute_result"
    }
   ],
   "source": [
    "function update_and_run(s, noun, verb)\n",
    "    inp = parse.(Int, split(s, \",\"))\n",
    "    inp[2] = noun\n",
    "    inp[3] = verb\n",
    "    \n",
    "    return run_program(inp)[1]\n",
    "end"
   ]
  },
  {
   "cell_type": "code",
   "execution_count": 30,
   "metadata": {},
   "outputs": [],
   "source": [
    "s = readlines(\"input.txt\")[1]\n",
    "@assert update_and_run(s, 12, 2) == 6568671"
   ]
  },
  {
   "cell_type": "code",
   "execution_count": 31,
   "metadata": {},
   "outputs": [
    {
     "name": "stdout",
     "output_type": "stream",
     "text": [
      "3951\n"
     ]
    }
   ],
   "source": [
    "s = readlines(\"input.txt\")[1]\n",
    "\n",
    "for noun in 0:99, verb in 0:99\n",
    "    res = update_and_run(s, noun, verb)\n",
    "    if res == 19690720\n",
    "        println(string(noun*100 + verb))\n",
    "        break\n",
    "    end\n",
    "end"
   ]
  },
  {
   "cell_type": "code",
   "execution_count": null,
   "metadata": {},
   "outputs": [],
   "source": []
  }
 ],
 "metadata": {
  "kernelspec": {
   "display_name": "Julia 1.2.0",
   "language": "julia",
   "name": "julia-1.2"
  },
  "language_info": {
   "file_extension": ".jl",
   "mimetype": "application/julia",
   "name": "julia",
   "version": "1.2.0"
  }
 },
 "nbformat": 4,
 "nbformat_minor": 2
}
