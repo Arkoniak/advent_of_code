{
 "cells": [
  {
   "cell_type": "markdown",
   "metadata": {},
   "source": [
    "## Part 1"
   ]
  },
  {
   "cell_type": "code",
   "execution_count": 7,
   "metadata": {},
   "outputs": [
    {
     "data": {
      "text/plain": [
       "(Base.Fix2{typeof(in),Set{Int64}}(in, Set([2, 3, 5, 1])), Set([3, 1]))"
      ]
     },
     "execution_count": 7,
     "metadata": {},
     "output_type": "execute_result"
    }
   ],
   "source": [
    "in(Set([1, 2, 3, 5])), Set([1, 3])"
   ]
  },
  {
   "cell_type": "code",
   "execution_count": 17,
   "metadata": {},
   "outputs": [
    {
     "data": {
      "text/plain": [
       "5"
      ]
     },
     "execution_count": 17,
     "metadata": {},
     "output_type": "execute_result"
    }
   ],
   "source": [
    "collect(intersect(Set([5, 3]), Set([1, 5])))[1]"
   ]
  },
  {
   "cell_type": "code",
   "execution_count": 2,
   "metadata": {},
   "outputs": [],
   "source": [
    "struct Dot\n",
    "    x::Int\n",
    "    y::Int\n",
    "end\n",
    "\n",
    "function Base.:+(d::Dot, dir::String)\n",
    "    if dir == \"R\"\n",
    "        return Dot(d.x + 1, d.y)\n",
    "    elseif dir == \"L\"\n",
    "        return Dot(d.x - 1, d.y)\n",
    "    elseif dir == \"U\"\n",
    "        return Dot(d.x, d.y + 1)\n",
    "    elseif dir == \"D\"\n",
    "        return Dot(d.x, d.y - 1)\n",
    "    end\n",
    "end\n",
    "\n",
    "function Base.:+(d::Dot, dir::Char)\n",
    "    if dir == 'R'\n",
    "        return Dot(d.x + 1, d.y)\n",
    "    elseif dir == 'L'\n",
    "        return Dot(d.x - 1, d.y)\n",
    "    elseif dir == 'U'\n",
    "        return Dot(d.x, d.y + 1)\n",
    "    elseif dir == 'D'\n",
    "        return Dot(d.x, d.y - 1)\n",
    "    end\n",
    "end"
   ]
  },
  {
   "cell_type": "code",
   "execution_count": 3,
   "metadata": {},
   "outputs": [
    {
     "data": {
      "text/plain": [
       "dist (generic function with 1 method)"
      ]
     },
     "execution_count": 3,
     "metadata": {},
     "output_type": "execute_result"
    }
   ],
   "source": [
    "function dist(d::Dot)\n",
    "    abs(d.x) + abs(d.y)\n",
    "end"
   ]
  },
  {
   "cell_type": "code",
   "execution_count": 50,
   "metadata": {},
   "outputs": [
    {
     "data": {
      "text/plain": [
       "generate_path (generic function with 1 method)"
      ]
     },
     "execution_count": 50,
     "metadata": {},
     "output_type": "execute_result"
    }
   ],
   "source": [
    "function generate_path(s)\n",
    "    cur = Dot(0, 0)\n",
    "    path = Set()\n",
    "    s = split(s, \",\")\n",
    "    for move in s\n",
    "        op = string(move[1])\n",
    "        l = parse(Int, move[2:end])\n",
    "        for i in 1:l\n",
    "            cur += op\n",
    "            push!(path, cur)\n",
    "        end\n",
    "    end\n",
    "    \n",
    "    return path\n",
    "end"
   ]
  },
  {
   "cell_type": "code",
   "execution_count": 54,
   "metadata": {},
   "outputs": [],
   "source": [
    "p1 = generate_path(\"R8,U5,L5,D3\")\n",
    "p2 = generate_path(\"U7,R6,D4,L4\")\n",
    "\n",
    "@assert minimum(dist.(intersect(p1, p2))) == 6"
   ]
  },
  {
   "cell_type": "code",
   "execution_count": 55,
   "metadata": {},
   "outputs": [],
   "source": [
    "p1 = generate_path(\"R75,D30,R83,U83,L12,D49,R71,U7,L72\")\n",
    "p2 = generate_path(\"U62,R66,U55,R34,D71,R55,D58,R83\")\n",
    "\n",
    "@assert minimum(dist.(intersect(p1, p2))) == 159"
   ]
  },
  {
   "cell_type": "code",
   "execution_count": 56,
   "metadata": {},
   "outputs": [],
   "source": [
    "p1 = generate_path(\"R98,U47,R26,D63,R33,U87,L62,D20,R33,U53,R51\")\n",
    "p2 = generate_path(\"U98,R91,D20,R16,D67,R40,U7,R15,U6,R7\")\n",
    "\n",
    "@assert minimum(dist.(intersect(p1, p2))) == 135"
   ]
  },
  {
   "cell_type": "code",
   "execution_count": 57,
   "metadata": {},
   "outputs": [
    {
     "data": {
      "text/plain": [
       "293"
      ]
     },
     "execution_count": 57,
     "metadata": {},
     "output_type": "execute_result"
    }
   ],
   "source": [
    "# Here goes nothing\n",
    "\n",
    "s = readlines(\"input.txt\")\n",
    "p1 = generate_path(s[1])\n",
    "p2 = generate_path(s[2])\n",
    "\n",
    "minimum(dist.(intersect(p1, p2)))"
   ]
  },
  {
   "cell_type": "markdown",
   "metadata": {},
   "source": [
    "## Part 2"
   ]
  },
  {
   "cell_type": "code",
   "execution_count": 4,
   "metadata": {},
   "outputs": [],
   "source": [
    "function generate_path2(s)\n",
    "    cur = Dot(0, 0)\n",
    "    path = Vector{Dot}()\n",
    "    s = split(s, \",\")\n",
    "    for move in s\n",
    "        op = string(move[1])\n",
    "        l = parse(Int, move[2:end])\n",
    "        for i in 1:l\n",
    "            cur += op\n",
    "            push!(path, cur)\n",
    "        end\n",
    "    end\n",
    "    \n",
    "    return path\n",
    "end\n",
    "\n",
    "Base.:collect(d::Dot) = [d]"
   ]
  },
  {
   "cell_type": "code",
   "execution_count": 96,
   "metadata": {},
   "outputs": [
    {
     "data": {
      "text/plain": [
       "find_intersection_length (generic function with 1 method)"
      ]
     },
     "execution_count": 96,
     "metadata": {},
     "output_type": "execute_result"
    }
   ],
   "source": [
    "function find_intersection_length(s1, s2)\n",
    "    p1 = generate_path2(s1)\n",
    "    p2 = generate_path2(s2)\n",
    "    \n",
    "    intersections = intersect(p1, p2)\n",
    "    res = Vector{Int}()\n",
    "    for x in intersections\n",
    "        i1 = minimum(findall(p1 .== x))\n",
    "        i2 = minimum(findall(p2 .== x))\n",
    "        \n",
    "        push!(res, i1 + i2)\n",
    "    end\n",
    "    \n",
    "    return minimum(res)\n",
    "end"
   ]
  },
  {
   "cell_type": "code",
   "execution_count": 100,
   "metadata": {},
   "outputs": [],
   "source": [
    "@assert find_intersection_length(\"R8,U5,L5,D3\", \"U7,R6,D4,L4\") == 30\n",
    "@assert find_intersection_length(\"R75,D30,R83,U83,L12,D49,R71,U7,L72\", \"U62,R66,U55,R34,D71,R55,D58,R83\") == 610\n",
    "@assert find_intersection_length(\"R98,U47,R26,D63,R33,U87,L62,D20,R33,U53,R51\", \"U98,R91,D20,R16,D67,R40,U7,R15,U6,R7\") == 410"
   ]
  },
  {
   "cell_type": "code",
   "execution_count": 101,
   "metadata": {},
   "outputs": [
    {
     "data": {
      "text/plain": [
       "27306"
      ]
     },
     "execution_count": 101,
     "metadata": {},
     "output_type": "execute_result"
    }
   ],
   "source": [
    "# Here goes nothing\n",
    "\n",
    "s = readlines(\"input.txt\")\n",
    "find_intersection_length(s[1], s[2])"
   ]
  },
  {
   "cell_type": "code",
   "execution_count": null,
   "metadata": {},
   "outputs": [],
   "source": []
  }
 ],
 "metadata": {
  "kernelspec": {
   "display_name": "Julia 1.3.0",
   "language": "julia",
   "name": "julia-1.3"
  },
  "language_info": {
   "file_extension": ".jl",
   "mimetype": "application/julia",
   "name": "julia",
   "version": "1.3.0"
  }
 },
 "nbformat": 4,
 "nbformat_minor": 2
}
