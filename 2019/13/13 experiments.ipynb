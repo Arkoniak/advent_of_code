{
 "cells": [
  {
   "cell_type": "markdown",
   "metadata": {},
   "source": [
    "## Part 1"
   ]
  },
  {
   "cell_type": "code",
   "execution_count": 1,
   "metadata": {},
   "outputs": [
    {
     "data": {
      "text/plain": [
       "clear (generic function with 1 method)"
      ]
     },
     "execution_count": 1,
     "metadata": {},
     "output_type": "execute_result"
    }
   ],
   "source": [
    "# states are\n",
    "# 0 - running\n",
    "# 1 - waiting for input\n",
    "# 99 - halt\n",
    "\n",
    "mutable struct Prog\n",
    "    code::Vector{Int}\n",
    "    cur::Int\n",
    "    input::Vector{Int}\n",
    "    output::Vector{Int}\n",
    "    relative_base::Int\n",
    "    state::Int\n",
    "end\n",
    "\n",
    "str2prog(s) = parse.(Int, split(s, \",\"))\n",
    "\n",
    "Prog(s::String) = Prog(vcat(str2prog(s), zeros(Int, 10000)), 1, [], [], 0, 0)\n",
    "\n",
    "struct Instruction\n",
    "    op::Int\n",
    "    modes::Vector{Int}\n",
    "end\n",
    "\n",
    "function Instruction(op_code::Int)\n",
    "    ops = Dict{Int, Int}(\n",
    "        1 => 3,\n",
    "        2 => 3,\n",
    "        3 => 1,\n",
    "        4 => 1,\n",
    "        5 => 2,\n",
    "        6 => 2,\n",
    "        7 => 3,\n",
    "        8 => 3,\n",
    "        9 => 1,\n",
    "        99 => 0\n",
    "    )\n",
    "    \n",
    "    op = mod(op_code, 100)\n",
    "    modes_code = div(op_code, 100)\n",
    "    modes = zeros(ops[op])\n",
    "    for i in 1:ops[op]\n",
    "        modes[i] = mod(modes_code, 10)\n",
    "        modes_code = div(modes_code, 10)\n",
    "    end\n",
    "    \n",
    "    Instruction(op, modes)\n",
    "end\n",
    "\n",
    "Instruction(prog::Prog) = Instruction(prog.code[prog.cur])\n",
    "\n",
    "function take(prog::Prog, mode, offset)\n",
    "    if mode == 0\n",
    "        return prog.code[prog.code[prog.cur + offset] + 1]\n",
    "    elseif mode == 1\n",
    "        return prog.code[prog.cur + offset]\n",
    "    else\n",
    "        return prog.code[prog.code[prog.cur + offset] + prog.relative_base + 1]\n",
    "    end\n",
    "end\n",
    "\n",
    "function update!(prog::Prog, value, offset, mode = 0)\n",
    "    if mode == 0\n",
    "        prog.code[prog.code[prog.cur + offset] + 1] = value\n",
    "    elseif mode == 2\n",
    "        prog.code[prog.code[prog.cur + offset] + prog.relative_base + 1] = value\n",
    "    end\n",
    "end\n",
    "\n",
    "function apply(prog::Prog, instruction::Instruction)\n",
    "    #println(instruction)\n",
    "    if instruction.op == 99\n",
    "        prog.state = 99\n",
    "    elseif instruction.op == 1\n",
    "        a1 = take(prog, instruction.modes[1], 1)\n",
    "        a2 = take(prog, instruction.modes[2], 2)\n",
    "        update!(prog, a1 + a2, 3, instruction.modes[3])\n",
    "        prog.cur += 4\n",
    "    elseif instruction.op == 2\n",
    "        a1 = take(prog, instruction.modes[1], 1)\n",
    "        a2 = take(prog, instruction.modes[2], 2)\n",
    "        update!(prog, a1 * a2, 3, instruction.modes[3])\n",
    "        prog.cur += 4\n",
    "    elseif instruction.op == 3\n",
    "        if isempty(prog.input)\n",
    "            prog.state = 1\n",
    "        else\n",
    "            update!(prog, popfirst!(prog.input), 1, instruction.modes[1])\n",
    "            prog.cur += 2\n",
    "        end\n",
    "    elseif instruction.op == 4\n",
    "        push!(prog.output, take(prog, instruction.modes[1], 1))\n",
    "        prog.cur += 2\n",
    "    elseif instruction.op == 5\n",
    "        a1 = take(prog, instruction.modes[1], 1)\n",
    "        a2 = take(prog, instruction.modes[2], 2)\n",
    "        prog.cur = a1 != 0 ? a2 + 1 : prog.cur + 3\n",
    "    elseif instruction.op == 6\n",
    "        a1 = take(prog, instruction.modes[1], 1)\n",
    "        a2 = take(prog, instruction.modes[2], 2)\n",
    "        prog.cur = a1 == 0 ? a2 + 1 : prog.cur + 3\n",
    "    elseif instruction.op == 7\n",
    "        a1 = take(prog, instruction.modes[1], 1)\n",
    "        a2 = take(prog, instruction.modes[2], 2)\n",
    "        update!(prog, a1 < a2 ? 1 : 0, 3, instruction.modes[3])\n",
    "        prog.cur += 4\n",
    "    elseif instruction.op == 8\n",
    "        a1 = take(prog, instruction.modes[1], 1)\n",
    "        a2 = take(prog, instruction.modes[2], 2)\n",
    "        update!(prog, a1 == a2 ? 1 : 0, 3, instruction.modes[3])\n",
    "        prog.cur += 4\n",
    "    elseif instruction.op == 9\n",
    "        prog.relative_base += take(prog, instruction.modes[1], 1)\n",
    "        prog.cur += 2\n",
    "    end\n",
    "end\n",
    "\n",
    "function run(prog::Prog, input::Vector{Int})\n",
    "    prog.input = input\n",
    "    run(prog)\n",
    "end\n",
    "\n",
    "function run(prog)\n",
    "    while prog.state == 0\n",
    "        instruction = Instruction(prog)\n",
    "        apply(prog, instruction)\n",
    "    end\n",
    "    \n",
    "    prog.output\n",
    "end\n",
    "\n",
    "function feed(prog::Prog, input::Vector{Int})\n",
    "    prog.input = vcat(prog.input, input)\n",
    "    prog.state = 0\n",
    "end\n",
    "\n",
    "clear(prog) = (prog.output = [])"
   ]
  },
  {
   "cell_type": "code",
   "execution_count": 3,
   "metadata": {},
   "outputs": [],
   "source": [
    "bx = readline(\"input.txt\") |> Prog |> run\n",
    "board = Dict{Tuple{Int, Int}, Int}()\n",
    "for i in 0:(div(length(bx), 3) - 1)\n",
    "    board[(bx[3*i + 1], bx[3*i + 2])] = bx[3*i + 3]\n",
    "end"
   ]
  },
  {
   "cell_type": "code",
   "execution_count": 9,
   "metadata": {},
   "outputs": [
    {
     "name": "stdout",
     "output_type": "stream",
     "text": [
      "Part 1 = 298\n"
     ]
    }
   ],
   "source": [
    "println(\"Part 1 = \", sum(values(board) .== 2))"
   ]
  },
  {
   "cell_type": "code",
   "execution_count": 35,
   "metadata": {},
   "outputs": [
    {
     "data": {
      "text/plain": [
       "draw (generic function with 1 method)"
      ]
     },
     "execution_count": 35,
     "metadata": {},
     "output_type": "execute_result"
    }
   ],
   "source": [
    "struct Board\n",
    "    tl::Tuple{Int, Int}\n",
    "    br::Tuple{Int, Int}\n",
    "    b::Dict{Tuple{Int, Int}, Int}\n",
    "end\n",
    "\n",
    "function Board(inp::Vector{Int})\n",
    "    board = Dict{Tuple{Int, Int}, Int}()\n",
    "    for i in 0:(div(length(inp), 3) - 1)\n",
    "        board[(inp[3*i + 1], inp[3*i + 2])] = inp[3*i + 3]\n",
    "    end\n",
    "    tlx = minimum([p[1] for p in keys(board)])\n",
    "    tly = minimum([p[2] for p in keys(board)])\n",
    "    brx = maximum([p[1] for p in keys(board)])\n",
    "    bry = maximum([p[2] for p in keys(board)])\n",
    "\n",
    "    Board((tlx, tly), (brx, bry), board)\n",
    "end\n",
    "\n",
    "width(b::Board) = b.br[1] - b.tl[1] + 1\n",
    "height(b::Board) = b.br[2] - b.tl[2] + 1\n",
    "\n",
    "function draw(b::Board)\n",
    "    chars = Dict(\n",
    "        0 => ' ',\n",
    "        1 => 'x',\n",
    "        2 => '☐',\n",
    "        3 => '_',\n",
    "        4 => '⚫'\n",
    "    )\n",
    "    canvas = zeros(Int, height(b), width(b))\n",
    "    for (k, v) in b.b\n",
    "        canvas[k[2] - b.tl[2] + 1, k[1] - b.tl[1] + 1] = v\n",
    "    end\n",
    "    canvas = map(x -> chars[x], canvas)\n",
    "    for i in 1:height(b)\n",
    "        println(join(canvas[i, :]))\n",
    "    end\n",
    "end"
   ]
  },
  {
   "cell_type": "code",
   "execution_count": 24,
   "metadata": {},
   "outputs": [
    {
     "data": {
      "text/plain": [
       "Board((0, 0), (39, 25), Dict((8, 23) => 0,(21, 13) => 0,(23, 10) => 0,(14, 0) => 1,(30, 21) => 0,(4, 5) => 0,(18, 21) => 4,(6, 18) => 2,(36, 8) => 0,(1, 22) => 0…))"
      ]
     },
     "execution_count": 24,
     "metadata": {},
     "output_type": "execute_result"
    }
   ],
   "source": [
    "bx = readline(\"input.txt\") |> Prog |> run\n",
    "b = Board(bx)"
   ]
  },
  {
   "cell_type": "code",
   "execution_count": 27,
   "metadata": {},
   "outputs": [
    {
     "name": "stdout",
     "output_type": "stream",
     "text": [
      "xxxxxxxxxxxxxxxxxxxxxxxxxxxxxxxxxxxxxxxx\n",
      "x                                      x\n",
      "x         ☐☐ ☐  ☐ ☐☐☐ ☐ ☐ ☐☐   ☐☐☐ ☐   x\n",
      "x ☐☐ ☐ ☐  ☐   ☐☐☐   ☐ ☐   ☐☐   ☐   ☐ ☐ x\n",
      "x ☐ ☐ ☐ ☐☐☐  ☐     ☐   ☐ ☐ ☐☐ ☐☐ ☐☐☐☐  x\n",
      "x      ☐☐☐☐  ☐      ☐ ☐☐  ☐☐☐☐☐☐☐ ☐☐☐☐ x\n",
      "x ☐  ☐     ☐     ☐☐  ☐☐☐   ☐☐☐ ☐   ☐   x\n",
      "x  ☐       ☐☐☐☐    ☐  ☐ ☐   ☐☐☐☐ ☐☐☐☐  x\n",
      "x ☐☐    ☐☐ ☐   ☐☐☐ ☐   ☐     ☐☐ ☐☐☐    x\n",
      "x     ☐ ☐  ☐☐☐☐ ☐☐  ☐  ☐☐ ☐☐☐  ☐☐   ☐  x\n",
      "x   ☐ ☐ ☐ ☐  ☐☐☐☐   ☐ ☐ ☐☐☐  ☐☐☐   ☐   x\n",
      "x  ☐   ☐☐☐ ☐   ☐☐       ☐☐ ☐ ☐ ☐☐☐☐☐   x\n",
      "x  ☐☐☐☐ ☐   ☐☐☐☐ ☐ ☐☐ ☐ ☐  ☐   ☐☐   ☐  x\n",
      "x ☐  ☐☐   ☐  ☐   ☐ ☐       ☐☐ ☐ ☐☐☐ ☐  x\n",
      "x ☐ ☐ ☐ ☐ ☐ ☐   ☐ ☐☐ ☐☐☐☐☐  ☐☐ ☐☐☐ ☐   x\n",
      "x  ☐☐   ☐    ☐  ☐☐ ☐☐☐  ☐☐☐☐☐☐ ☐ ☐☐  ☐ x\n",
      "x ☐☐☐ ☐   ☐☐☐☐  ☐☐☐   ☐☐☐ ☐ ☐ ☐ ☐☐   ☐ x\n",
      "x     ☐☐☐  ☐ ☐☐   ☐  ☐☐☐☐  ☐   ☐ ☐  ☐  x\n",
      "x   ☐ ☐☐ ☐☐☐☐     ☐☐ ☐  ☐ ☐☐☐☐☐ ☐☐☐    x\n",
      "x ☐☐☐      ☐ ☐ ☐ ☐☐     ☐ ☐   ☐     ☐  x\n",
      "x                                      x\n",
      "x                 ⚫                    x\n",
      "x                                      x\n",
      "x                                      x\n",
      "x                   _                  x\n",
      "x                                      x\n"
     ]
    }
   ],
   "source": [
    "draw(b)"
   ]
  },
  {
   "cell_type": "code",
   "execution_count": 32,
   "metadata": {},
   "outputs": [
    {
     "data": {
      "text/plain": [
       "Board((-1, 0), (39, 25), Dict((8, 23) => 0,(21, 13) => 0,(23, 10) => 0,(14, 0) => 1,(30, 21) => 0,(4, 5) => 0,(18, 21) => 4,(6, 18) => 2,(36, 8) => 0,(1, 22) => 0…))"
      ]
     },
     "execution_count": 32,
     "metadata": {},
     "output_type": "execute_result"
    }
   ],
   "source": [
    "code = collect(readline(\"input.txt\"))\n",
    "code[1] = '2'\n",
    "prog = Prog(join(code))\n",
    "bx = run(prog)\n",
    "b = Board(bx)"
   ]
  },
  {
   "cell_type": "code",
   "execution_count": 36,
   "metadata": {},
   "outputs": [
    {
     "name": "stdout",
     "output_type": "stream",
     "text": [
      " xxxxxxxxxxxxxxxxxxxxxxxxxxxxxxxxxxxxxxxx\n",
      " x                                      x\n",
      " x         ☐☐ ☐  ☐ ☐☐☐ ☐ ☐ ☐☐   ☐☐☐ ☐   x\n",
      " x ☐☐ ☐ ☐  ☐   ☐☐☐   ☐ ☐   ☐☐   ☐   ☐ ☐ x\n",
      " x ☐ ☐ ☐ ☐☐☐  ☐     ☐   ☐ ☐ ☐☐ ☐☐ ☐☐☐☐  x\n",
      " x      ☐☐☐☐  ☐      ☐ ☐☐  ☐☐☐☐☐☐☐ ☐☐☐☐ x\n",
      " x ☐  ☐     ☐     ☐☐  ☐☐☐   ☐☐☐ ☐   ☐   x\n",
      " x  ☐       ☐☐☐☐    ☐  ☐ ☐   ☐☐☐☐ ☐☐☐☐  x\n",
      " x ☐☐    ☐☐ ☐   ☐☐☐ ☐   ☐     ☐☐ ☐☐☐    x\n",
      " x     ☐ ☐  ☐☐☐☐ ☐☐  ☐  ☐☐ ☐☐☐  ☐☐   ☐  x\n",
      " x   ☐ ☐ ☐ ☐  ☐☐☐☐   ☐ ☐ ☐☐☐  ☐☐☐   ☐   x\n",
      " x  ☐   ☐☐☐ ☐   ☐☐       ☐☐ ☐ ☐ ☐☐☐☐☐   x\n",
      " x  ☐☐☐☐ ☐   ☐☐☐☐ ☐ ☐☐ ☐ ☐  ☐   ☐☐   ☐  x\n",
      " x ☐  ☐☐   ☐  ☐   ☐ ☐       ☐☐ ☐ ☐☐☐ ☐  x\n",
      " x ☐ ☐ ☐ ☐ ☐ ☐   ☐ ☐☐ ☐☐☐☐☐  ☐☐ ☐☐☐ ☐   x\n",
      " x  ☐☐   ☐    ☐  ☐☐ ☐☐☐  ☐☐☐☐☐☐ ☐ ☐☐  ☐ x\n",
      " x ☐☐☐ ☐   ☐☐☐☐  ☐☐☐   ☐☐☐ ☐ ☐ ☐ ☐☐   ☐ x\n",
      " x     ☐☐☐  ☐ ☐☐   ☐  ☐☐☐☐  ☐   ☐ ☐  ☐  x\n",
      " x   ☐ ☐☐ ☐☐☐☐     ☐☐ ☐  ☐ ☐☐☐☐☐ ☐☐☐    x\n",
      " x ☐☐☐      ☐ ☐ ☐ ☐☐     ☐ ☐   ☐     ☐  x\n",
      " x                                      x\n",
      " x                 ⚫                    x\n",
      " x                                      x\n",
      " x                                      x\n",
      " x                   _                  x\n",
      " x                                      x\n"
     ]
    }
   ],
   "source": [
    "draw(b)"
   ]
  },
  {
   "cell_type": "code",
   "execution_count": 39,
   "metadata": {},
   "outputs": [
    {
     "name": "stdout",
     "output_type": "stream",
     "text": [
      " xxxxxxxxxxxxxxxxxxxxxxxxxxxxxxxxxxxxxxxx\n",
      " x                                      x\n",
      " x         ☐☐ ☐  ☐ ☐☐☐ ☐ ☐ ☐☐   ☐☐☐ ☐   x\n",
      " x ☐☐ ☐ ☐  ☐   ☐☐☐   ☐ ☐   ☐☐   ☐   ☐ ☐ x\n",
      " x ☐ ☐ ☐ ☐☐☐  ☐     ☐   ☐ ☐ ☐☐ ☐☐ ☐☐☐☐  x\n",
      " x      ☐☐☐☐  ☐      ☐ ☐☐  ☐☐☐☐☐☐☐ ☐☐☐☐ x\n",
      " x ☐  ☐     ☐     ☐☐  ☐☐☐   ☐☐☐ ☐   ☐   x\n",
      " x  ☐       ☐☐☐☐    ☐  ☐ ☐   ☐☐☐☐ ☐☐☐☐  x\n",
      " x ☐☐    ☐☐ ☐   ☐☐☐ ☐   ☐     ☐☐ ☐☐☐    x\n",
      " x     ☐ ☐  ☐☐☐☐ ☐☐  ☐  ☐☐ ☐☐☐  ☐☐   ☐  x\n",
      " x   ☐ ☐ ☐ ☐  ☐☐☐☐   ☐ ☐ ☐☐☐  ☐☐☐   ☐   x\n",
      " x  ☐   ☐☐☐ ☐   ☐☐       ☐☐ ☐ ☐ ☐☐☐☐☐   x\n",
      " x  ☐☐☐☐ ☐   ☐☐☐☐ ☐ ☐☐ ☐ ☐  ☐   ☐☐   ☐  x\n",
      " x ☐  ☐☐   ☐  ☐   ☐ ☐       ☐☐ ☐ ☐☐☐ ☐  x\n",
      " x ☐ ☐ ☐ ☐ ☐ ☐   ☐ ☐☐ ☐☐☐☐☐  ☐☐ ☐☐☐ ☐   x\n",
      " x  ☐☐   ☐    ☐  ☐☐ ☐☐☐  ☐☐☐☐☐☐ ☐ ☐☐  ☐ x\n",
      " x ☐☐☐ ☐   ☐☐☐☐  ☐☐☐   ☐☐☐ ☐ ☐ ☐ ☐☐   ☐ x\n",
      " x     ☐☐☐  ☐ ☐☐   ☐  ☐☐☐☐  ☐   ☐ ☐  ☐  x\n",
      " x   ☐ ☐☐ ☐☐☐☐     ☐☐ ☐  ☐ ☐☐☐☐☐ ☐☐☐    x\n",
      " x ☐☐☐      ☐ ☐ ☐ ☐☐     ☐ ☐   ☐     ☐  x\n",
      " x                                      x\n",
      " x                                      x\n",
      " x                  ⚫                   x\n",
      " x                                      x\n",
      " x                  _                   x\n",
      " x                                      x\n"
     ]
    }
   ],
   "source": [
    "feed(prog, [-1])\n",
    "bx = run(prog)\n",
    "b = Board(bx)\n",
    "draw(b)"
   ]
  },
  {
   "cell_type": "code",
   "execution_count": 18,
   "metadata": {},
   "outputs": [
    {
     "name": "stdout",
     "output_type": "stream",
     "text": [
      "3:4\n",
      "1:2\n"
     ]
    }
   ],
   "source": [
    "for (k, v) in d\n",
    "    println(k, \":\", v)\n",
    "end"
   ]
  },
  {
   "cell_type": "code",
   "execution_count": null,
   "metadata": {},
   "outputs": [],
   "source": []
  }
 ],
 "metadata": {
  "kernelspec": {
   "display_name": "Julia 1.3.0",
   "language": "julia",
   "name": "julia-1.3"
  },
  "language_info": {
   "file_extension": ".jl",
   "mimetype": "application/julia",
   "name": "julia",
   "version": "1.3.0"
  }
 },
 "nbformat": 4,
 "nbformat_minor": 2
}
