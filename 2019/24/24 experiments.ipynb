{
 "cells": [
  {
   "cell_type": "code",
   "execution_count": 21,
   "metadata": {},
   "outputs": [
    {
     "data": {
      "text/plain": [
       "read_data (generic function with 2 methods)"
      ]
     },
     "execution_count": 21,
     "metadata": {},
     "output_type": "execute_result"
    }
   ],
   "source": [
    "function read_data(inp = \"input.txt\")\n",
    "    arr = hcat(collect.(readlines(inp))...)\n",
    "    arr = map(x -> x == '.' ? 0 : 1, arr)\n",
    "    println(size(arr))\n",
    "    arr0 = zeros(Int, size(arr)[1] + 2, size(arr)[2] + 2)\n",
    "    arr0[2:(size(arr)[1] + 1), 2:(size(arr)[2] + 1)] .= arr\n",
    "    arr0\n",
    "end"
   ]
  },
  {
   "cell_type": "code",
   "execution_count": 22,
   "metadata": {},
   "outputs": [
    {
     "name": "stdout",
     "output_type": "stream",
     "text": [
      "(5, 5)\n"
     ]
    },
    {
     "data": {
      "text/plain": [
       "7×7 Array{Int64,2}:\n",
       " 0  0  0  0  0  0  0\n",
       " 0  1  0  1  1  0  0\n",
       " 0  1  1  1  0  1  0\n",
       " 0  0  0  0  1  1  0\n",
       " 0  1  1  0  0  1  0\n",
       " 0  1  1  1  0  0  0\n",
       " 0  0  0  0  0  0  0"
      ]
     },
     "execution_count": 22,
     "metadata": {},
     "output_type": "execute_result"
    }
   ],
   "source": [
    "read_data()"
   ]
  },
  {
   "cell_type": "code",
   "execution_count": 47,
   "metadata": {},
   "outputs": [
    {
     "data": {
      "text/plain": [
       "biodiversity (generic function with 1 method)"
      ]
     },
     "execution_count": 47,
     "metadata": {},
     "output_type": "execute_result"
    }
   ],
   "source": [
    "function tick(arr)\n",
    "    arr0 = copy(arr)\n",
    "    dirs = [[1, 0], [0, 1], [-1, 0], [0, -1]]\n",
    "    for i in 2:6, j in 2:6\n",
    "        adj = sum([arr[i + d[1], j + d[2]] for d in dirs])\n",
    "        if arr[i, j] == 0 && (adj == 1 || adj == 2) arr0[i, j] = 1 end\n",
    "        if arr[i, j] == 1 && adj != 1 arr0[i, j] = 0 end\n",
    "    end\n",
    "    \n",
    "    arr0\n",
    "end\n",
    "\n",
    "function biodiversity(arr)\n",
    "    arr = arr[2:6, 2:6]\n",
    "    res = 0\n",
    "    for i in 1:5\n",
    "        for j in 1:5\n",
    "            res += arr[i, j] * 2^((j - 1)*5 + i - 1)\n",
    "        end\n",
    "    end\n",
    "    res\n",
    "end"
   ]
  },
  {
   "cell_type": "code",
   "execution_count": 48,
   "metadata": {},
   "outputs": [
    {
     "data": {
      "text/plain": [
       "showgrid (generic function with 1 method)"
      ]
     },
     "execution_count": 48,
     "metadata": {},
     "output_type": "execute_result"
    }
   ],
   "source": [
    "function showgrid(arr)\n",
    "    for j in 2:6\n",
    "        for i in 2:6\n",
    "            print(arr[i, j] == 0 ? '.' : '#')\n",
    "        end\n",
    "        print(\"\\n\")\n",
    "    end\n",
    "end"
   ]
  },
  {
   "cell_type": "code",
   "execution_count": 53,
   "metadata": {},
   "outputs": [
    {
     "data": {
      "text/plain": [
       "part1 (generic function with 1 method)"
      ]
     },
     "execution_count": 53,
     "metadata": {},
     "output_type": "execute_result"
    }
   ],
   "source": [
    "function part1()\n",
    "    arr = read_data()\n",
    "    bios = Set{Int}()\n",
    "    while true\n",
    "        bio = biodiversity(arr)\n",
    "        if !(bio in bios)\n",
    "            push!(bios, bio)\n",
    "        else\n",
    "            println(\"Part 1: \", bio)\n",
    "            break\n",
    "        end\n",
    "        arr = tick(arr)\n",
    "    end\n",
    "end"
   ]
  },
  {
   "cell_type": "code",
   "execution_count": 54,
   "metadata": {},
   "outputs": [
    {
     "name": "stdout",
     "output_type": "stream",
     "text": [
      "(5, 5)\n",
      "Part 1: 23846449\n"
     ]
    }
   ],
   "source": [
    "part1()"
   ]
  },
  {
   "cell_type": "code",
   "execution_count": 49,
   "metadata": {},
   "outputs": [
    {
     "name": "stdout",
     "output_type": "stream",
     "text": [
      "(5, 5)\n",
      ".....\n",
      ".....\n",
      ".....\n",
      "#....\n",
      ".#...\n"
     ]
    }
   ],
   "source": [
    "arr = read_data(\"test2.txt\")\n",
    "showgrid(arr)"
   ]
  },
  {
   "cell_type": "code",
   "execution_count": 39,
   "metadata": {},
   "outputs": [
    {
     "name": "stdout",
     "output_type": "stream",
     "text": [
      "#..#.\n",
      "####.\n",
      "###.#\n",
      "##.##\n",
      ".##..\n"
     ]
    }
   ],
   "source": [
    "showgrid(tick(arr))"
   ]
  },
  {
   "cell_type": "code",
   "execution_count": 50,
   "metadata": {},
   "outputs": [
    {
     "data": {
      "text/plain": [
       "2129920"
      ]
     },
     "execution_count": 50,
     "metadata": {},
     "output_type": "execute_result"
    }
   ],
   "source": [
    "biodiversity(arr)"
   ]
  },
  {
   "cell_type": "markdown",
   "metadata": {},
   "source": [
    "## Part 2"
   ]
  },
  {
   "cell_type": "code",
   "execution_count": 13,
   "metadata": {},
   "outputs": [
    {
     "data": {
      "text/plain": [
       "read_data (generic function with 2 methods)"
      ]
     },
     "execution_count": 13,
     "metadata": {},
     "output_type": "execute_result"
    }
   ],
   "source": [
    "struct Cell\n",
    "    x::Int\n",
    "    y::Int\n",
    "    d::Int\n",
    "end\n",
    "\n",
    "function neighbours(c::Cell)\n",
    "    res = Cell[]\n",
    "    dirs = [[0, 1], [1, 0], [0, -1], [-1, 0]]\n",
    "    for d in dirs\n",
    "        x1 = c.x + d[1]\n",
    "        y1 = c.y + d[2]\n",
    "        if x1 == 0\n",
    "            push!(res, Cell(2, 3, c.d - 1))\n",
    "        elseif x1 == 6\n",
    "            push!(res, Cell(4, 3, c.d - 1))\n",
    "        elseif y1 == 0\n",
    "            push!(res, Cell(3, 2, c.d - 1))\n",
    "        elseif y1 == 6\n",
    "            push!(res, Cell(3, 4, c.d - 1))\n",
    "        elseif x1 == 3 && y1 == 3\n",
    "            if c.x == 2\n",
    "                append!(res, [\n",
    "                        Cell(1, 1, c.d + 1),\n",
    "                        Cell(1, 2, c.d + 1),\n",
    "                        Cell(1, 3, c.d + 1),\n",
    "                        Cell(1, 4, c.d + 1),\n",
    "                        Cell(1, 5, c.d + 1)\n",
    "                        ])\n",
    "            elseif c.x == 4\n",
    "                append!(res, [\n",
    "                        Cell(5, 1, c.d + 1),\n",
    "                        Cell(5, 2, c.d + 1),\n",
    "                        Cell(5, 3, c.d + 1),\n",
    "                        Cell(5, 4, c.d + 1),\n",
    "                        Cell(5, 5, c.d + 1)\n",
    "                        ])\n",
    "            elseif c.y == 2\n",
    "                append!(res, [\n",
    "                        Cell(1, 1, c.d + 1),\n",
    "                        Cell(2, 1, c.d + 1),\n",
    "                        Cell(3, 1, c.d + 1),\n",
    "                        Cell(4, 1, c.d + 1),\n",
    "                        Cell(5, 1, c.d + 1)\n",
    "                        ])\n",
    "            else\n",
    "                append!(res, [\n",
    "                        Cell(1, 5, c.d + 1),\n",
    "                        Cell(2, 5, c.d + 1),\n",
    "                        Cell(3, 5, c.d + 1),\n",
    "                        Cell(4, 5, c.d + 1),\n",
    "                        Cell(5, 5, c.d + 1)\n",
    "                        ])\n",
    "            end\n",
    "        else\n",
    "            push!(res, Cell(x1, y1, c.d))\n",
    "        end\n",
    "    end\n",
    "    res\n",
    "end\n",
    "\n",
    "function read_data(inp = \"input.txt\")\n",
    "    arr = hcat(collect.(readlines(inp))...)\n",
    "    arr0 = Set{Cell}()\n",
    "    for i in 1:5, j in 1:5\n",
    "        if arr[i, j] == '#' push!(arr0, Cell(i, j, 0)) end\n",
    "    end\n",
    "    arr0\n",
    "end"
   ]
  },
  {
   "cell_type": "code",
   "execution_count": 58,
   "metadata": {},
   "outputs": [
    {
     "data": {
      "text/plain": [
       "Set(Cell[Cell(1, 4, 0), Cell(2, 5, 0)])"
      ]
     },
     "execution_count": 58,
     "metadata": {},
     "output_type": "execute_result"
    }
   ],
   "source": [
    "arr = read_data(\"test2.txt\")"
   ]
  },
  {
   "cell_type": "code",
   "execution_count": 18,
   "metadata": {},
   "outputs": [
    {
     "data": {
      "text/plain": [
       "tick (generic function with 1 method)"
      ]
     },
     "execution_count": 18,
     "metadata": {},
     "output_type": "execute_result"
    }
   ],
   "source": [
    "function tick(arr)\n",
    "    res = Set{Cell}()\n",
    "    mind, maxd = [f([c.d for c in arr]) for f in (x -> minimum(x) - 1, x -> maximum(x) + 1)]\n",
    "    for d in mind:maxd\n",
    "        for i in 1:5, j in 1:5\n",
    "            if i == 3 && j == 3 continue end\n",
    "            c = Cell(i, j, d)\n",
    "            adj = sum([neighbour in arr for neighbour in neighbours(c)])\n",
    "            if (c in arr) && (adj == 1) push!(res, c) end\n",
    "            if !(c in arr) && ((adj == 1) || (adj == 2)1) push!(res, c) end\n",
    "        end\n",
    "    end\n",
    "    \n",
    "    res\n",
    "end"
   ]
  },
  {
   "cell_type": "code",
   "execution_count": 3,
   "metadata": {},
   "outputs": [
    {
     "data": {
      "text/plain": [
       "show_grid (generic function with 1 method)"
      ]
     },
     "execution_count": 3,
     "metadata": {},
     "output_type": "execute_result"
    }
   ],
   "source": [
    "function show_grid(arr)\n",
    "    mind, maxd = [f([c.d for c in arr]) for f in (minimum, maximum)]\n",
    "    for d in mind:maxd\n",
    "        println(\"Depth: \", d)\n",
    "        for j in 1:5\n",
    "            for i in 1:5\n",
    "                Cell(i, j, d) in arr ? print('#') : print('.')\n",
    "            end\n",
    "            print(\"\\n\")\n",
    "        end\n",
    "        println(\"=============\")\n",
    "    end\n",
    "end"
   ]
  },
  {
   "cell_type": "code",
   "execution_count": 92,
   "metadata": {},
   "outputs": [
    {
     "data": {
      "text/plain": [
       "Set(Cell[Cell(1, 3, 0), Cell(1, 4, 0), Cell(4, 5, 0), Cell(4, 2, 0), Cell(2, 3, 0), Cell(5, 2, 0), Cell(2, 1, 0), Cell(5, 3, 0), Cell(2, 2, 0), Cell(5, 1, 0), Cell(3, 5, 0), Cell(1, 1, 0), Cell(3, 4, 0), Cell(4, 1, 0), Cell(2, 5, 0)])"
      ]
     },
     "execution_count": 92,
     "metadata": {},
     "output_type": "execute_result"
    }
   ],
   "source": [
    "arr = read_data()"
   ]
  },
  {
   "cell_type": "code",
   "execution_count": 95,
   "metadata": {},
   "outputs": [
    {
     "name": "stdout",
     "output_type": "stream",
     "text": [
      "Depth: -1\n",
      ".....\n",
      ".....\n",
      ".....\n",
      ".....\n",
      ".####\n",
      "=============\n",
      "Depth: 0\n",
      ".....\n",
      "..#..\n",
      "...##\n",
      "..###\n",
      ".#.##\n",
      "=============\n"
     ]
    }
   ],
   "source": [
    "show_grid(tick(arr))"
   ]
  },
  {
   "cell_type": "code",
   "execution_count": 22,
   "metadata": {},
   "outputs": [
    {
     "data": {
      "text/plain": [
       "part2 (generic function with 1 method)"
      ]
     },
     "execution_count": 22,
     "metadata": {},
     "output_type": "execute_result"
    }
   ],
   "source": [
    "function part2()\n",
    "    arr = read_data(\"input.txt\")\n",
    "    for i in 1:200\n",
    "        arr = tick(arr)\n",
    "    end\n",
    "    println(\"Part 2: \", length(arr))\n",
    "end"
   ]
  },
  {
   "cell_type": "code",
   "execution_count": 23,
   "metadata": {},
   "outputs": [
    {
     "name": "stdout",
     "output_type": "stream",
     "text": [
      "Part 2: 1934\n"
     ]
    }
   ],
   "source": [
    "part2()"
   ]
  },
  {
   "cell_type": "code",
   "execution_count": 14,
   "metadata": {},
   "outputs": [
    {
     "data": {
      "text/plain": [
       "Set(Cell[Cell(1, 2, 0), Cell(4, 2, 0), Cell(4, 3, 0), Cell(5, 1, 0), Cell(1, 5, 0), Cell(3, 4, 0), Cell(1, 3, 0), Cell(5, 3, 0)])"
      ]
     },
     "execution_count": 14,
     "metadata": {},
     "output_type": "execute_result"
    }
   ],
   "source": [
    "arr = read_data(\"test.txt\")"
   ]
  },
  {
   "cell_type": "code",
   "execution_count": 15,
   "metadata": {},
   "outputs": [
    {
     "data": {
      "text/plain": [
       "4-element Array{Cell,1}:\n",
       " Cell(1, 2, 0) \n",
       " Cell(2, 1, 0) \n",
       " Cell(3, 2, -1)\n",
       " Cell(2, 3, -1)"
      ]
     },
     "execution_count": 15,
     "metadata": {},
     "output_type": "execute_result"
    }
   ],
   "source": [
    "neighbours(Cell(1, 1, 0))"
   ]
  },
  {
   "cell_type": "markdown",
   "metadata": {},
   "source": [
    "## Misc"
   ]
  },
  {
   "cell_type": "code",
   "execution_count": 1,
   "metadata": {},
   "outputs": [],
   "source": [
    "abstract type AbstractCell end\n",
    "abstract type AbstractGrid end\n",
    "\n",
    "adjacent(cell::S, grid::T) where {T <: AbstractGrid, S <: AbstractCell} = throw(\"Unimplemented\")\n",
    "rule(cell::S, neighbours::Vector{S}, grid::T) where {T <: AbstractGrid, S <: AbstractCell} = throw(\"Unimplemented\")\n",
    "Base.:in(cell::S, grid::T) where {T <: AbstractGrid, S <: AbstractCell} = cell in grid.set\n",
    "Base.:push!(cell::S, grid::T) where {T <: AbstractGrid, S <: AbstractCell} = push!(grid.set, cell)\n",
    "cells()"
   ]
  },
  {
   "cell_type": "code",
   "execution_count": null,
   "metadata": {},
   "outputs": [],
   "source": [
    "Base.:iterate()"
   ]
  },
  {
   "cell_type": "code",
   "execution_count": 8,
   "metadata": {},
   "outputs": [
    {
     "data": {
      "text/plain": [
       "tick (generic function with 1 method)"
      ]
     },
     "execution_count": 8,
     "metadata": {},
     "output_type": "execute_result"
    }
   ],
   "source": [
    "function tick(grid::T) where T <: AbstractGrid\n",
    "    res = T(grid)\n",
    "    for cell in cells(grid)\n",
    "        adj = [neighbour for neighbour in adjacent(cell, grid) if neighbour in grid]\n",
    "        if rule(cell, grid, adj) push!(cell, res) end\n",
    "    end\n",
    "    \n",
    "    res\n",
    "end"
   ]
  },
  {
   "cell_type": "code",
   "execution_count": 6,
   "metadata": {},
   "outputs": [
    {
     "data": {
      "text/plain": [
       "rule (generic function with 3 methods)"
      ]
     },
     "execution_count": 6,
     "metadata": {},
     "output_type": "execute_result"
    }
   ],
   "source": [
    "struct D2Cell <: AbstractCell\n",
    "    x::Int\n",
    "    y::Int\n",
    "end\n",
    "\n",
    "struct Eris <: AbstractGrid\n",
    "    set::Set{D2Cell}\n",
    "    h::Int\n",
    "    w::Int\n",
    "end\n",
    "\n",
    "Eris(h::T, w::T) where T <: Integer = Eris(Set{D2Cell}(), h, w)\n",
    "Eris(eris::Eris) = Eris(Set{D2Cell}(), eris.h, eris.w)\n",
    "function Eris(ss::Vector{String})\n",
    "    arr = hcat(collect.(ss)...)\n",
    "    arr0 = Set{D2Cell}()\n",
    "    for i in 1:5, j in 1:5\n",
    "        if arr[i, j] == '#' push!(arr0, D2Cell(i, j)) end\n",
    "    end\n",
    "    Eris(arr0, 5, 5)\n",
    "end\n",
    "\n",
    "function adjacent(cell::D2Cell, grid::Eris)\n",
    "    dirs = [[0, 1], [1, 0], [0, -1], [-1, 0]]\n",
    "    res = D2Cell[]\n",
    "    for d in dirs\n",
    "        x = cell.x + d[1]\n",
    "        y = cell.y + d[2]\n",
    "        if (x != 0) && (x != grid.w + 1) && (y != 0) && (y != grid.h + 1) push!(res, D2Cell(x, y)) end\n",
    "    end\n",
    "    res\n",
    "end\n",
    "\n",
    "rule(cell::D2Cell, adj::Vector{D2Cell}, grid::Eris) = ((cell in grid) && (length(adj) == 1)) || (!(cell in grid) && (length(adj) in [1, 2]))"
   ]
  },
  {
   "cell_type": "code",
   "execution_count": 32,
   "metadata": {},
   "outputs": [
    {
     "data": {
      "text/plain": [
       "true"
      ]
     },
     "execution_count": 32,
     "metadata": {},
     "output_type": "execute_result"
    }
   ],
   "source": [
    "UInt8(10) isa Integer"
   ]
  },
  {
   "cell_type": "code",
   "execution_count": 44,
   "metadata": {},
   "outputs": [
    {
     "data": {
      "text/plain": [
       "Eris (generic function with 1 method)"
      ]
     },
     "execution_count": 44,
     "metadata": {},
     "output_type": "execute_result"
    }
   ],
   "source": [
    "function Eris(ss::Vector{String})\n",
    "    arr = hcat(collect.(ss)...)\n",
    "    arr0 = Set{2dCell}()\n",
    "    for i in 1:5, j in 1:5\n",
    "        if arr[i, j] == '#' push!(arr0, 2dCell(i, j)) end\n",
    "    end\n",
    "    Eris(arr0, 5, 5)\n",
    "end"
   ]
  },
  {
   "cell_type": "code",
   "execution_count": 3,
   "metadata": {},
   "outputs": [
    {
     "data": {
      "text/plain": [
       "Eris(Set(D2Cell[D2Cell(1, 1), D2Cell(3, 5), D2Cell(2, 5), D2Cell(2, 2), D2Cell(4, 1), D2Cell(4, 5), D2Cell(1, 3), D2Cell(4, 2), D2Cell(2, 1), D2Cell(5, 1), D2Cell(5, 2), D2Cell(5, 3), D2Cell(1, 4), D2Cell(3, 4), D2Cell(2, 3)]), 5, 5)"
      ]
     },
     "execution_count": 3,
     "metadata": {},
     "output_type": "execute_result"
    }
   ],
   "source": [
    "grid = Eris(readlines(\"input.txt\"))"
   ]
  },
  {
   "cell_type": "code",
   "execution_count": 8,
   "metadata": {},
   "outputs": [
    {
     "data": {
      "text/plain": [
       "2-element Array{D2Cell,1}:\n",
       " D2Cell(1, 2)\n",
       " D2Cell(2, 1)"
      ]
     },
     "execution_count": 8,
     "metadata": {},
     "output_type": "execute_result"
    }
   ],
   "source": [
    "adjacent(D2Cell(1, 1), grid)"
   ]
  },
  {
   "cell_type": "code",
   "execution_count": 4,
   "metadata": {},
   "outputs": [
    {
     "data": {
      "text/plain": [
       "1-element Array{D2Cell,1}:\n",
       " D2Cell(2, 1)"
      ]
     },
     "execution_count": 4,
     "metadata": {},
     "output_type": "execute_result"
    }
   ],
   "source": [
    "neighbours = [neighbour for neighbour in adjacent(D2Cell(1, 1), grid) if neighbour in grid]"
   ]
  },
  {
   "cell_type": "code",
   "execution_count": 7,
   "metadata": {},
   "outputs": [
    {
     "data": {
      "text/plain": [
       "true"
      ]
     },
     "execution_count": 7,
     "metadata": {},
     "output_type": "execute_result"
    }
   ],
   "source": [
    "rule(D2Cell(1, 1), neighbours, grid)"
   ]
  },
  {
   "cell_type": "code",
   "execution_count": 9,
   "metadata": {},
   "outputs": [
    {
     "ename": "UndefVarError",
     "evalue": "UndefVarError: cells not defined",
     "output_type": "error",
     "traceback": [
      "UndefVarError: cells not defined",
      "",
      "Stacktrace:",
      " [1] tick(::Eris) at ./In[8]:3",
      " [2] top-level scope at In[9]:1"
     ]
    }
   ],
   "source": [
    "tick(grid)"
   ]
  },
  {
   "cell_type": "code",
   "execution_count": null,
   "metadata": {},
   "outputs": [],
   "source": []
  }
 ],
 "metadata": {
  "kernelspec": {
   "display_name": "Julia 1.3.0",
   "language": "julia",
   "name": "julia-1.3"
  },
  "language_info": {
   "file_extension": ".jl",
   "mimetype": "application/julia",
   "name": "julia",
   "version": "1.3.0"
  }
 },
 "nbformat": 4,
 "nbformat_minor": 2
}
