{
 "cells": [
  {
   "cell_type": "markdown",
   "metadata": {},
   "source": [
    "## Part 1"
   ]
  },
  {
   "cell_type": "code",
   "execution_count": 75,
   "metadata": {},
   "outputs": [
    {
     "data": {
      "text/plain": [
       "floodfill (generic function with 2 methods)"
      ]
     },
     "execution_count": 75,
     "metadata": {},
     "output_type": "execute_result"
    }
   ],
   "source": [
    "struct Maze\n",
    "    m::Array{Char, 2}\n",
    "end\n",
    "\n",
    "function Maze(s::Vector{T}, padding = 1, default = '#') where T <: String \n",
    "    m = hcat(collect.(s)...)\n",
    "    h, w = size(m)\n",
    "    m0 = fill(default, h + 2*padding, w + 2*padding)\n",
    "    m0[(padding + 1):(h + padding), (padding + 1):(w + padding)] .= m\n",
    "    Maze(m0)\n",
    "end\n",
    "\n",
    "find_element(m::Maze, el::Char) = CartesianIndices(m.m)[m.m .== el]\n",
    "\n",
    "function show_maze(m::Maze)\n",
    "    for i in 1:size(m.m)[1]\n",
    "        for j in 1:size(m.m)[2]\n",
    "            print(m.m[i, j])\n",
    "        end\n",
    "        print('\\n')\n",
    "    end\n",
    "end\n",
    "\n",
    "\n",
    "function neighbours(m::Maze, l)\n",
    "    dirs = CartesianIndex.([(0, 1), (1, 0), (0, -1), (-1, 0)])\n",
    "    [l + d for d in dirs[[m.m[l + d] == '.' for d in dirs]]]\n",
    "end\n",
    "\n",
    "function teleports(m::Maze)\n",
    "    entry_points = Dict{Symbol, Vector{CartesianIndex}}()\n",
    "    dirs = CartesianIndex.([(0, 1), (1, 0), (0, -1), (-1, 0)])\n",
    "    for t in 'A':'Z'\n",
    "        for loc in find_element(m, t)\n",
    "            entry_point = CartesianIndex(-1, -1)\n",
    "            for d in dirs\n",
    "                if m.m[loc + d] in collect('A':'Z')\n",
    "                    global teleport_name = Symbol(join(sort([t, m.m[loc + d]])))\n",
    "                elseif m.m[loc + d] == '.'\n",
    "                    entry_point = loc + d\n",
    "                end\n",
    "            end\n",
    "            if entry_point != CartesianIndex(-1, -1)\n",
    "                points = get!(entry_points, teleport_name, [])\n",
    "                push!(points, entry_point)\n",
    "            end\n",
    "        end\n",
    "    end\n",
    "    \n",
    "    tlps = Dict{CartesianIndex, CartesianIndex}()\n",
    "    for (k, v) in entry_points\n",
    "        if k in [:AA, :ZZ] continue end\n",
    "        tlps[v[1]] = v[2]\n",
    "        tlps[v[2]] = v[1]\n",
    "    end\n",
    "    \n",
    "    entry_points, tlps\n",
    "end\n",
    "\n",
    "function floodfill(m::Maze, tlps, start)\n",
    "    arr = fill(-1, size(m.m)...)\n",
    "    arr[start] = 0\n",
    "    acc = [start]\n",
    "    while !isempty(acc)\n",
    "        loc = popfirst!(acc)\n",
    "        for n in neighbours(m, loc)\n",
    "            if arr[n] == -1 || arr[n] > arr[loc] + 1\n",
    "                arr[n] = arr[loc] + 1\n",
    "                push!(acc, n)\n",
    "                if (n in keys(tlps))\n",
    "                    if (arr[tlps[n]] == -1) || (arr[tlps[n]] > arr[loc] + 2)\n",
    "                        arr[tlps[n]] = arr[loc] + 2\n",
    "                        push!(acc, tlps[n])\n",
    "                    end\n",
    "                end\n",
    "            end\n",
    "        end\n",
    "    end\n",
    "    \n",
    "    arr\n",
    "end"
   ]
  },
  {
   "cell_type": "code",
   "execution_count": 87,
   "metadata": {},
   "outputs": [
    {
     "data": {
      "text/plain": [
       "part1 (generic function with 2 methods)"
      ]
     },
     "execution_count": 87,
     "metadata": {},
     "output_type": "execute_result"
    }
   ],
   "source": [
    "function part1(inp = \"input.txt\")\n",
    "    m = Maze(readlines(inp))\n",
    "    tlps = teleports(m)\n",
    "    ffm = floodfill(m, tlps[2], tlps[1][:AA][1])\n",
    "    ffm[tlps[1][:ZZ][1]]\n",
    "end"
   ]
  },
  {
   "cell_type": "code",
   "execution_count": 90,
   "metadata": {},
   "outputs": [
    {
     "name": "stdout",
     "output_type": "stream",
     "text": [
      "Part 1: 654\n"
     ]
    }
   ],
   "source": [
    "println(\"Part 1: \", part1(\"input.txt\"))"
   ]
  },
  {
   "cell_type": "code",
   "execution_count": 84,
   "metadata": {},
   "outputs": [
    {
     "data": {
      "text/plain": [
       "Maze(['#' '#' … '#' '#'; '#' ' ' … ' ' '#'; … ; '#' ' ' … ' ' '#'; '#' '#' … '#' '#'])"
      ]
     },
     "execution_count": 84,
     "metadata": {},
     "output_type": "execute_result"
    }
   ],
   "source": [
    "m = Maze(readlines(\"test2.txt\"))"
   ]
  },
  {
   "cell_type": "code",
   "execution_count": 67,
   "metadata": {},
   "outputs": [
    {
     "name": "stdout",
     "output_type": "stream",
     "text": [
      "#####################\n",
      "#        B    D F   #\n",
      "#        C    E G   #\n",
      "#  ######.####.#.#  #\n",
      "#  ######.####...#  #\n",
      "#  ######...######  #\n",
      "#  ########.######  #\n",
      "#  ########.######  #\n",
      "#  #####   D #####  #\n",
      "#  #####   E #####  #\n",
      "#AA.....BC   #####  #\n",
      "#  #.###     #####  #\n",
      "#  #.###   FG..###  #\n",
      "#  #.###     #.###  #\n",
      "#  #.###     #....ZZ#\n",
      "#  #.###########.#  #\n",
      "#  #.###########.#  #\n",
      "#  #.###########.#  #\n",
      "#  #.............#  #\n",
      "#  ###############  #\n",
      "#                   #\n",
      "#                   #\n",
      "#####################\n"
     ]
    }
   ],
   "source": [
    "show_maze(m)"
   ]
  },
  {
   "cell_type": "code",
   "execution_count": 85,
   "metadata": {},
   "outputs": [
    {
     "data": {
      "text/plain": [
       "(Dict(:AS => [CartesianIndex(19, 10), CartesianIndex(34, 19)],:JP => [CartesianIndex(17, 36), CartesianIndex(23, 30)],:CP => [CartesianIndex(23, 10), CartesianIndex(21, 36)],:AA => [CartesianIndex(21, 4)],:NY => [CartesianIndex(28, 15), CartesianIndex(4, 25)],:DI => [CartesianIndex(10, 23), CartesianIndex(4, 17)],:JO => [CartesianIndex(4, 21), CartesianIndex(15, 30)],:FL => [CartesianIndex(17, 30), CartesianIndex(34, 23)],:ZZ => [CartesianIndex(4, 19)],:BU => [CartesianIndex(13, 36), CartesianIndex(28, 23)]…), Dict{CartesianIndex,CartesianIndex}(CartesianIndex(23, 30) => CartesianIndex(17, 36),CartesianIndex(28, 19) => CartesianIndex(34, 25),CartesianIndex(21, 36) => CartesianIndex(23, 10),CartesianIndex(23, 10) => CartesianIndex(21, 36),CartesianIndex(15, 30) => CartesianIndex(4, 21),CartesianIndex(4, 17) => CartesianIndex(10, 23),CartesianIndex(34, 23) => CartesianIndex(17, 30),CartesianIndex(4, 25) => CartesianIndex(28, 15),CartesianIndex(34, 19) => CartesianIndex(19, 10),CartesianIndex(4, 21) => CartesianIndex(15, 30)…))"
      ]
     },
     "execution_count": 85,
     "metadata": {},
     "output_type": "execute_result"
    }
   ],
   "source": [
    "res = teleports(m)"
   ]
  },
  {
   "cell_type": "code",
   "execution_count": 81,
   "metadata": {},
   "outputs": [
    {
     "data": {
      "text/plain": [
       "CartesianIndex(15, 18)"
      ]
     },
     "execution_count": 81,
     "metadata": {},
     "output_type": "execute_result"
    }
   ],
   "source": [
    "res[1][:ZZ][1]"
   ]
  },
  {
   "cell_type": "code",
   "execution_count": 86,
   "metadata": {},
   "outputs": [
    {
     "data": {
      "text/plain": [
       "58"
      ]
     },
     "execution_count": 86,
     "metadata": {},
     "output_type": "execute_result"
    }
   ],
   "source": [
    "ffm = floodfill(m, res[2], res[1][:AA][1])\n",
    "ffm[res[1][:ZZ][1]]"
   ]
  },
  {
   "cell_type": "code",
   "execution_count": 83,
   "metadata": {},
   "outputs": [
    {
     "data": {
      "text/plain": [
       "23"
      ]
     },
     "execution_count": 83,
     "metadata": {},
     "output_type": "execute_result"
    }
   ],
   "source": [
    "ffm[res[1][:ZZ][1]]"
   ]
  },
  {
   "cell_type": "code",
   "execution_count": 51,
   "metadata": {},
   "outputs": [
    {
     "data": {
      "text/plain": [
       "-1"
      ]
     },
     "execution_count": 51,
     "metadata": {},
     "output_type": "execute_result"
    }
   ],
   "source": [
    "ffm[res[2]['C'][1]]"
   ]
  },
  {
   "cell_type": "code",
   "execution_count": 23,
   "metadata": {},
   "outputs": [
    {
     "data": {
      "text/plain": [
       "Dict{CartesianIndex,CartesianIndex} with 6 entries:\n",
       "  CartesianIndex(8, 12)  => CartesianIndex(4, 15)\n",
       "  CartesianIndex(4, 10)  => CartesianIndex(11, 8)\n",
       "  CartesianIndex(13, 14) => CartesianIndex(4, 17)\n",
       "  CartesianIndex(4, 15)  => CartesianIndex(8, 12)\n",
       "  CartesianIndex(4, 17)  => CartesianIndex(13, 14)\n",
       "  CartesianIndex(11, 8)  => CartesianIndex(4, 10)"
      ]
     },
     "execution_count": 23,
     "metadata": {},
     "output_type": "execute_result"
    }
   ],
   "source": [
    "res[3]"
   ]
  },
  {
   "cell_type": "markdown",
   "metadata": {},
   "source": [
    "## Part 2"
   ]
  },
  {
   "cell_type": "code",
   "execution_count": 145,
   "metadata": {},
   "outputs": [
    {
     "data": {
      "text/plain": [
       "floodfill (generic function with 4 methods)"
      ]
     },
     "execution_count": 145,
     "metadata": {},
     "output_type": "execute_result"
    }
   ],
   "source": [
    "function teleports(m::Maze)\n",
    "    entry_points = Dict{Symbol, Vector{CartesianIndex}}()\n",
    "    nest_level = Dict{CartesianIndex, Int}()\n",
    "    dirs = CartesianIndex.([(0, 1), (1, 0), (0, -1), (-1, 0)])\n",
    "    h, w = size(m.m)\n",
    "    for t in 'A':'Z'\n",
    "        for loc in find_element(m, t)\n",
    "            entry_point = CartesianIndex(-1, -1)\n",
    "            for d in dirs\n",
    "                if m.m[loc + d] in collect('A':'Z')\n",
    "                    global teleport_name = Symbol(join(sort([t, m.m[loc + d]])))\n",
    "                elseif m.m[loc + d] == '.'\n",
    "                    entry_point = loc + d\n",
    "                end\n",
    "            end\n",
    "            if entry_point != CartesianIndex(-1, -1)\n",
    "                points = get!(entry_points, teleport_name, [])\n",
    "                push!(points, entry_point)\n",
    "                if (loc[1] == 3) || (loc[1] == h - 2) || (loc[2] == 3) || (loc[2] == w - 2)\n",
    "                    nest_level[entry_point] = -1\n",
    "                else\n",
    "                    nest_level[entry_point] = 1\n",
    "                end\n",
    "            end\n",
    "        end\n",
    "    end\n",
    "    \n",
    "    tlps = Dict{CartesianIndex, CartesianIndex}()\n",
    "    for (k, v) in entry_points\n",
    "        if k in [:AA, :ZZ] continue end\n",
    "        tlps[v[1]] = v[2]\n",
    "        tlps[v[2]] = v[1]\n",
    "    end\n",
    "    \n",
    "    entry_points, nest_level, tlps\n",
    "end\n",
    "\n",
    "function floodfill(m::Maze, tlps, nest_levels, start, finish)\n",
    "    arr = Dict{Tuple{CartesianIndex, Int}, Int}()\n",
    "    arr[start] = 0\n",
    "    acc = [start]\n",
    "    VERYBIG = 2^63 - 1\n",
    "    arr[finish] = VERYBIG\n",
    "    while !isempty(acc)\n",
    "        loc, level = popfirst!(acc)\n",
    "        for n in neighbours(m, loc)\n",
    "            val = get!(arr, (n, level), VERYBIG)\n",
    "            if (val > arr[(loc, level)] + 1) && (arr[(loc, level)] + 1 < arr[finish])\n",
    "                arr[(n, level)] = arr[(loc, level)] + 1\n",
    "                push!(acc, (n, level))\n",
    "                if (n in keys(tlps))\n",
    "                    if (get!(arr, (tlps[n], level + nest_levels[n]), VERYBIG) > arr[(loc, level)] + 2) &&\n",
    "                            (arr[(loc, level)] + 2 < arr[finish]) &&\n",
    "                            (level + nest_levels[n] >= 0)\n",
    "                        arr[(tlps[n], level + nest_levels[n])] = arr[(loc, level)] + 2\n",
    "                        push!(acc, (tlps[n], level + nest_levels[n]))\n",
    "                    end\n",
    "                end\n",
    "            end\n",
    "        end\n",
    "    end\n",
    "    \n",
    "    arr\n",
    "end"
   ]
  },
  {
   "cell_type": "code",
   "execution_count": 146,
   "metadata": {},
   "outputs": [
    {
     "data": {
      "text/plain": [
       "part2 (generic function with 2 methods)"
      ]
     },
     "execution_count": 146,
     "metadata": {},
     "output_type": "execute_result"
    }
   ],
   "source": [
    "function part2(inp = \"input.txt\")\n",
    "    m = Maze(readlines(inp))\n",
    "    # show_maze(m)\n",
    "    res = teleports(m)\n",
    "    ffm = floodfill(m, res[3], res[2], (res[1][:AA][1], 0), (res[1][:ZZ][1], 0))\n",
    "    println(\"Part 2: \", ffm[(res[1][:ZZ][1], 0)])\n",
    "end"
   ]
  },
  {
   "cell_type": "code",
   "execution_count": 132,
   "metadata": {},
   "outputs": [
    {
     "name": "stdout",
     "output_type": "stream",
     "text": [
      "#####################\n",
      "#        B    D F   #\n",
      "#        C    E G   #\n",
      "#  ######.####.#.#  #\n",
      "#  ######.####...#  #\n",
      "#  ######...######  #\n",
      "#  ########.######  #\n",
      "#  ########.######  #\n",
      "#  #####   D #####  #\n",
      "#  #####   E #####  #\n",
      "#AA.....BC   #####  #\n",
      "#  #.###     #####  #\n",
      "#  #.###   FG..###  #\n",
      "#  #.###     #.###  #\n",
      "#  #.###     #....ZZ#\n",
      "#  #.###########.#  #\n",
      "#  #.###########.#  #\n",
      "#  #.###########.#  #\n",
      "#  #.............#  #\n",
      "#  ###############  #\n",
      "#                   #\n",
      "#                   #\n",
      "#####################\n",
      "CartesianIndex(11, 4):0\n",
      "CartesianIndex(11, 5):0\n",
      "CartesianIndex(11, 6):0\n",
      "CartesianIndex(12, 5):0\n",
      "CartesianIndex(11, 7):0\n",
      "CartesianIndex(13, 5):0\n",
      "CartesianIndex(11, 8):0\n",
      "CartesianIndex(4, 10):1\n",
      "CartesianIndex(14, 5):0\n",
      "CartesianIndex(5, 10):1\n",
      "CartesianIndex(15, 5):0\n",
      "CartesianIndex(6, 10):1\n",
      "CartesianIndex(16, 5):0\n",
      "CartesianIndex(6, 11):1\n",
      "CartesianIndex(17, 5):0\n",
      "CartesianIndex(6, 12):1\n",
      "CartesianIndex(18, 5):0\n",
      "CartesianIndex(7, 12):1\n",
      "CartesianIndex(19, 5):0\n",
      "CartesianIndex(8, 12):1\n",
      "CartesianIndex(4, 15):2\n",
      "CartesianIndex(19, 6):0\n",
      "CartesianIndex(5, 15):2\n",
      "CartesianIndex(19, 7):0\n",
      "CartesianIndex(5, 16):2\n",
      "CartesianIndex(19, 8):0\n",
      "CartesianIndex(5, 17):2\n",
      "CartesianIndex(19, 9):0\n",
      "CartesianIndex(4, 17):2\n",
      "CartesianIndex(13, 14):1\n",
      "CartesianIndex(19, 10):0\n",
      "CartesianIndex(13, 15):1\n",
      "CartesianIndex(19, 11):0\n",
      "CartesianIndex(14, 15):1\n",
      "CartesianIndex(19, 12):0\n",
      "CartesianIndex(15, 15):1\n",
      "CartesianIndex(19, 13):0\n",
      "CartesianIndex(15, 16):1\n",
      "CartesianIndex(19, 14):0\n",
      "CartesianIndex(15, 17):1\n",
      "CartesianIndex(19, 15):0\n",
      "CartesianIndex(15, 18):1\n",
      "CartesianIndex(16, 17):1\n",
      "CartesianIndex(19, 16):0\n",
      "CartesianIndex(17, 17):1\n",
      "CartesianIndex(19, 17):0\n",
      "CartesianIndex(18, 17):1\n",
      "CartesianIndex(18, 17):0\n",
      "CartesianIndex(17, 17):0\n",
      "CartesianIndex(16, 17):0\n",
      "CartesianIndex(15, 17):0\n",
      "CartesianIndex(15, 18):0\n",
      "CartesianIndex(15, 16):0\n",
      "CartesianIndex(15, 15):0\n",
      "CartesianIndex(14, 15):0\n",
      "CartesianIndex(13, 15):0\n",
      "CartesianIndex(13, 14):0\n",
      "CartesianIndex(4, 17):1\n",
      "CartesianIndex(5, 17):1\n",
      "CartesianIndex(5, 16):1\n",
      "CartesianIndex(5, 15):1\n",
      "CartesianIndex(4, 15):1\n",
      "CartesianIndex(8, 12):0\n",
      "CartesianIndex(7, 12):0\n",
      "CartesianIndex(6, 12):0\n",
      "CartesianIndex(6, 11):0\n",
      "CartesianIndex(6, 10):0\n",
      "CartesianIndex(5, 10):0\n",
      "CartesianIndex(4, 10):0\n"
     ]
    },
    {
     "data": {
      "text/plain": [
       "Dict{Tuple{CartesianIndex,Int64},Int64} with 78 entries:\n",
       "  (CartesianIndex(16, 5), 0)   => 6\n",
       "  (CartesianIndex(15, 16), 0)  => 26\n",
       "  (CartesianIndex(7, 12), 1)   => 10\n",
       "  (CartesianIndex(6, 10), 1)   => 7\n",
       "  (CartesianIndex(5, 15), 2)   => 13\n",
       "  (CartesianIndex(11, 6), 0)   => 2\n",
       "  (CartesianIndex(4, 10), 1)   => 5\n",
       "  (CartesianIndex(8, 12), 1)   => 11\n",
       "  (CartesianIndex(5, 17), 0)   => 9223372036854775807\n",
       "  (CartesianIndex(17, 17), 0)  => 23\n",
       "  (CartesianIndex(19, 15), 0)  => 19\n",
       "  (CartesianIndex(11, 7), 0)   => 3\n",
       "  (CartesianIndex(13, 14), -1) => 9223372036854775807\n",
       "  (CartesianIndex(13, 5), 0)   => 3\n",
       "  (CartesianIndex(15, 18), 0)  => 26\n",
       "  (CartesianIndex(19, 17), 0)  => 21\n",
       "  (CartesianIndex(13, 15), 1)  => 18\n",
       "  (CartesianIndex(8, 12), 0)   => 36\n",
       "  (CartesianIndex(16, 17), 0)  => 24\n",
       "  (CartesianIndex(11, 8), 0)   => 4\n",
       "  (CartesianIndex(13, 15), 0)  => 29\n",
       "  (CartesianIndex(19, 5), 0)   => 9\n",
       "  (CartesianIndex(17, 5), 0)   => 7\n",
       "  (CartesianIndex(5, 17), 2)   => 15\n",
       "  (CartesianIndex(13, 14), 0)  => 30\n",
       "  ⋮                            => ⋮"
      ]
     },
     "execution_count": 132,
     "metadata": {},
     "output_type": "execute_result"
    }
   ],
   "source": [
    "m = Maze(readlines(\"test.txt\"))\n",
    "show_maze(m)\n",
    "res = teleports(m)\n",
    "ffm = floodfill(m, res[3], res[2], (res[1][:AA][1], 0))"
   ]
  },
  {
   "cell_type": "code",
   "execution_count": 136,
   "metadata": {},
   "outputs": [
    {
     "data": {
      "text/plain": [
       "26"
      ]
     },
     "execution_count": 136,
     "metadata": {},
     "output_type": "execute_result"
    }
   ],
   "source": [
    "ffm[(res[1][:ZZ][1], 0)]"
   ]
  },
  {
   "cell_type": "code",
   "execution_count": 149,
   "metadata": {},
   "outputs": [
    {
     "name": "stdout",
     "output_type": "stream",
     "text": [
      "Part 2: 7360\n"
     ]
    }
   ],
   "source": [
    "part2(\"input.txt\")"
   ]
  },
  {
   "cell_type": "code",
   "execution_count": 101,
   "metadata": {},
   "outputs": [
    {
     "data": {
      "text/plain": [
       "Dict{CartesianIndex,CartesianIndex} with 6 entries:\n",
       "  CartesianIndex(8, 12)  => CartesianIndex(4, 15)\n",
       "  CartesianIndex(4, 10)  => CartesianIndex(11, 8)\n",
       "  CartesianIndex(13, 14) => CartesianIndex(4, 17)\n",
       "  CartesianIndex(4, 15)  => CartesianIndex(8, 12)\n",
       "  CartesianIndex(4, 17)  => CartesianIndex(13, 14)\n",
       "  CartesianIndex(11, 8)  => CartesianIndex(4, 10)"
      ]
     },
     "execution_count": 101,
     "metadata": {},
     "output_type": "execute_result"
    }
   ],
   "source": [
    "res[3]"
   ]
  },
  {
   "cell_type": "code",
   "execution_count": 113,
   "metadata": {},
   "outputs": [
    {
     "data": {
      "text/plain": [
       "12345678901234"
      ]
     },
     "execution_count": 113,
     "metadata": {},
     "output_type": "execute_result"
    }
   ],
   "source": [
    "VERYBIG = 12345678901234"
   ]
  },
  {
   "cell_type": "code",
   "execution_count": 114,
   "metadata": {},
   "outputs": [
    {
     "data": {
      "text/plain": [
       "Int64"
      ]
     },
     "execution_count": 114,
     "metadata": {},
     "output_type": "execute_result"
    }
   ],
   "source": [
    "typeof(VERYBIG)"
   ]
  },
  {
   "cell_type": "code",
   "execution_count": 119,
   "metadata": {},
   "outputs": [
    {
     "data": {
      "text/plain": [
       "Int64"
      ]
     },
     "execution_count": 119,
     "metadata": {},
     "output_type": "execute_result"
    }
   ],
   "source": [
    "typeof(2^63)"
   ]
  },
  {
   "cell_type": "code",
   "execution_count": 121,
   "metadata": {},
   "outputs": [
    {
     "data": {
      "text/plain": [
       "9223372036854775807"
      ]
     },
     "execution_count": 121,
     "metadata": {},
     "output_type": "execute_result"
    }
   ],
   "source": [
    "2^63 - 1"
   ]
  },
  {
   "cell_type": "code",
   "execution_count": null,
   "metadata": {},
   "outputs": [],
   "source": []
  }
 ],
 "metadata": {
  "kernelspec": {
   "display_name": "Julia 1.3.0",
   "language": "julia",
   "name": "julia-1.3"
  },
  "language_info": {
   "file_extension": ".jl",
   "mimetype": "application/julia",
   "name": "julia",
   "version": "1.3.0"
  }
 },
 "nbformat": 4,
 "nbformat_minor": 2
}
