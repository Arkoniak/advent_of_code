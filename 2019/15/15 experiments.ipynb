{
 "cells": [
  {
   "cell_type": "markdown",
   "metadata": {},
   "source": [
    "## Part 1"
   ]
  },
  {
   "cell_type": "markdown",
   "metadata": {},
   "source": [
    "### Intcode computer"
   ]
  },
  {
   "cell_type": "code",
   "execution_count": 6,
   "metadata": {},
   "outputs": [
    {
     "data": {
      "text/plain": [
       "clear! (generic function with 1 method)"
      ]
     },
     "execution_count": 6,
     "metadata": {},
     "output_type": "execute_result"
    }
   ],
   "source": [
    "# states are\n",
    "# 0 - running\n",
    "# 1 - waiting for input\n",
    "# 99 - halt\n",
    "\n",
    "mutable struct Prog\n",
    "    code::Vector{Int}\n",
    "    cur::Int\n",
    "    input::Vector{Int}\n",
    "    output::Vector{Int}\n",
    "    relative_base::Int\n",
    "    state::Int\n",
    "end\n",
    "\n",
    "str2prog(s) = parse.(Int, split(s, \",\"))\n",
    "\n",
    "Prog(s::String) = Prog(vcat(str2prog(s), zeros(Int, 10000)), 1, [], [], 0, 0)\n",
    "\n",
    "struct Instruction\n",
    "    op::Int\n",
    "    modes::Vector{Int}\n",
    "end\n",
    "\n",
    "function Instruction(op_code::Int)\n",
    "    ops = Dict{Int, Int}(\n",
    "        1 => 3,\n",
    "        2 => 3,\n",
    "        3 => 1,\n",
    "        4 => 1,\n",
    "        5 => 2,\n",
    "        6 => 2,\n",
    "        7 => 3,\n",
    "        8 => 3,\n",
    "        9 => 1,\n",
    "        99 => 0\n",
    "    )\n",
    "    \n",
    "    op = mod(op_code, 100)\n",
    "    modes_code = div(op_code, 100)\n",
    "    modes = zeros(ops[op])\n",
    "    for i in 1:ops[op]\n",
    "        modes[i] = mod(modes_code, 10)\n",
    "        modes_code = div(modes_code, 10)\n",
    "    end\n",
    "    \n",
    "    Instruction(op, modes)\n",
    "end\n",
    "\n",
    "Instruction(prog::Prog) = Instruction(prog.code[prog.cur])\n",
    "\n",
    "function take(prog::Prog, mode, offset)\n",
    "    if mode == 0\n",
    "        return prog.code[prog.code[prog.cur + offset] + 1]\n",
    "    elseif mode == 1\n",
    "        return prog.code[prog.cur + offset]\n",
    "    else\n",
    "        return prog.code[prog.code[prog.cur + offset] + prog.relative_base + 1]\n",
    "    end\n",
    "end\n",
    "\n",
    "function update!(prog::Prog, value, offset, mode = 0)\n",
    "    if mode == 0\n",
    "        prog.code[prog.code[prog.cur + offset] + 1] = value\n",
    "    elseif mode == 2\n",
    "        prog.code[prog.code[prog.cur + offset] + prog.relative_base + 1] = value\n",
    "    end\n",
    "end\n",
    "\n",
    "function apply(prog::Prog, instruction::Instruction)\n",
    "    if instruction.op == 99\n",
    "        prog.state = 99\n",
    "    elseif instruction.op == 1\n",
    "        a1 = take(prog, instruction.modes[1], 1)\n",
    "        a2 = take(prog, instruction.modes[2], 2)\n",
    "        update!(prog, a1 + a2, 3, instruction.modes[3])\n",
    "        prog.cur += 4\n",
    "    elseif instruction.op == 2\n",
    "        a1 = take(prog, instruction.modes[1], 1)\n",
    "        a2 = take(prog, instruction.modes[2], 2)\n",
    "        update!(prog, a1 * a2, 3, instruction.modes[3])\n",
    "        prog.cur += 4\n",
    "    elseif instruction.op == 3\n",
    "        if isempty(prog.input)\n",
    "            prog.state = 1\n",
    "        else\n",
    "            update!(prog, popfirst!(prog.input), 1, instruction.modes[1])\n",
    "            prog.cur += 2\n",
    "        end\n",
    "    elseif instruction.op == 4\n",
    "        push!(prog.output, take(prog, instruction.modes[1], 1))\n",
    "        prog.cur += 2\n",
    "    elseif instruction.op == 5\n",
    "        a1 = take(prog, instruction.modes[1], 1)\n",
    "        a2 = take(prog, instruction.modes[2], 2)\n",
    "        prog.cur = a1 != 0 ? a2 + 1 : prog.cur + 3\n",
    "    elseif instruction.op == 6\n",
    "        a1 = take(prog, instruction.modes[1], 1)\n",
    "        a2 = take(prog, instruction.modes[2], 2)\n",
    "        prog.cur = a1 == 0 ? a2 + 1 : prog.cur + 3\n",
    "    elseif instruction.op == 7\n",
    "        a1 = take(prog, instruction.modes[1], 1)\n",
    "        a2 = take(prog, instruction.modes[2], 2)\n",
    "        update!(prog, a1 < a2 ? 1 : 0, 3, instruction.modes[3])\n",
    "        prog.cur += 4\n",
    "    elseif instruction.op == 8\n",
    "        a1 = take(prog, instruction.modes[1], 1)\n",
    "        a2 = take(prog, instruction.modes[2], 2)\n",
    "        update!(prog, a1 == a2 ? 1 : 0, 3, instruction.modes[3])\n",
    "        prog.cur += 4\n",
    "    elseif instruction.op == 9\n",
    "        prog.relative_base += take(prog, instruction.modes[1], 1)\n",
    "        prog.cur += 2\n",
    "    end\n",
    "end\n",
    "\n",
    "function run(prog::Prog, input::Vector{Int})\n",
    "    prog.input = input\n",
    "    prog.state = 0\n",
    "    run(prog)\n",
    "end\n",
    "\n",
    "run(prog::Prog, input::Int) = run(prog, [input])\n",
    "\n",
    "function run(prog)\n",
    "    clear!(prog)\n",
    "    while prog.state == 0\n",
    "        instruction = Instruction(prog)\n",
    "        apply(prog, instruction)\n",
    "    end\n",
    "    \n",
    "    prog.output\n",
    "end\n",
    "\n",
    "function feed(prog::Prog, input::Vector{Int})\n",
    "    prog.input = vcat(prog.input, input)\n",
    "    prog.state = 0\n",
    "end\n",
    "\n",
    "clear!(prog) = (prog.output = [])"
   ]
  },
  {
   "cell_type": "code",
   "execution_count": 78,
   "metadata": {},
   "outputs": [
    {
     "data": {
      "text/plain": [
       "astar (generic function with 1 method)"
      ]
     },
     "execution_count": 78,
     "metadata": {},
     "output_type": "execute_result"
    }
   ],
   "source": [
    "struct Maze\n",
    "    m::Dict{Tuple{Int, Int}, Set{Tuple{Int, Int}}}\n",
    "    walls::Set{Tuple{Int, Int}}\n",
    "end\n",
    "\n",
    "add_wall(m::Maze, wall) = push!(m.walls, wall)\n",
    "function add_coridor(m::Maze, coridor)\n",
    "    dirs = [(-1, 0), (0, 1), (0, -1), (1, 0)]\n",
    "    m.m[coridor] = Set([])\n",
    "    for d in dirs\n",
    "        t = coridor .+ d\n",
    "        if t in keys(m.m)\n",
    "            push!(m.m[coridor], t)\n",
    "            push!(m.m[t], coridor)\n",
    "        end\n",
    "    end\n",
    "end\n",
    "\n",
    "function draw(m::Maze, droid)\n",
    "    obj = vcat(collect(keys(m.m)), collect(m.walls), droid)\n",
    "    \n",
    "    tlx = minimum([x[1] for x in obj])\n",
    "    tly = minimum([x[2] for x in obj])\n",
    "    brx = maximum([x[1] for x in obj])\n",
    "    bry = maximum([x[2] for x in obj])\n",
    "    \n",
    "    width = brx - tlx + 1\n",
    "    height = bry - tly + 1\n",
    "    arr = fill(' ', height, width)\n",
    "    for x in keys(m.m)\n",
    "        arr[x[2] - tly + 1, x[1] - tlx + 1] = '.'\n",
    "    end\n",
    "    for x in m.walls\n",
    "        arr[x[2] - tly + 1, x[1] - tlx + 1] = '#'\n",
    "    end\n",
    "    arr[droid[2] - tly + 1, droid[1] - tlx + 1] = 'D'\n",
    "    \n",
    "    for i in height:-1:1\n",
    "        println(join(arr[i, :]))\n",
    "    end\n",
    "end\n",
    "\n",
    "visited(m::Maze, loc) = loc in keys(m.m) || loc in m.walls\n",
    "\n",
    "neighbours(m::Maze, loc) = m.m[loc]\n",
    "h(l1::Tuple{Int, Int}, l2::Tuple{Int, Int}) = sum(abs.(l1 .- l2))\n",
    "\n",
    "function least(openset, scores)\n",
    "    m = -1\n",
    "    res = nothing\n",
    "    for node in openset\n",
    "        if m < 0 || scores[node][2] < m\n",
    "            m = scores[node][2]\n",
    "            res = node\n",
    "        end\n",
    "    end\n",
    "    \n",
    "    res\n",
    "end\n",
    "\n",
    "function move2command(x, y)\n",
    "    m = Dict(\n",
    "        (0, 1) => 1,\n",
    "        (0, -1) => 2,\n",
    "        (-1, 0) => 3,\n",
    "        (1, 0) => 4\n",
    "    )\n",
    "    \n",
    "    m[y .- x]\n",
    "end\n",
    "\n",
    "function reconstruct_path(came_from, current)\n",
    "    path = Int[]\n",
    "    prev = current\n",
    "    while current in keys(came_from)\n",
    "        current = came_from[current]\n",
    "        push!(path, move2command(current, prev))\n",
    "        prev = current\n",
    "    end\n",
    "    \n",
    "    reverse(path)\n",
    "end\n",
    "\n",
    "function astar(m::Maze, start, goal)\n",
    "    openset = Set([start])\n",
    "    scores = Dict(start => [0, h(start, goal)])\n",
    "    came_from = Dict{Tuple{Int, Int}, Tuple{Int, Int}}()\n",
    "    while !isempty(openset)\n",
    "        current = least(openset, scores)\n",
    "        if current == goal\n",
    "            return reconstruct_path(came_from, goal)\n",
    "        end\n",
    "        \n",
    "        delete!(openset, current)\n",
    "        for neighbour in neighbours(m, current)\n",
    "            tentative_g_score = scores[current][1] + 1\n",
    "            neighbour_g_score = get!(scores, neighbour, [-1, h(neighbour, goal)])[1]\n",
    "            if neighbour_g_score < 0 || neighbour_g_score > tentative_g_score\n",
    "                came_from[neighbour] = current\n",
    "                scores[neighbour][1] = tentative_g_score\n",
    "                if !(neighbour in openset) push!(openset, neighbour) end\n",
    "            end\n",
    "        end\n",
    "    end\n",
    "end"
   ]
  },
  {
   "cell_type": "code",
   "execution_count": 185,
   "metadata": {},
   "outputs": [],
   "source": [
    "prog = Prog(readline(\"input.txt\"))\n",
    "run(prog)\n",
    "\n",
    "maze = Maze(Dict(), Set())\n",
    "goto = Vector{Tuple{Tuple{Int, Int}, Tuple{Int, Int}}}()\n",
    "current = (0, 0)\n",
    "add_coridor(maze, current)\n",
    "dirs = [(0, 1), (1, 0), (0, -1), (-1, 0)]\n",
    "for d in dirs\n",
    "    push!(goto, (current, current .+ d))\n",
    "end \n",
    "\n",
    "oxygen = (0, 0)\n",
    "\n",
    "cnt = 0\n",
    "while !isempty(goto)\n",
    "    check = pop!(goto)\n",
    "    if visited(maze, check[2]) continue end\n",
    "    cnt += 1\n",
    "    \n",
    "    path = astar(maze, current, check[1])\n",
    "    push!(path, move2command(check[1], check[2]))\n",
    "    res = run(prog, path)[end]\n",
    "    if res == 1\n",
    "        current = check[2]\n",
    "        add_coridor(maze, current)\n",
    "        for d in dirs\n",
    "            t = current .+ d\n",
    "            if !visited(maze, t)\n",
    "                push!(goto, (current, t))\n",
    "            end\n",
    "        end\n",
    "    elseif res == 0\n",
    "        current = check[1]\n",
    "        add_wall(maze, check[2])\n",
    "    else\n",
    "        current = check[2]\n",
    "        oxygen = check[2]\n",
    "        add_coridor(maze, current)\n",
    "        for d in dirs\n",
    "            t = current .+ d\n",
    "            if !visited(maze, t)\n",
    "                push!(goto, (current, t))\n",
    "            end\n",
    "        end        \n",
    "    end\n",
    "    #if cnt == 226 break end\n",
    "end"
   ]
  },
  {
   "cell_type": "code",
   "execution_count": 186,
   "metadata": {},
   "outputs": [
    {
     "name": "stdout",
     "output_type": "stream",
     "text": [
      " ##### ##### ### ############# ######### \n",
      "#.....#.....#...#.............#.........#\n",
      " ##.#.###.#.#.#.#.#####.#####.###.#####.#\n",
      "#...#...#.#...#.#.#...#.#.....#...#.....#\n",
      "#.#####.#.#.#####.#.#.#.#.#####.###.#### \n",
      "#.#...#...#.#...#...#.#.#.....#...#.#...#\n",
      "#.#.#.#######.#.#####.#.#####.###.#.###.#\n",
      "#...#.........#.......#.....#.....#...#.#\n",
      "#.## ######################.###### ##.#.#\n",
      "#...#.....#.....#.#.......#...#...#...#.#\n",
      " ##.#.###.#.###.#.#.#####.###.#.#.#.###.#\n",
      "#...#...#...#.#...#.#...#...#.#.#...#...#\n",
      "#.#####.#####.###.#.###.###.#.#.#######.#\n",
      "#.......#...#.....#...#.......#...#.....#\n",
      " ########.#.#.#### ##.###.#######.###.## \n",
      "#...#.....#.#.#...#.#...#.#.....#...#...#\n",
      "#.###.#####.#.#.#.#.###.###.###.###.###.#\n",
      "#.....#.#...#...#.....#.....#.#.#.......#\n",
      "#.#####.#.###########.#######.#.#######.#\n",
      "#.#.....#.........#.......#...#.....#...#\n",
      "#.#.###.#####.#.###.#####.###.#####.#### \n",
      "#...#...#...#.#.#...#...#.........#.#...#\n",
      " ####.###.#.#.###.#####D###.#######.#.#.#\n",
      "#.....#...#.#.........#.#...#.......#.#.#\n",
      "#.#####.###.###########.#.###.#####.#.#.#\n",
      "#...#...#.#.............#.#...#.....#.#.#\n",
      " ##.#.###.#################.#.#######.#.#\n",
      "#.#.#...#...#.......#.....#.#.#.....#.#.#\n",
      "#.#.###.#.#.#.#####.###.#.#.#.#.###.#.#.#\n",
      "#...#...#.#...#...#.#...#...#.#...#...#.#\n",
      "#.###.###.#####.###.#.###########.#####.#\n",
      "#...#.#.....#...#...#.............#...#.#\n",
      " ##.#.#####.#.#.#.###.#########.###.#.#.#\n",
      "#...#.....#.#.#.#.#...#.......#.....#.#.#\n",
      "#.#######.#.#.#.#.#####.#####.###### ##.#\n",
      "#.....#.#...#.#...#.....#...#...#...#...#\n",
      " ####.#.#####.#####.#####.#.###.#.#.#.## \n",
      "#...#.....#...#...#.....#.#...#...#.#...#\n",
      "#.#.#####.#.###.#.#####.#.###.#####.###.#\n",
      "#.#.......#.....#.......#...#...........#\n",
      " # ####### ##### ####### ### ########### \n"
     ]
    }
   ],
   "source": [
    "draw(maze, current)"
   ]
  },
  {
   "cell_type": "code",
   "execution_count": 188,
   "metadata": {},
   "outputs": [
    {
     "data": {
      "text/plain": [
       "220"
      ]
     },
     "execution_count": 188,
     "metadata": {},
     "output_type": "execute_result"
    }
   ],
   "source": [
    "length(astar(maze, oxygen, (0, 0)))"
   ]
  },
  {
   "cell_type": "code",
   "execution_count": 176,
   "metadata": {},
   "outputs": [
    {
     "data": {
      "text/plain": [
       "((-8, 4), ((-7, 4), (-7, 5)))"
      ]
     },
     "execution_count": 176,
     "metadata": {},
     "output_type": "execute_result"
    }
   ],
   "source": [
    "current, goto[end]"
   ]
  },
  {
   "cell_type": "code",
   "execution_count": 177,
   "metadata": {},
   "outputs": [
    {
     "data": {
      "text/plain": [
       "2-element Array{Int64,1}:\n",
       " 4\n",
       " 1"
      ]
     },
     "execution_count": 177,
     "metadata": {},
     "output_type": "execute_result"
    }
   ],
   "source": [
    "path = astar(maze, current, goto[end][1])\n",
    "push!(path, move2command(goto[end][1], goto[end][2]))"
   ]
  },
  {
   "cell_type": "code",
   "execution_count": 178,
   "metadata": {},
   "outputs": [
    {
     "data": {
      "text/plain": [
       "2-element Array{Int64,1}:\n",
       " 1\n",
       " 0"
      ]
     },
     "execution_count": 178,
     "metadata": {},
     "output_type": "execute_result"
    }
   ],
   "source": [
    "run(prog, path)"
   ]
  },
  {
   "cell_type": "code",
   "execution_count": 139,
   "metadata": {},
   "outputs": [
    {
     "name": "stdout",
     "output_type": "stream",
     "text": [
      "false\n",
      "true\n",
      "true\n",
      "true\n"
     ]
    }
   ],
   "source": [
    "for d in dirs\n",
    "    t = current .+ d\n",
    "    println(visited(maze, t))\n",
    "end"
   ]
  },
  {
   "cell_type": "code",
   "execution_count": 36,
   "metadata": {},
   "outputs": [
    {
     "data": {
      "text/plain": [
       "Prog([3, 1033, 1008, 1033, 1, 1032, 1005, 1032, 31, 1008  …  0, 0, 0, 0, 0, 0, 0, 0, 0, 0], 1, Int64[], Int64[], 0, 0)"
      ]
     },
     "execution_count": 36,
     "metadata": {},
     "output_type": "execute_result"
    }
   ],
   "source": [
    "prog = Prog(readline(\"input.txt\"))"
   ]
  },
  {
   "cell_type": "code",
   "execution_count": 37,
   "metadata": {},
   "outputs": [
    {
     "data": {
      "text/plain": [
       "0-element Array{Int64,1}"
      ]
     },
     "execution_count": 37,
     "metadata": {},
     "output_type": "execute_result"
    }
   ],
   "source": [
    "run(prog, )"
   ]
  },
  {
   "cell_type": "code",
   "execution_count": 40,
   "metadata": {},
   "outputs": [
    {
     "data": {
      "text/plain": [
       "1-element Array{Int64,1}:\n",
       " 0"
      ]
     },
     "execution_count": 40,
     "metadata": {},
     "output_type": "execute_result"
    }
   ],
   "source": [
    "run(prog, 1)"
   ]
  },
  {
   "cell_type": "code",
   "execution_count": 49,
   "metadata": {},
   "outputs": [
    {
     "data": {
      "text/plain": [
       "Maze(Dict((0, 0) => Set([(1, 0)]),(1, 0) => Set([(0, 0), (2, 0), (1, 1)]),(3, 1) => Set([(2, 1)]),(2, 0) => Set([(1, 0), (2, 1)]),(1, 1) => Set([(1, 0), (2, 1)]),(2, 1) => Set([(3, 1), (2, 0), (1, 1)])), Set(Tuple{Int64,Int64}[]))"
      ]
     },
     "execution_count": 49,
     "metadata": {},
     "output_type": "execute_result"
    }
   ],
   "source": [
    "mz = Maze(Dict(\n",
    "    (0, 0) => Set([(1, 0)]),\n",
    "    (1, 0) => Set([(0, 0), (1, 1), (2, 0)]),\n",
    "    (1, 1) => Set([(1, 0), (2, 1)]),\n",
    "    (2, 0) => Set([(1, 0), (2, 1)]),\n",
    "    (2, 1) => Set([(1, 1), (2, 0), (3, 1)]),\n",
    "    (3, 1) => Set([(2, 1)])\n",
    "), Set())"
   ]
  },
  {
   "cell_type": "code",
   "execution_count": 77,
   "metadata": {},
   "outputs": [
    {
     "name": "stdout",
     "output_type": "stream",
     "text": [
      "2:4\n",
      " ...\n",
      "D.. \n"
     ]
    }
   ],
   "source": [
    "draw(mz, (0, 0))"
   ]
  },
  {
   "cell_type": "code",
   "execution_count": 69,
   "metadata": {},
   "outputs": [
    {
     "data": {
      "text/plain": [
       "7-element Array{Tuple{Int64,Int64},1}:\n",
       " (0, 0)\n",
       " (1, 0)\n",
       " (3, 1)\n",
       " (2, 0)\n",
       " (1, 1)\n",
       " (2, 1)\n",
       " (0, 0)"
      ]
     },
     "execution_count": 69,
     "metadata": {},
     "output_type": "execute_result"
    }
   ],
   "source": [
    "vcat(collect(keys(mz.m)), collect(mz.walls), [(0, 0)])"
   ]
  },
  {
   "cell_type": "code",
   "execution_count": 66,
   "metadata": {},
   "outputs": [
    {
     "data": {
      "text/plain": [
       "2-element Array{Tuple{Int64,Int64},1}:\n",
       " (0, 0)\n",
       " (1, 1)"
      ]
     },
     "execution_count": 66,
     "metadata": {},
     "output_type": "execute_result"
    }
   ],
   "source": [
    "vcat([(0, 0)], [(1, 1)])"
   ]
  },
  {
   "cell_type": "code",
   "execution_count": 3,
   "metadata": {},
   "outputs": [
    {
     "data": {
      "text/plain": [
       "Maze(Dict{Tuple{Int64,Int64},Set{Tuple{Int64,Int64}}}(), Set(Tuple{Int64,Int64}[]))"
      ]
     },
     "execution_count": 3,
     "metadata": {},
     "output_type": "execute_result"
    }
   ],
   "source": [
    "Maze(Dict(), Set())"
   ]
  },
  {
   "cell_type": "code",
   "execution_count": 41,
   "metadata": {},
   "outputs": [
    {
     "data": {
      "text/plain": [
       "1"
      ]
     },
     "execution_count": 41,
     "metadata": {},
     "output_type": "execute_result"
    }
   ],
   "source": [
    "move2command((1, 0), (1, 1))"
   ]
  },
  {
   "cell_type": "code",
   "execution_count": 45,
   "metadata": {},
   "outputs": [
    {
     "data": {
      "text/plain": [
       "3-element Array{Int64,1}:\n",
       " 1\n",
       " 2\n",
       " 3"
      ]
     },
     "execution_count": 45,
     "metadata": {},
     "output_type": "execute_result"
    }
   ],
   "source": [
    "vcat([1, 2], collect(Set([3])))"
   ]
  },
  {
   "cell_type": "code",
   "execution_count": 47,
   "metadata": {},
   "outputs": [
    {
     "data": {
      "text/plain": [
       "3×3 Array{Char,2}:\n",
       " ' '  ' '  ' '\n",
       " ' '  ' '  ' '\n",
       " ' '  ' '  ' '"
      ]
     },
     "execution_count": 47,
     "metadata": {},
     "output_type": "execute_result"
    }
   ],
   "source": [
    "fill(' ', 3, 3)"
   ]
  },
  {
   "cell_type": "markdown",
   "metadata": {},
   "source": [
    "## Part 2"
   ]
  },
  {
   "cell_type": "code",
   "execution_count": 191,
   "metadata": {},
   "outputs": [],
   "source": [
    "cells = Dict{Tuple{Int, Int}, Int}()\n",
    "for x in keys(maze.m)\n",
    "    cells[x] = -1\n",
    "end\n",
    "\n",
    "cells[oxygen] = 0\n",
    "oxyfill = Vector{Tuple{Int, Int}}()\n",
    "push!(oxyfill, oxygen)\n",
    "while !isempty(oxyfill)\n",
    "    cell = pop!(oxyfill)\n",
    "    for neighbour in neighbours(maze, cell)\n",
    "        if cells[neighbour] == -1 || cells[neighbour] > cells[cell] + 1\n",
    "            cells[neighbour] = cells[cell] + 1\n",
    "            push!(oxyfill, neighbour)\n",
    "        end\n",
    "    end\n",
    "end"
   ]
  },
  {
   "cell_type": "code",
   "execution_count": 194,
   "metadata": {},
   "outputs": [
    {
     "data": {
      "text/plain": [
       "334"
      ]
     },
     "execution_count": 194,
     "metadata": {},
     "output_type": "execute_result"
    }
   ],
   "source": [
    "maximum(values(cells))"
   ]
  },
  {
   "cell_type": "code",
   "execution_count": null,
   "metadata": {},
   "outputs": [],
   "source": []
  }
 ],
 "metadata": {
  "kernelspec": {
   "display_name": "Julia 1.3.0",
   "language": "julia",
   "name": "julia-1.3"
  },
  "language_info": {
   "file_extension": ".jl",
   "mimetype": "application/julia",
   "name": "julia",
   "version": "1.3.0"
  }
 },
 "nbformat": 4,
 "nbformat_minor": 2
}
