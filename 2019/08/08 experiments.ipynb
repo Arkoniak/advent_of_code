{
 "cells": [
  {
   "cell_type": "markdown",
   "metadata": {},
   "source": [
    "## Part 1"
   ]
  },
  {
   "cell_type": "code",
   "execution_count": 7,
   "metadata": {},
   "outputs": [
    {
     "data": {
      "text/plain": [
       "15000-element Array{Int64,1}:\n",
       " 0\n",
       " 0\n",
       " 1\n",
       " 1\n",
       " 0\n",
       " 2\n",
       " 2\n",
       " 2\n",
       " 2\n",
       " 2\n",
       " 2\n",
       " 2\n",
       " 2\n",
       " ⋮\n",
       " 0\n",
       " 2\n",
       " 1\n",
       " 2\n",
       " 0\n",
       " 0\n",
       " 2\n",
       " 1\n",
       " 1\n",
       " 0\n",
       " 1\n",
       " 0"
      ]
     },
     "execution_count": 7,
     "metadata": {},
     "output_type": "execute_result"
    }
   ],
   "source": [
    "data = parse.(Int, collect(readline(\"input.txt\")))"
   ]
  },
  {
   "cell_type": "code",
   "execution_count": 8,
   "metadata": {},
   "outputs": [
    {
     "data": {
      "text/plain": [
       "100-element Array{Array{Int64,1},1}:\n",
       " [0, 0, 1, 1, 0, 2, 2, 2, 2, 2  …  2, 0, 2, 1, 2, 2, 2, 2, 2, 2]\n",
       " [1, 2, 0, 1, 1, 2, 2, 2, 2, 2  …  2, 0, 2, 1, 2, 2, 2, 2, 2, 2]\n",
       " [1, 0, 2, 2, 0, 2, 2, 2, 2, 2  …  2, 0, 2, 1, 2, 2, 2, 2, 2, 2]\n",
       " [1, 0, 1, 1, 1, 2, 2, 2, 2, 2  …  2, 2, 2, 0, 2, 2, 2, 2, 2, 2]\n",
       " [0, 1, 1, 2, 0, 2, 2, 2, 2, 2  …  2, 0, 2, 1, 2, 2, 2, 2, 2, 2]\n",
       " [0, 1, 0, 1, 2, 2, 2, 2, 2, 2  …  2, 2, 2, 2, 2, 2, 2, 2, 2, 2]\n",
       " [0, 1, 1, 1, 0, 2, 2, 2, 2, 2  …  2, 0, 2, 2, 2, 2, 2, 2, 2, 2]\n",
       " [0, 0, 2, 1, 2, 2, 2, 2, 2, 2  …  2, 0, 2, 2, 2, 2, 2, 2, 2, 2]\n",
       " [1, 1, 0, 0, 1, 2, 2, 2, 2, 2  …  2, 1, 2, 0, 2, 2, 2, 2, 2, 2]\n",
       " [0, 0, 2, 2, 0, 2, 2, 2, 2, 2  …  2, 1, 2, 0, 2, 2, 2, 2, 2, 2]\n",
       " [0, 0, 0, 1, 1, 2, 2, 2, 2, 2  …  2, 1, 2, 0, 2, 2, 2, 2, 2, 2]\n",
       " [0, 1, 2, 2, 1, 2, 2, 2, 2, 2  …  2, 1, 2, 2, 2, 2, 2, 2, 2, 2]\n",
       " [2, 2, 0, 1, 0, 2, 2, 2, 2, 2  …  2, 1, 2, 1, 2, 2, 2, 2, 2, 2]\n",
       " ⋮                                                              \n",
       " [0, 1, 1, 2, 2, 2, 1, 0, 2, 0  …  2, 1, 0, 0, 0, 2, 1, 2, 2, 1]\n",
       " [1, 2, 2, 2, 1, 2, 0, 1, 2, 1  …  2, 0, 1, 1, 1, 2, 2, 2, 2, 1]\n",
       " [1, 0, 0, 0, 1, 0, 0, 0, 2, 2  …  2, 1, 2, 1, 2, 2, 2, 2, 2, 1]\n",
       " [0, 2, 2, 1, 2, 1, 1, 2, 2, 1  …  0, 1, 1, 2, 2, 2, 2, 2, 2, 2]\n",
       " [2, 1, 0, 0, 0, 2, 2, 0, 2, 2  …  2, 2, 1, 1, 2, 2, 1, 2, 2, 0]\n",
       " [0, 0, 1, 2, 0, 2, 0, 0, 0, 1  …  1, 0, 1, 2, 2, 2, 0, 2, 2, 1]\n",
       " [0, 0, 0, 2, 0, 0, 0, 0, 2, 2  …  2, 1, 1, 0, 1, 2, 0, 2, 2, 0]\n",
       " [2, 2, 0, 2, 0, 2, 2, 1, 2, 2  …  1, 2, 2, 2, 2, 2, 0, 2, 2, 1]\n",
       " [1, 2, 0, 1, 1, 1, 2, 0, 2, 0  …  0, 2, 0, 0, 0, 2, 1, 2, 2, 0]\n",
       " [1, 1, 2, 2, 0, 0, 2, 0, 1, 0  …  0, 0, 0, 2, 1, 2, 1, 2, 2, 2]\n",
       " [1, 1, 0, 0, 1, 2, 0, 2, 2, 0  …  2, 2, 2, 0, 2, 2, 0, 2, 2, 2]\n",
       " [1, 1, 2, 1, 0, 2, 1, 2, 1, 0  …  1, 2, 0, 0, 2, 1, 1, 0, 1, 0]"
      ]
     },
     "execution_count": 8,
     "metadata": {},
     "output_type": "execute_result"
    }
   ],
   "source": [
    "layers = [data[(25*6*(i - 1) + 1):(25*6*i)] for i in 1:div(length(data), 25*6)]"
   ]
  },
  {
   "cell_type": "code",
   "execution_count": 13,
   "metadata": {},
   "outputs": [
    {
     "data": {
      "text/plain": [
       "12"
      ]
     },
     "execution_count": 13,
     "metadata": {},
     "output_type": "execute_result"
    }
   ],
   "source": [
    "zeromin = argmin(map(x -> sum(x .== 0), layers))"
   ]
  },
  {
   "cell_type": "code",
   "execution_count": 14,
   "metadata": {},
   "outputs": [
    {
     "data": {
      "text/plain": [
       "1806"
      ]
     },
     "execution_count": 14,
     "metadata": {},
     "output_type": "execute_result"
    }
   ],
   "source": [
    "sum(layers[zeromin] .== 1) * sum(layers[zeromin] .== 2)"
   ]
  },
  {
   "cell_type": "markdown",
   "metadata": {},
   "source": [
    "## Part 2"
   ]
  },
  {
   "cell_type": "code",
   "execution_count": 17,
   "metadata": {},
   "outputs": [
    {
     "data": {
      "text/plain": [
       "transpose (generic function with 1 method)"
      ]
     },
     "execution_count": 17,
     "metadata": {},
     "output_type": "execute_result"
    }
   ],
   "source": [
    "transpose(layers) = [[layer[i] for layer in layers] for i in 1:(25*6)]"
   ]
  },
  {
   "cell_type": "code",
   "execution_count": 18,
   "metadata": {},
   "outputs": [
    {
     "data": {
      "text/plain": [
       "150-element Array{Array{Int64,1},1}:\n",
       " [0, 1, 1, 1, 0, 0, 0, 0, 1, 0  …  1, 0, 2, 0, 0, 2, 1, 1, 1, 1]\n",
       " [0, 2, 0, 0, 1, 1, 1, 0, 1, 0  …  0, 2, 1, 0, 0, 2, 2, 1, 1, 1]\n",
       " [1, 0, 2, 1, 1, 0, 1, 2, 0, 2  …  0, 2, 0, 1, 0, 0, 0, 2, 0, 2]\n",
       " [1, 1, 2, 1, 2, 1, 1, 1, 0, 2  …  0, 1, 0, 2, 2, 2, 1, 2, 0, 1]\n",
       " [0, 1, 0, 1, 0, 2, 0, 2, 1, 0  …  1, 2, 0, 0, 0, 0, 1, 0, 1, 0]\n",
       " [2, 2, 2, 2, 2, 2, 2, 2, 2, 2  …  0, 1, 2, 2, 0, 2, 1, 0, 2, 2]\n",
       " [2, 2, 2, 2, 2, 2, 2, 2, 2, 2  …  0, 1, 2, 0, 0, 2, 2, 2, 0, 1]\n",
       " [2, 2, 2, 2, 2, 2, 2, 2, 2, 2  …  0, 2, 0, 0, 0, 1, 0, 0, 2, 2]\n",
       " [2, 2, 2, 2, 2, 2, 2, 2, 2, 2  …  2, 2, 2, 0, 2, 2, 2, 1, 2, 1]\n",
       " [2, 2, 2, 2, 2, 2, 2, 2, 2, 2  …  2, 1, 2, 1, 2, 2, 0, 0, 0, 0]\n",
       " [2, 2, 2, 2, 2, 2, 2, 2, 2, 2  …  0, 1, 2, 0, 2, 1, 0, 2, 1, 0]\n",
       " [2, 2, 2, 2, 2, 2, 2, 2, 2, 2  …  1, 1, 0, 1, 1, 0, 2, 1, 1, 1]\n",
       " [2, 2, 2, 2, 2, 2, 2, 2, 2, 2  …  2, 2, 2, 2, 2, 2, 2, 2, 2, 1]\n",
       " ⋮                                                              \n",
       " [2, 2, 2, 2, 2, 2, 2, 2, 2, 2  …  2, 1, 2, 1, 0, 1, 2, 2, 2, 0]\n",
       " [2, 2, 2, 2, 2, 2, 2, 2, 2, 2  …  2, 0, 0, 0, 2, 2, 0, 0, 2, 2]\n",
       " [2, 2, 2, 2, 2, 2, 2, 2, 2, 2  …  2, 0, 2, 1, 2, 1, 0, 0, 2, 1]\n",
       " [0, 0, 0, 2, 0, 2, 0, 0, 1, 1  …  1, 1, 2, 0, 1, 2, 2, 0, 2, 2]\n",
       " [2, 2, 2, 2, 2, 2, 2, 2, 2, 2  …  2, 1, 1, 1, 1, 2, 0, 0, 2, 0]\n",
       " [1, 1, 1, 0, 1, 2, 2, 2, 0, 0  …  1, 2, 1, 2, 0, 2, 0, 2, 0, 0]\n",
       " [2, 2, 2, 2, 2, 2, 2, 2, 2, 2  …  2, 2, 2, 2, 1, 2, 0, 1, 2, 2]\n",
       " [2, 2, 2, 2, 2, 2, 2, 2, 2, 2  …  2, 2, 2, 2, 2, 2, 2, 2, 2, 1]\n",
       " [2, 2, 2, 2, 2, 2, 2, 2, 2, 2  …  2, 2, 1, 0, 0, 0, 1, 1, 0, 1]\n",
       " [2, 2, 2, 2, 2, 2, 2, 2, 2, 2  …  2, 2, 2, 2, 2, 2, 2, 2, 2, 0]\n",
       " [2, 2, 2, 2, 2, 2, 2, 2, 2, 2  …  2, 2, 2, 2, 2, 2, 2, 2, 2, 1]\n",
       " [2, 2, 2, 2, 2, 2, 2, 2, 2, 2  …  1, 2, 0, 1, 0, 1, 0, 2, 2, 0]"
      ]
     },
     "execution_count": 18,
     "metadata": {},
     "output_type": "execute_result"
    }
   ],
   "source": [
    "tlayers = transpose(layers)"
   ]
  },
  {
   "cell_type": "code",
   "execution_count": 56,
   "metadata": {},
   "outputs": [
    {
     "data": {
      "text/plain": [
       "150-element Array{Int64,1}:\n",
       " 0\n",
       " 0\n",
       " 1\n",
       " 1\n",
       " 0\n",
       " 0\n",
       " 1\n",
       " 1\n",
       " 0\n",
       " 0\n",
       " 1\n",
       " 1\n",
       " 1\n",
       " ⋮\n",
       " 0\n",
       " 0\n",
       " 1\n",
       " 0\n",
       " 0\n",
       " 1\n",
       " 0\n",
       " 1\n",
       " 0\n",
       " 0\n",
       " 1\n",
       " 0"
      ]
     },
     "execution_count": 56,
     "metadata": {},
     "output_type": "execute_result"
    }
   ],
   "source": [
    "pic0 = [l[findall( l .!= 2)[1]] for l in tlayers]"
   ]
  },
  {
   "cell_type": "code",
   "execution_count": 57,
   "metadata": {},
   "outputs": [
    {
     "data": {
      "text/plain": [
       "150-element Array{Char,1}:\n",
       " '⬛'\n",
       " '⬛'\n",
       " '⬜'\n",
       " '⬜'\n",
       " '⬛'\n",
       " '⬛'\n",
       " '⬜'\n",
       " '⬜'\n",
       " '⬛'\n",
       " '⬛'\n",
       " '⬜'\n",
       " '⬜'\n",
       " '⬜'\n",
       " ⋮  \n",
       " '⬛'\n",
       " '⬛'\n",
       " '⬜'\n",
       " '⬛'\n",
       " '⬛'\n",
       " '⬜'\n",
       " '⬛'\n",
       " '⬜'\n",
       " '⬛'\n",
       " '⬛'\n",
       " '⬜'\n",
       " '⬛'"
      ]
     },
     "execution_count": 57,
     "metadata": {},
     "output_type": "execute_result"
    }
   ],
   "source": [
    "pic0 = map(x -> x == 0 ? '⬛' : '⬜', pic0)"
   ]
  },
  {
   "cell_type": "code",
   "execution_count": 58,
   "metadata": {},
   "outputs": [
    {
     "name": "stdout",
     "output_type": "stream",
     "text": [
      "⬛⬛⬜⬜⬛⬛⬜⬜⬛⬛⬜⬜⬜⬜⬛⬜⬜⬜⬛⬛⬛⬜⬜⬛⬛\n",
      "⬛⬛⬛⬜⬛⬜⬛⬛⬜⬛⬜⬛⬛⬛⬛⬜⬛⬛⬜⬛⬜⬛⬛⬜⬛\n",
      "⬛⬛⬛⬜⬛⬜⬛⬛⬜⬛⬜⬜⬜⬛⬛⬜⬛⬛⬜⬛⬜⬛⬛⬜⬛\n",
      "⬛⬛⬛⬜⬛⬜⬜⬜⬜⬛⬜⬛⬛⬛⬛⬜⬜⬜⬛⬛⬜⬜⬜⬜⬛\n",
      "⬜⬛⬛⬜⬛⬜⬛⬛⬜⬛⬜⬛⬛⬛⬛⬜⬛⬜⬛⬛⬜⬛⬛⬜⬛\n",
      "⬛⬜⬜⬛⬛⬜⬛⬛⬜⬛⬜⬛⬛⬛⬛⬜⬛⬛⬜⬛⬜⬛⬛⬜⬛\n"
     ]
    },
    {
     "data": {
      "text/plain": [
       "6-element Array{Nothing,1}:\n",
       " nothing\n",
       " nothing\n",
       " nothing\n",
       " nothing\n",
       " nothing\n",
       " nothing"
      ]
     },
     "execution_count": 58,
     "metadata": {},
     "output_type": "execute_result"
    }
   ],
   "source": [
    "[println(join(pic0[((i-1)*25 + 1):(i*25)])) for i in 1:6]"
   ]
  },
  {
   "cell_type": "code",
   "execution_count": null,
   "metadata": {},
   "outputs": [],
   "source": []
  }
 ],
 "metadata": {
  "kernelspec": {
   "display_name": "Julia 1.3.0",
   "language": "julia",
   "name": "julia-1.3"
  },
  "language_info": {
   "file_extension": ".jl",
   "mimetype": "application/julia",
   "name": "julia",
   "version": "1.3.0"
  }
 },
 "nbformat": 4,
 "nbformat_minor": 2
}
