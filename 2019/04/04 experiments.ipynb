{
 "cells": [
  {
   "cell_type": "markdown",
   "metadata": {},
   "source": [
    "## Part 1"
   ]
  },
  {
   "cell_type": "code",
   "execution_count": 25,
   "metadata": {},
   "outputs": [
    {
     "data": {
      "text/plain": [
       "is_passwordlike (generic function with 1 method)"
      ]
     },
     "execution_count": 25,
     "metadata": {},
     "output_type": "execute_result"
    }
   ],
   "source": [
    "function is_passwordlike(d)\n",
    "    distinct = 1\n",
    "    total = 1\n",
    "    d1 = mod(d, 10)\n",
    "    d = div(d, 10)\n",
    "    while d > 0\n",
    "        d2 = mod(d, 10)\n",
    "        if d2 > d1\n",
    "            return false\n",
    "        elseif d2 < d1\n",
    "            distinct += 1\n",
    "        end\n",
    "        total += 1\n",
    "        d1 = d2\n",
    "        d = div(d, 10)\n",
    "    end\n",
    "\n",
    "    return distinct != total\n",
    "end"
   ]
  },
  {
   "cell_type": "code",
   "execution_count": 26,
   "metadata": {},
   "outputs": [],
   "source": [
    "@assert is_passwordlike(111111)\n",
    "@assert !is_passwordlike(223450)\n",
    "@assert !is_passwordlike(123789)\n",
    "@assert !is_passwordlike(137707)"
   ]
  },
  {
   "cell_type": "code",
   "execution_count": 27,
   "metadata": {},
   "outputs": [
    {
     "name": "stdout",
     "output_type": "stream",
     "text": [
      "1864\n"
     ]
    }
   ],
   "source": [
    "total = 0\n",
    "for i in 137683:596253\n",
    "    if is_passwordlike(i) total += 1 end\n",
    "end\n",
    "\n",
    "println(total)"
   ]
  },
  {
   "cell_type": "markdown",
   "metadata": {},
   "source": [
    "## Part 2"
   ]
  },
  {
   "cell_type": "code",
   "execution_count": 65,
   "metadata": {},
   "outputs": [
    {
     "data": {
      "text/plain": [
       "is_passwordlike2 (generic function with 1 method)"
      ]
     },
     "execution_count": 65,
     "metadata": {},
     "output_type": "execute_result"
    }
   ],
   "source": [
    "function is_passwordlike2(d)\n",
    "    distinct = 1\n",
    "    total = 1\n",
    "    d1 = mod(d, 10)\n",
    "    d = div(d, 10)\n",
    "    match_group = 1\n",
    "    pair_exist = false\n",
    "    while d > 0\n",
    "        d2 = mod(d, 10)\n",
    "#        println(d1, \":\", d2, \":\", d, \":\", match_group)\n",
    "        if d2 > d1\n",
    "            return false\n",
    "        elseif d2 < d1\n",
    "            distinct += 1\n",
    "            if match_group == 2 pair_exist = true end\n",
    "            match_group = 1\n",
    "        else\n",
    "            match_group += 1\n",
    "        end\n",
    "        total += 1\n",
    "        d1 = d2\n",
    "        d = div(d, 10)\n",
    "    end\n",
    "\n",
    "#    println(distinct, \":\", total, \":\", match_group, \":\", pair_exist)\n",
    "    return (distinct != total) && (pair_exist || match_group == 2)\n",
    "end"
   ]
  },
  {
   "cell_type": "code",
   "execution_count": 66,
   "metadata": {},
   "outputs": [],
   "source": [
    "@assert !is_passwordlike2(111111)\n",
    "@assert !is_passwordlike2(223450)\n",
    "@assert !is_passwordlike2(123789)\n",
    "@assert !is_passwordlike2(137707)\n",
    "@assert is_passwordlike2(112233)\n",
    "@assert !is_passwordlike2(123444)\n",
    "@assert is_passwordlike2(111122)\n",
    "@assert is_passwordlike2(112222)"
   ]
  },
  {
   "cell_type": "code",
   "execution_count": 60,
   "metadata": {},
   "outputs": [
    {
     "name": "stdout",
     "output_type": "stream",
     "text": [
      "3:6:2:true\n"
     ]
    },
    {
     "data": {
      "text/plain": [
       "false"
      ]
     },
     "execution_count": 60,
     "metadata": {},
     "output_type": "execute_result"
    }
   ],
   "source": [
    "is_passwordlike2(112233)"
   ]
  },
  {
   "cell_type": "code",
   "execution_count": 63,
   "metadata": {},
   "outputs": [
    {
     "data": {
      "text/plain": [
       "true"
      ]
     },
     "execution_count": 63,
     "metadata": {},
     "output_type": "execute_result"
    }
   ],
   "source": [
    "true || 2 == 2"
   ]
  },
  {
   "cell_type": "code",
   "execution_count": 67,
   "metadata": {},
   "outputs": [
    {
     "name": "stdout",
     "output_type": "stream",
     "text": [
      "1258\n"
     ]
    }
   ],
   "source": [
    "total = 0\n",
    "for i in 137683:596253\n",
    "    if is_passwordlike2(i) total += 1 end\n",
    "end\n",
    "\n",
    "println(total)"
   ]
  },
  {
   "cell_type": "code",
   "execution_count": null,
   "metadata": {},
   "outputs": [],
   "source": []
  }
 ],
 "metadata": {
  "kernelspec": {
   "display_name": "Julia 1.2.0",
   "language": "julia",
   "name": "julia-1.2"
  },
  "language_info": {
   "file_extension": ".jl",
   "mimetype": "application/julia",
   "name": "julia",
   "version": "1.2.0"
  }
 },
 "nbformat": 4,
 "nbformat_minor": 2
}
