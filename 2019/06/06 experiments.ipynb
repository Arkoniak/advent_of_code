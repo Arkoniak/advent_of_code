{
 "cells": [
  {
   "cell_type": "markdown",
   "metadata": {},
   "source": [
    "## Part 1"
   ]
  },
  {
   "cell_type": "code",
   "execution_count": 26,
   "metadata": {},
   "outputs": [
    {
     "data": {
      "text/plain": [
       "conv2graph (generic function with 1 method)"
      ]
     },
     "execution_count": 26,
     "metadata": {},
     "output_type": "execute_result"
    }
   ],
   "source": [
    "function conv2graph(data)\n",
    "    graph = Dict{String, Vector{String}}()  # x is being orbited by [y, z]\n",
    "    for orbit in data\n",
    "        m = match(r\"^([^\\)]+)\\)(.*)$\", orbit)\n",
    "        if m[1] in keys(graph)\n",
    "            push!(graph[m[1]], m[2])\n",
    "        else\n",
    "            graph[m[1]] = [m[2]]\n",
    "        end\n",
    "    end\n",
    "    \n",
    "    graph\n",
    "end"
   ]
  },
  {
   "cell_type": "code",
   "execution_count": 46,
   "metadata": {},
   "outputs": [
    {
     "data": {
      "text/plain": [
       "orbits (generic function with 2 methods)"
      ]
     },
     "execution_count": 46,
     "metadata": {},
     "output_type": "execute_result"
    }
   ],
   "source": [
    "function orbits(graph, node, w)\n",
    "    if node in keys(graph)\n",
    "        return w + sum(map(x -> orbits(graph, x, w + 1), graph[node]))\n",
    "    else\n",
    "        return w\n",
    "    end\n",
    "end"
   ]
  },
  {
   "cell_type": "code",
   "execution_count": 50,
   "metadata": {},
   "outputs": [],
   "source": [
    "graph = conv2graph([\"COM)A\", \"A)B\", \"B)C\"])\n",
    "@assert orbits(graph, \"COM\", 0) == 6\n",
    "\n",
    "graph = conv2graph(readlines(\"test_input.txt\"))\n",
    "@assert orbits(graph, \"COM\", 0) == 42"
   ]
  },
  {
   "cell_type": "code",
   "execution_count": 51,
   "metadata": {},
   "outputs": [
    {
     "name": "stdout",
     "output_type": "stream",
     "text": [
      "249308\n"
     ]
    }
   ],
   "source": [
    "graph = conv2graph(readlines(\"input.txt\"))\n",
    "println(orbits(graph, \"COM\", 0))"
   ]
  },
  {
   "cell_type": "code",
   "execution_count": 48,
   "metadata": {},
   "outputs": [
    {
     "data": {
      "text/plain": [
       "Dict{String,Array{String,1}} with 8 entries:\n",
       "  \"B\"   => [\"C\", \"G\"]\n",
       "  \"J\"   => [\"K\"]\n",
       "  \"COM\" => [\"B\"]\n",
       "  \"C\"   => [\"D\"]\n",
       "  \"D\"   => [\"E\", \"I\"]\n",
       "  \"G\"   => [\"H\"]\n",
       "  \"E\"   => [\"F\", \"J\"]\n",
       "  \"K\"   => [\"L\"]"
      ]
     },
     "execution_count": 48,
     "metadata": {},
     "output_type": "execute_result"
    }
   ],
   "source": [
    "graph = conv2graph(readlines(\"test_input.txt\"))"
   ]
  },
  {
   "cell_type": "markdown",
   "metadata": {},
   "source": [
    "## Part 2"
   ]
  },
  {
   "cell_type": "code",
   "execution_count": 15,
   "metadata": {},
   "outputs": [
    {
     "data": {
      "text/plain": [
       "fillpath! (generic function with 1 method)"
      ]
     },
     "execution_count": 15,
     "metadata": {},
     "output_type": "execute_result"
    }
   ],
   "source": [
    "function conv2bigraph(data)\n",
    "    graph = Dict{String, Vector}()  # x is being orbited by [y, z]\n",
    "    for orbit in data\n",
    "        m = match(r\"^([^\\)]+)\\)(.*)$\", orbit)\n",
    "        m = string.(m.captures)\n",
    "        if m[1] in keys(graph)\n",
    "            push!(graph[m[1]][1], m[2])\n",
    "        else\n",
    "            graph[m[1]] = [[m[2]], -1]\n",
    "        end\n",
    "        \n",
    "        if m[2] in keys(graph)\n",
    "            push!(graph[m[2]][1], m[1])\n",
    "        else\n",
    "            graph[m[2]] = [[m[1]], -1]\n",
    "        end\n",
    "    end\n",
    "    \n",
    "    graph\n",
    "end\n",
    "\n",
    "function fillpath!(graph, node, weight)\n",
    "    if (graph[node][2] == -1) || (graph[node][2] > weight)\n",
    "        graph[node][2] = weight\n",
    "        for n2 in graph[node][1]\n",
    "            fillpath!(graph, n2, weight + 1)\n",
    "        end\n",
    "    end\n",
    "end"
   ]
  },
  {
   "cell_type": "code",
   "execution_count": 21,
   "metadata": {},
   "outputs": [],
   "source": [
    "graph = conv2bigraph(readlines(\"test_input2.txt\"))\n",
    "fillpath!(graph, \"YOU\", 0)\n",
    "@assert graph[\"SAN\"][2] - 2 == 4"
   ]
  },
  {
   "cell_type": "code",
   "execution_count": 22,
   "metadata": {},
   "outputs": [
    {
     "name": "stdout",
     "output_type": "stream",
     "text": [
      "349\n"
     ]
    }
   ],
   "source": [
    "graph = conv2bigraph(readlines(\"input.txt\"))\n",
    "fillpath!(graph, \"YOU\", 0)\n",
    "println(graph[\"SAN\"][2] - 2)"
   ]
  },
  {
   "cell_type": "code",
   "execution_count": null,
   "metadata": {},
   "outputs": [],
   "source": []
  }
 ],
 "metadata": {
  "kernelspec": {
   "display_name": "Julia 1.2.0",
   "language": "julia",
   "name": "julia-1.2"
  },
  "language_info": {
   "file_extension": ".jl",
   "mimetype": "application/julia",
   "name": "julia",
   "version": "1.2.0"
  }
 },
 "nbformat": 4,
 "nbformat_minor": 2
}
