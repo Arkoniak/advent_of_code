{
 "cells": [
  {
   "cell_type": "markdown",
   "metadata": {},
   "source": [
    "## Part 1"
   ]
  },
  {
   "cell_type": "code",
   "execution_count": 23,
   "metadata": {},
   "outputs": [
    {
     "data": {
      "text/plain": [
       "4-element Array{Planet,1}:\n",
       " Planet([15, -2, -6], [0, 0, 0]) \n",
       " Planet([-5, -4, -11], [0, 0, 0])\n",
       " Planet([0, -6, 0], [0, 0, 0])   \n",
       " Planet([5, 9, 6], [0, 0, 0])    "
      ]
     },
     "execution_count": 23,
     "metadata": {},
     "output_type": "execute_result"
    }
   ],
   "source": [
    "struct Planet\n",
    "    pos::Vector{Int}\n",
    "    vel::Vector{Int}\n",
    "end\n",
    "\n",
    "Planet(s::String) = Planet(parse.(Int, match(r\"x=([\\-0-9]+).*y=([\\-0-9]+).*z=([\\-0-9]+)\", s).captures), zeros(Int, 3))\n",
    "veldiff!(p1::Planet, p2::Planet) = (p1.vel .+= sign.(p2.pos .- p1.pos))\n",
    "shift!(p::Planet) = (p.pos .+= p.vel)\n",
    "energy(p::Planet) = sum(abs.(p.pos))*sum(abs.(p.vel))\n",
    "\n",
    "planets = Planet.(readlines(\"input.txt\"))\n",
    "\n",
    "for i in 1:1000\n",
    "    for p1 in planets, p2 in planets veldiff!(p1, p2) end\n",
    "    for p in planets shift!(p) end\n",
    "end\n",
    "\n",
    "println(sum(energy.(planets)))"
   ]
  },
  {
   "cell_type": "markdown",
   "metadata": {},
   "source": [
    "## Part 2"
   ]
  },
  {
   "cell_type": "code",
   "execution_count": 79,
   "metadata": {},
   "outputs": [
    {
     "data": {
      "text/plain": [
       "find_cycle (generic function with 1 method)"
      ]
     },
     "execution_count": 79,
     "metadata": {},
     "output_type": "execute_result"
    }
   ],
   "source": [
    "## 1-dim problem\n",
    "mutable struct Planet1\n",
    "    pos::Int\n",
    "    vel::Int\n",
    "end\n",
    "\n",
    "veldiff!(p1::Planet1, p2::Planet1) = (p1.vel += sign(p2.pos - p1.pos))\n",
    "shift!(p::Planet1) = (p.pos += p.vel)\n",
    "\n",
    "Base.:copy(p::Planet1) = Planet1(p.pos, p.vel)\n",
    "equal(p1::Planet1, p2::Planet1) = p1.pos == p2.pos && p1.vel == p2.vel\n",
    "\n",
    "function find_cycle(planets::Vector{Planet1})\n",
    "    init = copy.(planets)\n",
    "    @show init\n",
    "    steps = 1\n",
    "    while true\n",
    "        for p1 in planets, p2 in planets veldiff!(p1, p2) end\n",
    "        for p in planets shift!(p) end\n",
    "        \n",
    "        if all(equal.(planets, init)) return steps end\n",
    "        steps += 1\n",
    "    end\n",
    "end"
   ]
  },
  {
   "cell_type": "code",
   "execution_count": 86,
   "metadata": {},
   "outputs": [
    {
     "name": "stdout",
     "output_type": "stream",
     "text": [
      "init = Planet1[Planet1(15, 0), Planet1(-5, 0), Planet1(0, 0), Planet1(5, 0)]\n",
      "init = Planet1[Planet1(-2, 0), Planet1(-4, 0), Planet1(-6, 0), Planet1(9, 0)]\n",
      "init = Planet1[Planet1(-6, 0), Planet1(-11, 0), Planet1(0, 0), Planet1(6, 0)]\n"
     ]
    },
    {
     "data": {
      "text/plain": [
       "326489627728984"
      ]
     },
     "execution_count": 86,
     "metadata": {},
     "output_type": "execute_result"
    }
   ],
   "source": [
    "# planets = Planet.([\"<x=-1, y=0, z=2>\",\n",
    "# \"<x=2, y=-10, z=-7>\",\n",
    "# \"<x=4, y=-8, z=8>\",\n",
    "# \"<x=3, y=5, z=-1>\"])\n",
    "\n",
    "# planets = Planet.([\n",
    "# \"<x=-8, y=-10, z=0>\",\n",
    "# \"<x=5, y=5, z=10>\",\n",
    "# \"<x=2, y=-7, z=3>\",\n",
    "# \"<x=9, y=-8, z=-3>\"\n",
    "# ])\n",
    "\n",
    "planets = Planet.(readlines(\"input.txt\"))\n",
    "lcm([find_cycle([Planet1(p.pos[i], p.vel[i]) for p in planets]) for i in 1:3]...)"
   ]
  },
  {
   "cell_type": "code",
   "execution_count": 83,
   "metadata": {},
   "outputs": [
    {
     "data": {
      "text/plain": [
       "2772"
      ]
     },
     "execution_count": 83,
     "metadata": {},
     "output_type": "execute_result"
    }
   ],
   "source": [
    "lcm(18, 28, 44)"
   ]
  },
  {
   "cell_type": "code",
   "execution_count": 82,
   "metadata": {},
   "outputs": [
    {
     "data": {
      "text/plain": [
       "2772"
      ]
     },
     "execution_count": 82,
     "metadata": {},
     "output_type": "execute_result"
    }
   ],
   "source": [
    "9*14*22"
   ]
  },
  {
   "cell_type": "code",
   "execution_count": 57,
   "metadata": {},
   "outputs": [
    {
     "data": {
      "text/plain": [
       "2-element Array{Planet1,1}:\n",
       " Planet1(0, 0)\n",
       " Planet1(4, 0)"
      ]
     },
     "execution_count": 57,
     "metadata": {},
     "output_type": "execute_result"
    }
   ],
   "source": [
    "planets = [Planet1(0, 0), Planet1(4, 0)]"
   ]
  },
  {
   "cell_type": "code",
   "execution_count": 58,
   "metadata": {},
   "outputs": [
    {
     "name": "stdout",
     "output_type": "stream",
     "text": [
      "init = Planet1[Planet1(0, 0), Planet1(4, 0)]\n"
     ]
    },
    {
     "data": {
      "text/plain": [
       "8"
      ]
     },
     "execution_count": 58,
     "metadata": {},
     "output_type": "execute_result"
    }
   ],
   "source": [
    "find_cycle(planets)"
   ]
  },
  {
   "cell_type": "code",
   "execution_count": 2,
   "metadata": {},
   "outputs": [
    {
     "data": {
      "text/plain": [
       "Planet"
      ]
     },
     "execution_count": 2,
     "metadata": {},
     "output_type": "execute_result"
    }
   ],
   "source": [
    "struct Planet\n",
    "    pos::Vector{Int}\n",
    "    vel::Vector{Int}\n",
    "end\n",
    "\n",
    "Planet(s::String) = Planet(parse.(Int, match(r\"x=([\\-0-9]+).*y=([\\-0-9]+).*z=([\\-0-9]+)\", s).captures), zeros(Int, 3))"
   ]
  },
  {
   "cell_type": "code",
   "execution_count": 51,
   "metadata": {},
   "outputs": [
    {
     "data": {
      "text/plain": [
       "true"
      ]
     },
     "execution_count": 51,
     "metadata": {},
     "output_type": "execute_result"
    }
   ],
   "source": [
    "equal(Planet1(4, 0), Planet1(4, 0))"
   ]
  },
  {
   "cell_type": "code",
   "execution_count": 18,
   "metadata": {},
   "outputs": [
    {
     "data": {
      "text/plain": [
       "Planet([0, -6, 0], [0, 0, 0])"
      ]
     },
     "execution_count": 18,
     "metadata": {},
     "output_type": "execute_result"
    }
   ],
   "source": [
    "p1 = Planet(\"<x=15, y=-2, z=-6>\")\n",
    "p2 = Planet(\"<x=0, y=-6, z=0>\")"
   ]
  },
  {
   "cell_type": "code",
   "execution_count": 19,
   "metadata": {},
   "outputs": [
    {
     "data": {
      "text/plain": [
       "3-element Array{Int64,1}:\n",
       " -1\n",
       " -1\n",
       "  1"
      ]
     },
     "execution_count": 19,
     "metadata": {},
     "output_type": "execute_result"
    }
   ],
   "source": [
    "veldiff!(p1, p2)"
   ]
  },
  {
   "cell_type": "code",
   "execution_count": 20,
   "metadata": {},
   "outputs": [
    {
     "data": {
      "text/plain": [
       "Planet([15, -2, -6], [-1, -1, 1])"
      ]
     },
     "execution_count": 20,
     "metadata": {},
     "output_type": "execute_result"
    }
   ],
   "source": [
    "p1"
   ]
  },
  {
   "cell_type": "code",
   "execution_count": null,
   "metadata": {},
   "outputs": [],
   "source": []
  }
 ],
 "metadata": {
  "kernelspec": {
   "display_name": "Julia 1.3.0",
   "language": "julia",
   "name": "julia-1.3"
  },
  "language_info": {
   "file_extension": ".jl",
   "mimetype": "application/julia",
   "name": "julia",
   "version": "1.3.0"
  }
 },
 "nbformat": 4,
 "nbformat_minor": 2
}
