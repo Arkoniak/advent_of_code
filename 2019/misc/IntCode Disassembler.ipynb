{
 "cells": [
  {
   "cell_type": "code",
   "execution_count": 1,
   "metadata": {},
   "outputs": [
    {
     "data": {
      "text/plain": [
       "\"109,424,203,1,21101,11,0,0,1105,1,282,21102,1,18,0,1105,1,259,2102,1,1,221,203,1,21102,1,31,0,1105,1,282,21102,38,1,0,1105,1,259,20101,0,23,2,22102,1,1,3,21101,1,0,1,21101,57,0,0,1105,1,303,2101,0,1,222,21002,221,1,3,21002,221,1,2,21102,1,259,1,21101,0,80,0,1105,1,225,21102,83,1,2,21102,1,91,0,1106,0,303,2101,0,1,223,20102,1,222,4,21101,0,259,3,21101,0,225,2,21101,225,0,1,21101,118,0,0,1106,0,225,20101,0,222,3,21101,34,0,2,21101,133,0,0,1105,1,303,21202,1,-1,1,22001,223,1,1,21102,1,148,0,1106,0,259,1201,1,0,223,20102,1,221,4,20101,0,222,3,21101,12,0,2,1001,132,-2,224,1002,224,2,224,1001,224,3,224,1002,132,-1,132,1,224,132,224,21001,224,1,1,21101,195,0,0,105,1,108,20207,1,223,2,20101,0,23,1,21102,1,-1,3,21102,214,1,0,1105,1,303,22101,1,1,1,204,1,99,0,0,0,0,109,5,1202,-4,1,249,22101,0,-3,1,22101,0,-2,2,21201,-1,0,3,21101,0,250,0,1105,1,225,21201,1,0,-4,109,-5,2106,0,0,109,3,22107,0,-2,-1,21202,-1,2,-1,21201,-1,-1,-1,22202,-1,-2,-2,109,-3,2106,0,0,109,3,21207,-2,0,-1,1206,-1,294,104,0,99,22101,0,-2,-2,109,-3,2106,0,0,109,5,22207,-3,-4,-1,1206,-1,346,22201,-4,-3,-4,21202,-3,-1,-1,22201,-4,-1,2,21202,2,-1,-1,22201,-4,-1,1,21201,-2,0,3,21101,343,0,0,1105,1,303,1105,1,415,22207,-2,-3,-1,1206,-1,387,22201,-3,-2,-3,21202,-2,-1,-1,22201,-3,-1,3,21202,3,-1,-1,22201,-3,-1,2,21201,-4,0,1,21101,384,0,0,1105,1,303,1106,0,415,21202,-4,-1,-4,22201,-4,-3,-4,22202,-3,-2,-2,22202,-2,-4,-4,22202,-3,-2,-3,21202,-4,-1,-2,22201,-3,-2,1,21202,1,1,-4,109,-5,2106,0,0\""
      ]
     },
     "execution_count": 1,
     "metadata": {},
     "output_type": "execute_result"
    }
   ],
   "source": [
    "readline(\"input19.txt\")"
   ]
  },
  {
   "cell_type": "code",
   "execution_count": 1,
   "metadata": {},
   "outputs": [
    {
     "data": {
      "text/plain": [
       "\"109,424,203,1\""
      ]
     },
     "execution_count": 1,
     "metadata": {},
     "output_type": "execute_result"
    }
   ],
   "source": [
    "s = \"109,424,203,1\""
   ]
  },
  {
   "cell_type": "code",
   "execution_count": 2,
   "metadata": {},
   "outputs": [
    {
     "data": {
      "text/plain": [
       "str2prog (generic function with 1 method)"
      ]
     },
     "execution_count": 2,
     "metadata": {},
     "output_type": "execute_result"
    }
   ],
   "source": [
    "str2prog(s) = parse.(Int, split(s, \",\"))"
   ]
  },
  {
   "cell_type": "code",
   "execution_count": 68,
   "metadata": {},
   "outputs": [
    {
     "data": {
      "text/plain": [
       "Instruction"
      ]
     },
     "execution_count": 68,
     "metadata": {},
     "output_type": "execute_result"
    }
   ],
   "source": [
    "struct Instruction\n",
    "    op::Int\n",
    "    modes::Vector{Int}\n",
    "    result::Bool\n",
    "    name::String\n",
    "    lng::Int\n",
    "end\n",
    "\n",
    "function Instruction(op_code::Int)\n",
    "    ops = Dict{Int, Tuple{Int, Bool, String}}(\n",
    "        1 => (3, true, \"ADD\"),\n",
    "        2 => (3, true, \"MUL\"),\n",
    "        3 => (1, true, \"INP\"),\n",
    "        4 => (1, false, \"OUT\"),\n",
    "        5 => (2, false, \"NEZ\"),\n",
    "        6 => (2, false, \"EQZ\"),\n",
    "        7 => (3, true, \"LES\"),\n",
    "        8 => (3, true, \"EQL\"),\n",
    "        9 => (1, false, \"MVP\"),\n",
    "        99 => (0, false, \"EOP\")\n",
    "    )\n",
    "\n",
    "    op = mod(op_code, 100)\n",
    "    modes_code = div(op_code, 100)\n",
    "    if op in keys(ops)\n",
    "        modes = zeros(ops[op][1])\n",
    "        for i in 1:ops[op][1]\n",
    "            modes[i] = mod(modes_code, 10)\n",
    "            modes_code = div(modes_code, 10)\n",
    "        end\n",
    "\n",
    "        return Instruction(op, modes, ops[op][2], ops[op][3], ops[op][1])\n",
    "    else\n",
    "        return Instruction(op_code, [], false, \"ERR\", 0)\n",
    "    end\n",
    "end"
   ]
  },
  {
   "cell_type": "code",
   "execution_count": 4,
   "metadata": {},
   "outputs": [],
   "source": [
    "struct Operation\n",
    "    cur::Int\n",
    "    name::String\n",
    "    args::Vector{String}\n",
    "end"
   ]
  },
  {
   "cell_type": "code",
   "execution_count": 6,
   "metadata": {},
   "outputs": [
    {
     "data": {
      "text/plain": [
       "4-element Array{Int64,1}:\n",
       " 109\n",
       " 424\n",
       " 203\n",
       "   1"
      ]
     },
     "execution_count": 6,
     "metadata": {},
     "output_type": "execute_result"
    }
   ],
   "source": [
    "code = str2prog(s)"
   ]
  },
  {
   "cell_type": "code",
   "execution_count": 63,
   "metadata": {},
   "outputs": [
    {
     "data": {
      "text/plain": [
       "disassemble (generic function with 1 method)"
      ]
     },
     "execution_count": 63,
     "metadata": {},
     "output_type": "execute_result"
    }
   ],
   "source": [
    "function disassemble(code::Vector{Int})\n",
    "    res = Operation[]\n",
    "    cur = 1\n",
    "    while cur <= length(code)\n",
    "        instruction = Instruction(code[cur])\n",
    "        pos = cur - 1\n",
    "        args = String[]\n",
    "        for j in 1:instruction.lng\n",
    "            cur += 1\n",
    "            if instruction.modes[j] == 0\n",
    "                push!(args, \"M\" * string(code[cur]))\n",
    "            elseif instruction.modes[j] == 1\n",
    "                push!(args, string(code[cur]))\n",
    "            else\n",
    "                push!(args, \"R\" * string(code[cur]))\n",
    "            end\n",
    "        end\n",
    "        cur += 1\n",
    "        if instruction.name != \"ERR\"\n",
    "            push!(res, Operation(pos, instruction.name, args))\n",
    "        else\n",
    "            push!(res, Operation(pos, instruction.name, [string(instruction.op)]))\n",
    "        end\n",
    "    end\n",
    "    \n",
    "    res\n",
    "end"
   ]
  },
  {
   "cell_type": "code",
   "execution_count": 39,
   "metadata": {},
   "outputs": [
    {
     "data": {
      "text/plain": [
       "2-element Array{Operation,1}:\n",
       " Operation(0, \"MVP\", [\"424\"])\n",
       " Operation(2, \"INP\", [\"R1\"]) "
      ]
     },
     "execution_count": 39,
     "metadata": {},
     "output_type": "execute_result"
    }
   ],
   "source": [
    "asm = disassemble(str2prog(s))"
   ]
  },
  {
   "cell_type": "code",
   "execution_count": 38,
   "metadata": {},
   "outputs": [
    {
     "data": {
      "text/plain": [
       "show_asm (generic function with 1 method)"
      ]
     },
     "execution_count": 38,
     "metadata": {},
     "output_type": "execute_result"
    }
   ],
   "source": [
    "function show_asm(asm)\n",
    "    for el in asm\n",
    "        print((\"0\"^6*string(el.cur))[(end-2):end], \":\\t\")\n",
    "        print(el.name, '\\t')\n",
    "        println(join(el.args, '\\t'))\n",
    "    end\n",
    "end"
   ]
  },
  {
   "cell_type": "code",
   "execution_count": 40,
   "metadata": {},
   "outputs": [
    {
     "name": "stdout",
     "output_type": "stream",
     "text": [
      "000:\tMVP\t424\n",
      "002:\tINP\tR1\n"
     ]
    }
   ],
   "source": [
    "show_asm(asm)"
   ]
  },
  {
   "cell_type": "code",
   "execution_count": 69,
   "metadata": {},
   "outputs": [
    {
     "name": "stdout",
     "output_type": "stream",
     "text": [
      "000:\tMVP\t424\n",
      "002:\tINP\tR1\n",
      "004:\tADD\t11\t0\tR0\n",
      "008:\tNEZ\t1\t282\n",
      "011:\tMUL\t1\t18\tR0\n",
      "015:\tNEZ\t1\t259\n",
      "018:\tMUL\t1\tR1\tM221\n",
      "022:\tINP\tR1\n",
      "024:\tMUL\t1\t31\tR0\n",
      "028:\tNEZ\t1\t282\n",
      "031:\tMUL\t38\t1\tR0\n",
      "035:\tNEZ\t1\t259\n",
      "038:\tADD\t0\tM23\tR2\n",
      "042:\tMUL\t1\tR1\tR3\n",
      "046:\tADD\t1\t0\tR1\n",
      "050:\tADD\t57\t0\tR0\n",
      "054:\tNEZ\t1\t303\n",
      "057:\tADD\t0\tR1\tM222\n",
      "061:\tMUL\tM221\t1\tR3\n",
      "065:\tMUL\tM221\t1\tR2\n",
      "069:\tMUL\t1\t259\tR1\n",
      "073:\tADD\t0\t80\tR0\n",
      "077:\tNEZ\t1\t225\n",
      "080:\tMUL\t83\t1\tR2\n",
      "084:\tMUL\t1\t91\tR0\n",
      "088:\tEQZ\t0\t303\n",
      "091:\tADD\t0\tR1\tM223\n",
      "095:\tMUL\t1\tM222\tR4\n",
      "099:\tADD\t0\t259\tR3\n",
      "103:\tADD\t0\t225\tR2\n",
      "107:\tADD\t225\t0\tR1\n",
      "111:\tADD\t118\t0\tR0\n",
      "115:\tEQZ\t0\t225\n",
      "118:\tADD\t0\tM222\tR3\n",
      "122:\tADD\t34\t0\tR2\n",
      "126:\tADD\t133\t0\tR0\n",
      "130:\tNEZ\t1\t303\n",
      "133:\tMUL\tR1\t-1\tR1\n",
      "137:\tADD\tM223\tR1\tR1\n",
      "141:\tMUL\t1\t148\tR0\n",
      "145:\tEQZ\t0\t259\n",
      "148:\tADD\tR1\t0\tM223\n",
      "152:\tMUL\t1\tM221\tR4\n",
      "156:\tADD\t0\tM222\tR3\n",
      "160:\tADD\t12\t0\tR2\n",
      "164:\tADD\tM132\t-2\tM224\n",
      "168:\tMUL\tM224\t2\tM224\n",
      "172:\tADD\tM224\t3\tM224\n",
      "176:\tMUL\tM132\t-1\tM132\n",
      "180:\tADD\tM224\tM132\tM224\n",
      "184:\tADD\tM224\t1\tR1\n",
      "188:\tADD\t195\t0\tR0\n",
      "192:\tNEZ\t1\tM108\n",
      "195:\tLES\tR1\tM223\tR2\n",
      "199:\tADD\t0\tM23\tR1\n",
      "203:\tMUL\t1\t-1\tR3\n",
      "207:\tMUL\t214\t1\tR0\n",
      "211:\tNEZ\t1\t303\n",
      "214:\tADD\t1\tR1\tR1\n",
      "218:\tOUT\tR1\n",
      "220:\tEOP\t\n",
      "221:\tERR\t0\n",
      "222:\tERR\t0\n",
      "223:\tERR\t0\n",
      "224:\tERR\t0\n",
      "225:\tMVP\t5\n",
      "227:\tMUL\tR-4\t1\tM249\n",
      "231:\tADD\t0\tR-3\tR1\n",
      "235:\tADD\t0\tR-2\tR2\n",
      "239:\tADD\tR-1\t0\tR3\n",
      "243:\tADD\t0\t250\tR0\n",
      "247:\tNEZ\t1\t225\n",
      "250:\tADD\tR1\t0\tR-4\n",
      "254:\tMVP\t-5\n",
      "256:\tEQZ\t0\tR0\n",
      "259:\tMVP\t3\n",
      "261:\tLES\t0\tR-2\tR-1\n",
      "265:\tMUL\tR-1\t2\tR-1\n",
      "269:\tADD\tR-1\t-1\tR-1\n",
      "273:\tMUL\tR-1\tR-2\tR-2\n",
      "277:\tMVP\t-3\n",
      "279:\tEQZ\t0\tR0\n",
      "282:\tMVP\t3\n",
      "284:\tLES\tR-2\t0\tR-1\n",
      "288:\tEQZ\tR-1\t294\n",
      "291:\tOUT\t0\n",
      "293:\tEOP\t\n",
      "294:\tADD\t0\tR-2\tR-2\n",
      "298:\tMVP\t-3\n",
      "300:\tEQZ\t0\tR0\n",
      "303:\tMVP\t5\n",
      "305:\tLES\tR-3\tR-4\tR-1\n",
      "309:\tEQZ\tR-1\t346\n",
      "312:\tADD\tR-4\tR-3\tR-4\n",
      "316:\tMUL\tR-3\t-1\tR-1\n",
      "320:\tADD\tR-4\tR-1\tR2\n",
      "324:\tMUL\tR2\t-1\tR-1\n",
      "328:\tADD\tR-4\tR-1\tR1\n",
      "332:\tADD\tR-2\t0\tR3\n",
      "336:\tADD\t343\t0\tR0\n",
      "340:\tNEZ\t1\t303\n",
      "343:\tNEZ\t1\t415\n",
      "346:\tLES\tR-2\tR-3\tR-1\n",
      "350:\tEQZ\tR-1\t387\n",
      "353:\tADD\tR-3\tR-2\tR-3\n",
      "357:\tMUL\tR-2\t-1\tR-1\n",
      "361:\tADD\tR-3\tR-1\tR3\n",
      "365:\tMUL\tR3\t-1\tR-1\n",
      "369:\tADD\tR-3\tR-1\tR2\n",
      "373:\tADD\tR-4\t0\tR1\n",
      "377:\tADD\t384\t0\tR0\n",
      "381:\tNEZ\t1\t303\n",
      "384:\tEQZ\t0\t415\n",
      "387:\tMUL\tR-4\t-1\tR-4\n",
      "391:\tADD\tR-4\tR-3\tR-4\n",
      "395:\tMUL\tR-3\tR-2\tR-2\n",
      "399:\tMUL\tR-2\tR-4\tR-4\n",
      "403:\tMUL\tR-3\tR-2\tR-3\n",
      "407:\tMUL\tR-4\t-1\tR-2\n",
      "411:\tADD\tR-3\tR-2\tR1\n",
      "415:\tMUL\tR1\t1\tR-4\n",
      "419:\tMVP\t-5\n",
      "421:\tEQZ\t0\tR0\n"
     ]
    }
   ],
   "source": [
    "readline(\"input19.txt\") |> x -> str2prog(x) |> x -> disassemble(x) |> x -> show_asm(x)\n",
    "# code = str2prog(readline(\"input19.txt\"))"
   ]
  },
  {
   "cell_type": "code",
   "execution_count": 64,
   "metadata": {},
   "outputs": [
    {
     "data": {
      "text/plain": [
       "123-element Array{Operation,1}:\n",
       " Operation(0, \"MVP\", [\"424\"])                \n",
       " Operation(2, \"INP\", [\"R1\"])                 \n",
       " Operation(4, \"ADD\", [\"11\", \"0\", \"R0\"])      \n",
       " Operation(8, \"NEZ\", [\"1\", \"282\"])           \n",
       " Operation(11, \"MUL\", [\"1\", \"18\", \"R0\"])     \n",
       " Operation(15, \"NEZ\", [\"1\", \"259\"])          \n",
       " Operation(18, \"MUL\", [\"1\", \"R1\", \"M221\"])   \n",
       " Operation(22, \"INP\", [\"R1\"])                \n",
       " Operation(24, \"MUL\", [\"1\", \"31\", \"R0\"])     \n",
       " Operation(28, \"NEZ\", [\"1\", \"282\"])          \n",
       " Operation(31, \"MUL\", [\"38\", \"1\", \"R0\"])     \n",
       " Operation(35, \"NEZ\", [\"1\", \"259\"])          \n",
       " Operation(38, \"ADD\", [\"0\", \"M23\", \"R2\"])    \n",
       " ⋮                                           \n",
       " Operation(381, \"NEZ\", [\"1\", \"303\"])         \n",
       " Operation(384, \"EQZ\", [\"0\", \"415\"])         \n",
       " Operation(387, \"MUL\", [\"R-4\", \"-1\", \"R-4\"]) \n",
       " Operation(391, \"ADD\", [\"R-4\", \"R-3\", \"R-4\"])\n",
       " Operation(395, \"MUL\", [\"R-3\", \"R-2\", \"R-2\"])\n",
       " Operation(399, \"MUL\", [\"R-2\", \"R-4\", \"R-4\"])\n",
       " Operation(403, \"MUL\", [\"R-3\", \"R-2\", \"R-3\"])\n",
       " Operation(407, \"MUL\", [\"R-4\", \"-1\", \"R-2\"]) \n",
       " Operation(411, \"ADD\", [\"R-3\", \"R-2\", \"R1\"]) \n",
       " Operation(415, \"MUL\", [\"R1\", \"1\", \"R-4\"])   \n",
       " Operation(419, \"MVP\", [\"-5\"])               \n",
       " Operation(421, \"EQZ\", [\"0\", \"R0\"])          "
      ]
     },
     "execution_count": 64,
     "metadata": {},
     "output_type": "execute_result"
    }
   ],
   "source": [
    "asm = disassemble(code)"
   ]
  },
  {
   "cell_type": "code",
   "execution_count": null,
   "metadata": {},
   "outputs": [],
   "source": []
  }
 ],
 "metadata": {
  "kernelspec": {
   "display_name": "Julia 1.3.0",
   "language": "julia",
   "name": "julia-1.3"
  },
  "language_info": {
   "file_extension": ".jl",
   "mimetype": "application/julia",
   "name": "julia",
   "version": "1.3.0"
  }
 },
 "nbformat": 4,
 "nbformat_minor": 2
}
