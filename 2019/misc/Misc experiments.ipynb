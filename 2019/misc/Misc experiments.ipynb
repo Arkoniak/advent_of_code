{
 "cells": [
  {
   "cell_type": "code",
   "execution_count": 2,
   "metadata": {},
   "outputs": [
    {
     "data": {
      "text/plain": [
       "PermIndex"
      ]
     },
     "execution_count": 2,
     "metadata": {},
     "output_type": "execute_result"
    }
   ],
   "source": [
    "struct PermIndex\n",
    "    ind::Vector{Int}\n",
    "end\n",
    "\n",
    "PermIndex(n::Int) = PermIndex(ones(Int, n))"
   ]
  },
  {
   "cell_type": "code",
   "execution_count": 86,
   "metadata": {},
   "outputs": [
    {
     "data": {
      "text/plain": [
       "apply (generic function with 1 method)"
      ]
     },
     "execution_count": 86,
     "metadata": {},
     "output_type": "execute_result"
    }
   ],
   "source": [
    "function perm2int(p::PermIndex)\n",
    "    res = 1\n",
    "    f = 1\n",
    "    for i in 1:length(p.ind)\n",
    "        res += f*(p.ind[end - i + 1] - 1)\n",
    "        f *= i\n",
    "    end\n",
    "    \n",
    "    res\n",
    "end\n",
    "\n",
    "function int2perm(n::Int, l::Int)\n",
    "    n = n - 1\n",
    "    f = factorial(l)\n",
    "    res = zeros(Int, l)\n",
    "    for i in l:-1:1\n",
    "        f = div(f, i)\n",
    "        res[l - i + 1] = div(n, f) + 1\n",
    "        n = mod(n, f)\n",
    "    end\n",
    "    \n",
    "    PermIndex(res)\n",
    "end\n",
    "\n",
    "function next_perm_ind(p::PermIndex)\n",
    "    int2perm(perm2int(p) + 1, length(p.ind))\n",
    "end\n",
    "\n",
    "function next_perm_ind!(p::PermIndex)\n",
    "    for i in length(p.ind):-1:1\n",
    "        if p.ind[i] == length(p.ind) - i + 1\n",
    "            p.ind[i] = 1\n",
    "        else\n",
    "            p.ind[i] += 1\n",
    "            break\n",
    "        end\n",
    "    end\n",
    "end\n",
    "\n",
    "function apply(p::PermIndex, v::Vector{T}) where T\n",
    "    res = Vector{T}(undef, length(v))\n",
    "    for (i, ind) in enumerate(p.ind)\n",
    "        res[i] = v[ind]\n",
    "        v = vcat(v[1:(ind - 1)], v[(ind + 1):end])\n",
    "    end\n",
    "    res\n",
    "end"
   ]
  },
  {
   "cell_type": "code",
   "execution_count": 67,
   "metadata": {},
   "outputs": [
    {
     "data": {
      "text/plain": [
       "PermIndex([3, 2, 1])"
      ]
     },
     "execution_count": 67,
     "metadata": {},
     "output_type": "execute_result"
    }
   ],
   "source": [
    "next_perm_ind(next_perm_ind(next_perm_ind(next_perm_ind(next_perm_ind(PermIndex(3))))))"
   ]
  },
  {
   "cell_type": "code",
   "execution_count": 91,
   "metadata": {},
   "outputs": [
    {
     "data": {
      "text/plain": [
       "PermIndex([3, 2, 1])"
      ]
     },
     "execution_count": 91,
     "metadata": {},
     "output_type": "execute_result"
    }
   ],
   "source": [
    "#p = PermIndex(3)\n",
    "next_perm_ind!(p)\n",
    "p"
   ]
  },
  {
   "cell_type": "code",
   "execution_count": 74,
   "metadata": {},
   "outputs": [
    {
     "data": {
      "text/plain": [
       "PermIndex([1, 2, 1])"
      ]
     },
     "execution_count": 74,
     "metadata": {},
     "output_type": "execute_result"
    }
   ],
   "source": [
    "p"
   ]
  },
  {
   "cell_type": "code",
   "execution_count": 71,
   "metadata": {},
   "outputs": [
    {
     "data": {
      "text/plain": [
       "3-element Array{Char,1}:\n",
       " 'c'\n",
       " 'a'\n",
       " 'b'"
      ]
     },
     "execution_count": 71,
     "metadata": {},
     "output_type": "execute_result"
    }
   ],
   "source": [
    "apply(PermIndex([3, 1, 1]), ['a', 'b', 'c'])"
   ]
  },
  {
   "cell_type": "code",
   "execution_count": 62,
   "metadata": {},
   "outputs": [
    {
     "name": "stdout",
     "output_type": "stream",
     "text": [
      "1:a\n",
      "2:b\n",
      "3:c\n"
     ]
    }
   ],
   "source": [
    "for (i, elem) in enumerate(['a', 'b', 'c'])\n",
    "    println(i, \":\", elem)\n",
    "end"
   ]
  },
  {
   "cell_type": "code",
   "execution_count": 1,
   "metadata": {},
   "outputs": [],
   "source": [
    "struct PermIter{T}\n",
    "    v::Vector{T}\n",
    "    infinite::Bool\n",
    "end\n",
    "\n",
    "function Base.iterate(iter::PermIter{T}, state = ones(Int, length(iter.v))) where T\n",
    "    if state[end] == 2 return nothing end\n",
    "\n",
    "    v = iter.v\n",
    "    elem = Vector{T}(undef, length(iter.v))\n",
    "    for (i, ind) in enumerate(state)\n",
    "        elem[i] = v[ind]\n",
    "        v = vcat(v[1:(ind - 1)], v[(ind + 1):end])\n",
    "    end\n",
    "\n",
    "    for i in length(iter.v):-1:1\n",
    "        if state[i] == length(iter.v) - i + 1\n",
    "            state[i] = 1\n",
    "        else\n",
    "            state[i] += 1\n",
    "            break\n",
    "        end\n",
    "    end\n",
    "    \n",
    "    if !(iter.infinite) && (sum(state) == length(iter.v)) state[end] = 2 end\n",
    "    \n",
    "    return (elem, state)    \n",
    "end"
   ]
  },
  {
   "cell_type": "code",
   "execution_count": 3,
   "metadata": {},
   "outputs": [
    {
     "data": {
      "text/plain": [
       "permutations (generic function with 2 methods)"
      ]
     },
     "execution_count": 3,
     "metadata": {},
     "output_type": "execute_result"
    }
   ],
   "source": [
    "permutations(v::Vector{T}, inf = false) where T = PermIter(v, inf)"
   ]
  },
  {
   "cell_type": "code",
   "execution_count": 100,
   "metadata": {},
   "outputs": [
    {
     "data": {
      "text/plain": [
       "PermIter{Char}(['a', 'b', 'c'], false)"
      ]
     },
     "execution_count": 100,
     "metadata": {},
     "output_type": "execute_result"
    }
   ],
   "source": [
    "xx = PermIter(['a', 'b', 'c'], false)"
   ]
  },
  {
   "cell_type": "code",
   "execution_count": 6,
   "metadata": {},
   "outputs": [
    {
     "name": "stdout",
     "output_type": "stream",
     "text": [
      "[4, 3, 2, 1]\n",
      "[4, 3, 1, 2]\n",
      "[4, 2, 3, 1]\n",
      "[4, 2, 1, 3]\n",
      "[4, 1, 3, 2]\n",
      "[4, 1, 2, 3]\n",
      "[3, 4, 2, 1]\n",
      "[3, 4, 1, 2]\n",
      "[3, 2, 4, 1]\n",
      "[3, 2, 1, 4]\n",
      "[3, 1, 4, 2]\n",
      "[3, 1, 2, 4]\n",
      "[2, 4, 3, 1]\n",
      "[2, 4, 1, 3]\n",
      "[2, 3, 4, 1]\n",
      "[2, 3, 1, 4]\n",
      "[2, 1, 4, 3]\n",
      "[2, 1, 3, 4]\n",
      "[1, 4, 3, 2]\n",
      "[1, 4, 2, 3]\n",
      "[1, 3, 4, 2]\n",
      "[1, 3, 2, 4]\n",
      "[1, 2, 4, 3]\n",
      "[1, 2, 3, 4]\n",
      "[4, 3, 2, 1]\n",
      "[4, 3, 1, 2]\n",
      "[4, 2, 3, 1]\n",
      "[4, 2, 1, 3]\n",
      "[4, 1, 3, 2]\n",
      "[4, 1, 2, 3]\n",
      "[3, 4, 2, 1]\n",
      "[3, 4, 1, 2]\n",
      "[3, 2, 4, 1]\n",
      "[3, 2, 1, 4]\n",
      "[3, 1, 4, 2]\n",
      "[3, 1, 2, 4]\n",
      "[2, 4, 3, 1]\n",
      "[2, 4, 1, 3]\n",
      "[2, 3, 4, 1]\n",
      "[2, 3, 1, 4]\n"
     ]
    }
   ],
   "source": [
    "for (i, x) in enumerate(permutations([4, 3, 2, 1], true))\n",
    "    println(x)\n",
    "    if i == 40 break end\n",
    "end"
   ]
  },
  {
   "cell_type": "code",
   "execution_count": 111,
   "metadata": {},
   "outputs": [],
   "source": [
    "println(2 + 2)"
   ]
  },
  {
   "cell_type": "code",
   "execution_count": 4,
   "metadata": {},
   "outputs": [
    {
     "ename": "UndefVarError",
     "evalue": "UndefVarError: take not defined",
     "output_type": "error",
     "traceback": [
      "UndefVarError: take not defined",
      "",
      "Stacktrace:",
      " [1] top-level scope at In[4]:1"
     ]
    }
   ],
   "source": [
    "take(permutations([4, 3, 2, 1], true), 40)"
   ]
  },
  {
   "cell_type": "code",
   "execution_count": 8,
   "metadata": {},
   "outputs": [
    {
     "name": "stdout",
     "output_type": "stream",
     "text": [
      "abcd\n",
      "abdc\n",
      "acbd\n",
      "acdb\n",
      "adbc\n",
      "adcb\n",
      "bacd\n",
      "badc\n",
      "bcad\n",
      "bcda\n",
      "bdac\n",
      "bdca\n",
      "cabd\n",
      "cadb\n",
      "cbad\n",
      "cbda\n",
      "cdab\n",
      "cdba\n",
      "dabc\n",
      "dacb\n",
      "dbac\n",
      "dbca\n",
      "dcab\n",
      "dcba\n"
     ]
    }
   ],
   "source": [
    "for x in permutations(['a', 'b', 'c', 'd'])\n",
    "    println(join(x))\n",
    "end"
   ]
  },
  {
   "cell_type": "code",
   "execution_count": 9,
   "metadata": {},
   "outputs": [
    {
     "name": "stdout",
     "output_type": "stream",
     "text": [
      "abcd\n",
      "abdc\n",
      "acbd\n",
      "acdb\n",
      "adbc\n",
      "adcb\n",
      "bacd\n",
      "badc\n",
      "bcad\n",
      "bcda\n",
      "bdac\n",
      "bdca\n",
      "cabd\n",
      "cadb\n",
      "cbad\n",
      "cbda\n",
      "cdab\n",
      "cdba\n",
      "dabc\n",
      "dacb\n",
      "dbac\n",
      "dbca\n",
      "dcab\n",
      "dcba\n",
      "abcd\n",
      "abdc\n",
      "acbd\n",
      "acdb\n",
      "adbc\n",
      "adcb\n",
      "bacd\n",
      "badc\n",
      "bcad\n",
      "bcda\n",
      "bdac\n",
      "bdca\n",
      "cabd\n",
      "cadb\n",
      "cbad\n",
      "cbda\n"
     ]
    }
   ],
   "source": [
    "for (i, x) in enumerate(permutations(['a', 'b', 'c', 'd'], true))\n",
    "    println(join(x))\n",
    "    if i == 40 break end\n",
    "end"
   ]
  },
  {
   "cell_type": "code",
   "execution_count": null,
   "metadata": {},
   "outputs": [],
   "source": []
  }
 ],
 "metadata": {
  "kernelspec": {
   "display_name": "Julia 1.3.0",
   "language": "julia",
   "name": "julia-1.3"
  },
  "language_info": {
   "file_extension": ".jl",
   "mimetype": "application/julia",
   "name": "julia",
   "version": "1.3.0"
  }
 },
 "nbformat": 4,
 "nbformat_minor": 2
}
