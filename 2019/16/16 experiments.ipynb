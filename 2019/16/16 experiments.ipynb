{
 "cells": [
  {
   "cell_type": "markdown",
   "metadata": {},
   "source": [
    "## Part 1"
   ]
  },
  {
   "cell_type": "code",
   "execution_count": 1,
   "metadata": {},
   "outputs": [
    {
     "data": {
      "text/plain": [
       "fft (generic function with 3 methods)"
      ]
     },
     "execution_count": 1,
     "metadata": {},
     "output_type": "execute_result"
    }
   ],
   "source": [
    "struct FFTIter\n",
    "    n::Int\n",
    "    seq::Vector{Int}\n",
    "    offset::Int\n",
    "end\n",
    "\n",
    "Base.:iterate(iter::FFTIter, state = iter.offset) = (iter.seq[mod(div(state, iter.n), length(iter.seq)) + 1], state + 1)\n",
    "\n",
    "fft(n, seq = [0, 1, 0, -1], offset = 1) = FFTIter(n, seq, offset)"
   ]
  },
  {
   "cell_type": "code",
   "execution_count": 87,
   "metadata": {},
   "outputs": [
    {
     "data": {
      "text/plain": [
       "phase (generic function with 2 methods)"
      ]
     },
     "execution_count": 87,
     "metadata": {},
     "output_type": "execute_result"
    }
   ],
   "source": [
    "struct PhaseIter\n",
    "    start::Vector{Int}\n",
    "    n::Int\n",
    "end\n",
    "\n",
    "function Base.:iterate(iter::PhaseIter, state = (iter.start, 0))\n",
    "    data, cnt = state\n",
    "    if cnt >= iter.n return nothing end\n",
    "    \n",
    "    res = zeros(Int, length(data))\n",
    "    for j in 1:length(data)\n",
    "        total = 0\n",
    "        for (i, x) in enumerate(fft(j))\n",
    "            total += x*data[i]\n",
    "            if i == length(data) break end\n",
    "        end\n",
    "        res[j] = mod(abs(total), 10)\n",
    "    end\n",
    "    \n",
    "    (res, (res, cnt + 1))\n",
    "end\n",
    "\n",
    "phase(start, n) = PhaseIter(start, n)"
   ]
  },
  {
   "cell_type": "code",
   "execution_count": 17,
   "metadata": {},
   "outputs": [
    {
     "name": "stdout",
     "output_type": "stream",
     "text": [
      "24176176\n"
     ]
    }
   ],
   "source": [
    "res = nothing\n",
    "for x in phase(parse.(Int, collect(\"80871224585914546619083218645595\")), 100)\n",
    "    res = x\n",
    "end\n",
    "\n",
    "println(join(res[1:8]))"
   ]
  },
  {
   "cell_type": "code",
   "execution_count": 18,
   "metadata": {},
   "outputs": [
    {
     "name": "stdout",
     "output_type": "stream",
     "text": [
      "Part 1: 37153056\n"
     ]
    }
   ],
   "source": [
    "res = nothing\n",
    "for x in phase(parse.(Int, collect(readline(\"input.txt\"))), 100)\n",
    "    res = x\n",
    "end\n",
    "\n",
    "println(\"Part 1: \", join(res[1:8]))"
   ]
  },
  {
   "cell_type": "markdown",
   "metadata": {},
   "source": [
    "## Part 2"
   ]
  },
  {
   "cell_type": "code",
   "execution_count": 55,
   "metadata": {},
   "outputs": [
    {
     "name": "stdout",
     "output_type": "stream",
     "text": [
      "64\n",
      "6103472887222991412161644491616444461610673937656284321067393765\n"
     ]
    },
    {
     "data": {
      "text/plain": [
       "8"
      ]
     },
     "execution_count": 55,
     "metadata": {},
     "output_type": "execute_result"
    }
   ],
   "source": [
    "# 5032370828289352374483602196270465306148\n",
    "# 0644500605234724276713044212647737299328\n",
    "# 8478098701251010634343006209717030312308\n",
    "# 5600546743963285855495222644587007743188\n",
    "# 2198729269684741624823864262835888140768\n",
    "\n",
    "# 886030164860389437449918875283602196270465306148\n",
    "# 800827568627099063473293358313044212647737299328\n",
    "# 403782133352114285070628305743006209717030312308\n",
    "# 946961145432048248973634411695222644587007743188\n",
    "# 960817585102765662392340409823864262835888140768\n",
    "\n",
    "# 16820138970070380644991893004926875283602196270465306148\n",
    "# 35291048662570290183121798164019358313044212647737299328\n",
    "# 69179732474212511405028811157332305743006209717030312308\n",
    "# 40190952243501407758915502469296411695222644587007743188\n",
    "# 15043484593826418724019948380190409823864262835888140768\n",
    "data0 = [1, 2, 3, 4, 3, 7, 6, 5]\n",
    "\n",
    "data = vcat(data0, data0, data0, data0, data0, data0, data0, data0)\n",
    "res = nothing\n",
    "for x in phase(data, 100)\n",
    "    res = x\n",
    "end\n",
    "println(length(join(res)))\n",
    "println(join(res))\n",
    "mod(sum(data), 10)\n"
   ]
  },
  {
   "cell_type": "code",
   "execution_count": 27,
   "metadata": {},
   "outputs": [
    {
     "data": {
      "text/plain": [
       "6500000"
      ]
     },
     "execution_count": 27,
     "metadata": {},
     "output_type": "execute_result"
    }
   ],
   "source": [
    "# 6 500 000\n",
    "length(readline(\"input.txt\")) * 10000"
   ]
  },
  {
   "cell_type": "code",
   "execution_count": 28,
   "metadata": {},
   "outputs": [
    {
     "data": {
      "text/plain": [
       "\"5973431\""
      ]
     },
     "execution_count": 28,
     "metadata": {},
     "output_type": "execute_result"
    }
   ],
   "source": [
    "readline(\"input.txt\")[1:7]"
   ]
  },
  {
   "cell_type": "code",
   "execution_count": 39,
   "metadata": {},
   "outputs": [
    {
     "data": {
      "text/plain": [
       "1620.0"
      ]
     },
     "execution_count": 39,
     "metadata": {},
     "output_type": "execute_result"
    }
   ],
   "source": [
    "floor((6500000 - 5973431)*2/650)"
   ]
  },
  {
   "cell_type": "code",
   "execution_count": 41,
   "metadata": {},
   "outputs": [
    {
     "name": "stdout",
     "output_type": "stream",
     "text": [
      "15\n",
      "1515\n",
      "601515\n",
      "50601515\n",
      "1760601515\n",
      "728760601515\n",
      "85611560601515\n",
      "9771351560601515\n",
      "813090151560601515\n",
      "17514460151560601515\n"
     ]
    }
   ],
   "source": [
    "data0 = [1, 5]\n",
    "data = data0\n",
    "\n",
    "for i in 1:10\n",
    "    res = nothing\n",
    "    for x in phase(data, 100)\n",
    "        res = x\n",
    "    end\n",
    "    println(join(res))\n",
    "    data = vcat(data, data0)\n",
    "end"
   ]
  },
  {
   "cell_type": "code",
   "execution_count": 44,
   "metadata": {},
   "outputs": [
    {
     "name": "stdout",
     "output_type": "stream",
     "text": [
      "[1, 5]\n"
     ]
    }
   ],
   "source": [
    "for x in phase([1, 5], 1)\n",
    "    println(x)\n",
    "end"
   ]
  },
  {
   "cell_type": "code",
   "execution_count": 4,
   "metadata": {},
   "outputs": [],
   "source": [
    "data = parse.(Int, collect(\"12345678\"))\n",
    "\n",
    "res = zeros(Int, length(data))\n",
    "for j in 1:length(data)\n",
    "    total = 0\n",
    "    for (i, x) in enumerate(fft(j))\n",
    "        total += x*data[i]\n",
    "        if i == length(data) break end\n",
    "    end\n",
    "    res[j] = mod(abs(total), 10)\n",
    "end"
   ]
  },
  {
   "cell_type": "code",
   "execution_count": 6,
   "metadata": {},
   "outputs": [
    {
     "data": {
      "text/plain": [
       "8-element Array{Int64,1}:\n",
       " 4\n",
       " 8\n",
       " 2\n",
       " 2\n",
       " 6\n",
       " 1\n",
       " 5\n",
       " 8"
      ]
     },
     "execution_count": 6,
     "metadata": {},
     "output_type": "execute_result"
    }
   ],
   "source": [
    "res"
   ]
  },
  {
   "cell_type": "code",
   "execution_count": 37,
   "metadata": {},
   "outputs": [
    {
     "data": {
      "text/plain": [
       "offset (generic function with 1 method)"
      ]
     },
     "execution_count": 37,
     "metadata": {},
     "output_type": "execute_result"
    }
   ],
   "source": [
    "struct OffsetIter{I}\n",
    "    it::I\n",
    "    n::Int\n",
    "end\n",
    "\n",
    "function Base.:iterate(iter::OffsetIter, state = (nothing, true))\n",
    "    inner_state, is_offset = state\n",
    "    if is_offset\n",
    "        inner_result = iterate(iter.it)\n",
    "        if inner_result == nothing return nothing end\n",
    "        inner_el, inner_state = inner_result\n",
    "        for k in 1:iter.n\n",
    "            inner_result = iterate(iter.it, inner_state)\n",
    "            if inner_result == nothing return nothing end\n",
    "            inner_el, inner_state = inner_result\n",
    "        end\n",
    "        return (inner_el, (inner_state, false))\n",
    "    end\n",
    "    iter_result = iterate(iter.it, inner_state)\n",
    "    if iter_result == nothing return nothing end\n",
    "    inner_el, inner_state = iter_result\n",
    "    return (inner_el, (inner_state, false))\n",
    "end\n",
    "\n",
    "offset(it, n) = OffsetIter(it, n)"
   ]
  },
  {
   "cell_type": "code",
   "execution_count": 41,
   "metadata": {},
   "outputs": [
    {
     "name": "stdout",
     "output_type": "stream",
     "text": [
      "5\n",
      "6\n",
      "7\n",
      "8\n"
     ]
    }
   ],
   "source": [
    "for i in offset([4, 5, 6, 7, 8], 1)\n",
    "    println(i)\n",
    "end"
   ]
  },
  {
   "cell_type": "code",
   "execution_count": 30,
   "metadata": {},
   "outputs": [
    {
     "data": {
      "text/plain": [
       "(6, (4, false))"
      ]
     },
     "execution_count": 30,
     "metadata": {},
     "output_type": "execute_result"
    }
   ],
   "source": [
    "iterate(offset([4, 5, 6, 7], 2))"
   ]
  },
  {
   "cell_type": "code",
   "execution_count": 59,
   "metadata": {},
   "outputs": [
    {
     "data": {
      "text/plain": [
       "16327"
      ]
     },
     "execution_count": 59,
     "metadata": {},
     "output_type": "execute_result"
    }
   ],
   "source": [
    "length(\"03036732577212944063491565474664\")*10000 - 303673"
   ]
  },
  {
   "cell_type": "code",
   "execution_count": 84,
   "metadata": {},
   "outputs": [
    {
     "data": {
      "text/plain": [
       "\"48040080\""
      ]
     },
     "execution_count": 84,
     "metadata": {},
     "output_type": "execute_result"
    }
   ],
   "source": [
    "s = \"03036732577212944063491565474664\"\n",
    "offset = parse(Int, s[1:7])\n",
    "data0 = parse.(Int, collect(s))\n",
    "s0 = mod(offset, length(data0)) + 1\n",
    "itn = 10000 - div(offset, length(data0)) - 1\n",
    "data = data0[offset:end]\n",
    "for i in 1:itn\n",
    "    data = vcat(data, data0)\n",
    "end\n",
    "\n",
    "for i in 1:101\n",
    "    data = phase(data)\n",
    "end\n",
    "join(data[1:8])"
   ]
  },
  {
   "cell_type": "code",
   "execution_count": 115,
   "metadata": {},
   "outputs": [
    {
     "data": {
      "text/plain": [
       "phase3 (generic function with 1 method)"
      ]
     },
     "execution_count": 115,
     "metadata": {},
     "output_type": "execute_result"
    }
   ],
   "source": [
    "function phase2(data)\n",
    "    res = zeros(Int, length(data))\n",
    "    res[end] = data[end]\n",
    "    for i in (length(data) - 1):-1:1\n",
    "        res[i] = mod(res[i+1] + data[i], 10)\n",
    "    end\n",
    "    res\n",
    "end\n",
    "\n",
    "function phase3(data)\n",
    "    for i in (length(data) - 1):-1:1\n",
    "        data[i] = mod(data[i+1] + data[i], 10)\n",
    "    end\n",
    "    data\n",
    "end"
   ]
  },
  {
   "cell_type": "code",
   "execution_count": 112,
   "metadata": {},
   "outputs": [
    {
     "data": {
      "text/plain": [
       "\"78725270\""
      ]
     },
     "execution_count": 112,
     "metadata": {},
     "output_type": "execute_result"
    }
   ],
   "source": [
    "s = \"02935109699940807407585447034323\"\n",
    "offset = parse(Int, s[1:7])\n",
    "# offset = 32\n",
    "data0 = parse.(Int, collect(s))\n",
    "s0 = mod(offset, length(data0)) + 1\n",
    "itn = 10000 - div(offset, length(data0)) - 1\n",
    "data = data0[s0:end]\n",
    "for i in 1:itn\n",
    "    data = vcat(data, data0)\n",
    "end\n",
    "\n",
    "for i in 1:100\n",
    "    data = phase2(data)\n",
    "end\n",
    "join(data)[1:8]"
   ]
  },
  {
   "cell_type": "code",
   "execution_count": 113,
   "metadata": {},
   "outputs": [
    {
     "data": {
      "text/plain": [
       "\"60592199\""
      ]
     },
     "execution_count": 113,
     "metadata": {},
     "output_type": "execute_result"
    }
   ],
   "source": [
    "s = readline(\"input.txt\")\n",
    "offset = parse(Int, s[1:7])\n",
    "# offset = 32\n",
    "data0 = parse.(Int, collect(s))\n",
    "s0 = mod(offset, length(data0)) + 1\n",
    "itn = 10000 - div(offset, length(data0)) - 1\n",
    "data = data0[s0:end]\n",
    "for i in 1:itn\n",
    "    data = vcat(data, data0)\n",
    "end\n",
    "\n",
    "for i in 1:100\n",
    "    data = phase2(data)\n",
    "end\n",
    "join(data)[1:8]"
   ]
  },
  {
   "cell_type": "code",
   "execution_count": 109,
   "metadata": {},
   "outputs": [
    {
     "name": "stdout",
     "output_type": "stream",
     "text": [
      "09840647077712494013441065474664\n"
     ]
    }
   ],
   "source": [
    "s = \"03036732577212944063491565474664\"\n",
    "\n",
    "data0 = parse.(Int, collect(s))\n",
    "\n",
    "data = vcat(data0, data0)\n",
    "res = nothing\n",
    "for x in phase(data, 100)\n",
    "    res = x\n",
    "end\n",
    "println(join(res)[33:end])"
   ]
  },
  {
   "cell_type": "code",
   "execution_count": 141,
   "metadata": {},
   "outputs": [
    {
     "data": {
      "text/plain": [
       "part2_2 (generic function with 1 method)"
      ]
     },
     "execution_count": 141,
     "metadata": {},
     "output_type": "execute_result"
    }
   ],
   "source": [
    "function part2_1()\n",
    "    s = \"02935109699940807407585447034323\"\n",
    "    offset = parse(Int, s[1:7])\n",
    "    data0 = parse.(Int, collect(s))\n",
    "    s0 = mod(offset, length(data0)) + 1\n",
    "    itn = 10000 - div(offset, length(data0)) - 1\n",
    "    data = data0[s0:end]\n",
    "    for i in 1:itn\n",
    "        data = vcat(data, data0)\n",
    "    end\n",
    "\n",
    "    for i in 1:100\n",
    "        data = phase2(data)\n",
    "    end\n",
    "    join(data)[1:8]\n",
    "end\n",
    "\n",
    "function part2_2()\n",
    "    s = \"02935109699940807407585447034323\"^(10^4)\n",
    "    offset = parse(Int, s[1:7])\n",
    "    data = parse.(Int, collect(s))[(offset+1):end]\n",
    "\n",
    "    for i in 1:100\n",
    "        data = phase3(data)\n",
    "    end\n",
    "    join(data)[1:8]\n",
    "end\n"
   ]
  },
  {
   "cell_type": "code",
   "execution_count": 142,
   "metadata": {},
   "outputs": [
    {
     "data": {
      "text/plain": [
       "\"78725270\""
      ]
     },
     "execution_count": 142,
     "metadata": {},
     "output_type": "execute_result"
    }
   ],
   "source": [
    "part2_2()"
   ]
  },
  {
   "cell_type": "code",
   "execution_count": 147,
   "metadata": {},
   "outputs": [
    {
     "data": {
      "text/plain": [
       "python_p2 (generic function with 1 method)"
      ]
     },
     "execution_count": 147,
     "metadata": {},
     "output_type": "execute_result"
    }
   ],
   "source": [
    "function python_p2()\n",
    "    s = \"02935109699940807407585447034323\"^(10^4)\n",
    "    offset = parse(Int, s[1:7])\n",
    "    data = parse.(Int, collect(s))[(offset+1):end]\n",
    "    \n",
    "    results = data[1:8]\n",
    "    next_top = 100\n",
    "    next_bottom = 1\n",
    "    thing_acc = 1\n",
    "    for n in 1:(length(data) - 1)\n",
    "        thing_acc = thing_acc * div(next_top, next_bottom)\n",
    "        next_top += 1\n",
    "        next_bottom += 1\n",
    "        for i in 1:8\n",
    "            if n+i >= length(data) continue end\n",
    "            results[i] = mod(results[i] + thing_acc * data[n+i], 10)\n",
    "        end\n",
    "    end\n",
    "    \n",
    "    println(join(results))\n",
    "end"
   ]
  },
  {
   "cell_type": "code",
   "execution_count": 148,
   "metadata": {},
   "outputs": [
    {
     "name": "stdout",
     "output_type": "stream",
     "text": [
      "69271506\n"
     ]
    }
   ],
   "source": [
    "python_p2()"
   ]
  },
  {
   "cell_type": "code",
   "execution_count": 138,
   "metadata": {},
   "outputs": [
    {
     "data": {
      "text/plain": [
       "BenchmarkTools.Trial: \n",
       "  memory estimate:  106.54 MiB\n",
       "  allocs estimate:  54792\n",
       "  --------------\n",
       "  minimum time:     38.425 ms (7.08% GC)\n",
       "  median time:      42.108 ms (7.84% GC)\n",
       "  mean time:        54.362 ms (7.98% GC)\n",
       "  maximum time:     155.976 ms (9.81% GC)\n",
       "  --------------\n",
       "  samples:          92\n",
       "  evals/sample:     1"
      ]
     },
     "execution_count": 138,
     "metadata": {},
     "output_type": "execute_result"
    }
   ],
   "source": [
    "using BenchmarkTools\n",
    "\n",
    "@benchmark part2_1()"
   ]
  },
  {
   "cell_type": "code",
   "execution_count": 139,
   "metadata": {},
   "outputs": [
    {
     "data": {
      "text/plain": [
       "BenchmarkTools.Trial: \n",
       "  memory estimate:  6.63 MiB\n",
       "  allocs estimate:  53007\n",
       "  --------------\n",
       "  minimum time:     33.568 ms (0.00% GC)\n",
       "  median time:      42.684 ms (0.00% GC)\n",
       "  mean time:        58.216 ms (0.73% GC)\n",
       "  maximum time:     146.335 ms (0.00% GC)\n",
       "  --------------\n",
       "  samples:          86\n",
       "  evals/sample:     1"
      ]
     },
     "execution_count": 139,
     "metadata": {},
     "output_type": "execute_result"
    }
   ],
   "source": [
    "@benchmark part2_2()"
   ]
  },
  {
   "cell_type": "code",
   "execution_count": 129,
   "metadata": {},
   "outputs": [
    {
     "data": {
      "text/plain": [
       "\"10547199\""
      ]
     },
     "execution_count": 129,
     "metadata": {},
     "output_type": "execute_result"
    }
   ],
   "source": [
    "part2_1()"
   ]
  },
  {
   "cell_type": "code",
   "execution_count": 136,
   "metadata": {},
   "outputs": [
    {
     "data": {
      "text/plain": [
       "\"asdsadasdsadasdsadasdsadasdsadasdsadasdsadasdsadasdsad\""
      ]
     },
     "execution_count": 136,
     "metadata": {},
     "output_type": "execute_result"
    }
   ],
   "source": []
  },
  {
   "cell_type": "code",
   "execution_count": null,
   "metadata": {},
   "outputs": [],
   "source": [
    "def run():\n",
    "\tstate = [int(c) for c in input] * 10000\n",
    "\toffset = int(input[0:7])\n",
    "\tstate = state[offset:]\n",
    "\tresults = state[0:8]\n",
    "\tnext_top = 100\n",
    "\tnext_bottom = 1\n",
    "\tthing_acc = 1\n",
    "\tfor n in range(1, len(state)):\n",
    "\t\tthing_acc = thing_acc * next_top // next_bottom\n",
    "\t\tnext_top += 1\n",
    "\t\tnext_bottom += 1\n",
    "\t\tfor i in range(8):\n",
    "\t\t\tif n+i >= len(state):\n",
    "\t\t\t\tcontinue\n",
    "\t\t\tresults[i] = (results[i] + thing_acc * state[n+i]) % 10\n",
    "\tprint(results)\n",
    "\n",
    "run()"
   ]
  }
 ],
 "metadata": {
  "kernelspec": {
   "display_name": "Julia 1.3.0",
   "language": "julia",
   "name": "julia-1.3"
  },
  "language_info": {
   "file_extension": ".jl",
   "mimetype": "application/julia",
   "name": "julia",
   "version": "1.3.0"
  }
 },
 "nbformat": 4,
 "nbformat_minor": 2
}
