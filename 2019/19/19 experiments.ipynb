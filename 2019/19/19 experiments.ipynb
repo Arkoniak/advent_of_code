{
 "cells": [
  {
   "cell_type": "markdown",
   "metadata": {},
   "source": [
    "## IntCode"
   ]
  },
  {
   "cell_type": "code",
   "execution_count": 2,
   "metadata": {},
   "outputs": [
    {
     "data": {
      "text/plain": [
       "clear! (generic function with 1 method)"
      ]
     },
     "execution_count": 2,
     "metadata": {},
     "output_type": "execute_result"
    }
   ],
   "source": [
    "# states are\n",
    "# 0 - running\n",
    "# 1 - waiting for input\n",
    "# 99 - halt\n",
    "\n",
    "mutable struct Prog\n",
    "    code::Vector{Int}\n",
    "    cur::Int\n",
    "    input::Vector{Int}\n",
    "    output::Vector{Int}\n",
    "    relative_base::Int\n",
    "    state::Int\n",
    "end\n",
    "\n",
    "str2prog(s) = parse.(Int, split(s, \",\"))\n",
    "\n",
    "Prog(s::String) = Prog(vcat(str2prog(s), zeros(Int, 10000)), 1, [], [], 0, 0)\n",
    "\n",
    "struct Instruction\n",
    "    op::Int\n",
    "    modes::Vector{Int}\n",
    "end\n",
    "\n",
    "function Instruction(op_code::Int)\n",
    "    ops = Dict{Int, Int}(\n",
    "        1 => 3,\n",
    "        2 => 3,\n",
    "        3 => 1,\n",
    "        4 => 1,\n",
    "        5 => 2,\n",
    "        6 => 2,\n",
    "        7 => 3,\n",
    "        8 => 3,\n",
    "        9 => 1,\n",
    "        99 => 0\n",
    "    )\n",
    "    \n",
    "    op = mod(op_code, 100)\n",
    "    modes_code = div(op_code, 100)\n",
    "    modes = zeros(ops[op])\n",
    "    for i in 1:ops[op]\n",
    "        modes[i] = mod(modes_code, 10)\n",
    "        modes_code = div(modes_code, 10)\n",
    "    end\n",
    "    \n",
    "    Instruction(op, modes)\n",
    "end\n",
    "\n",
    "Instruction(prog::Prog) = Instruction(prog.code[prog.cur])\n",
    "\n",
    "function take(prog::Prog, mode, offset)\n",
    "    if mode == 0\n",
    "        return prog.code[prog.code[prog.cur + offset] + 1]\n",
    "    elseif mode == 1\n",
    "        return prog.code[prog.cur + offset]\n",
    "    else\n",
    "        return prog.code[prog.code[prog.cur + offset] + prog.relative_base + 1]\n",
    "    end\n",
    "end\n",
    "\n",
    "function update!(prog::Prog, value, offset, mode = 0)\n",
    "    if mode == 0\n",
    "        prog.code[prog.code[prog.cur + offset] + 1] = value\n",
    "    elseif mode == 2\n",
    "        prog.code[prog.code[prog.cur + offset] + prog.relative_base + 1] = value\n",
    "    end\n",
    "end\n",
    "\n",
    "function apply(prog::Prog, instruction::Instruction)\n",
    "    if instruction.op == 99\n",
    "        prog.state = 99\n",
    "    elseif instruction.op == 1\n",
    "        a1 = take(prog, instruction.modes[1], 1)\n",
    "        a2 = take(prog, instruction.modes[2], 2)\n",
    "        update!(prog, a1 + a2, 3, instruction.modes[3])\n",
    "        prog.cur += 4\n",
    "    elseif instruction.op == 2\n",
    "        a1 = take(prog, instruction.modes[1], 1)\n",
    "        a2 = take(prog, instruction.modes[2], 2)\n",
    "        update!(prog, a1 * a2, 3, instruction.modes[3])\n",
    "        prog.cur += 4\n",
    "    elseif instruction.op == 3\n",
    "        if isempty(prog.input)\n",
    "            prog.state = 1\n",
    "        else\n",
    "            update!(prog, popfirst!(prog.input), 1, instruction.modes[1])\n",
    "            prog.cur += 2\n",
    "        end\n",
    "    elseif instruction.op == 4\n",
    "        push!(prog.output, take(prog, instruction.modes[1], 1))\n",
    "        prog.cur += 2\n",
    "    elseif instruction.op == 5\n",
    "        a1 = take(prog, instruction.modes[1], 1)\n",
    "        a2 = take(prog, instruction.modes[2], 2)\n",
    "        prog.cur = a1 != 0 ? a2 + 1 : prog.cur + 3\n",
    "    elseif instruction.op == 6\n",
    "        a1 = take(prog, instruction.modes[1], 1)\n",
    "        a2 = take(prog, instruction.modes[2], 2)\n",
    "        prog.cur = a1 == 0 ? a2 + 1 : prog.cur + 3\n",
    "    elseif instruction.op == 7\n",
    "        a1 = take(prog, instruction.modes[1], 1)\n",
    "        a2 = take(prog, instruction.modes[2], 2)\n",
    "        update!(prog, a1 < a2 ? 1 : 0, 3, instruction.modes[3])\n",
    "        prog.cur += 4\n",
    "    elseif instruction.op == 8\n",
    "        a1 = take(prog, instruction.modes[1], 1)\n",
    "        a2 = take(prog, instruction.modes[2], 2)\n",
    "        update!(prog, a1 == a2 ? 1 : 0, 3, instruction.modes[3])\n",
    "        prog.cur += 4\n",
    "    elseif instruction.op == 9\n",
    "        prog.relative_base += take(prog, instruction.modes[1], 1)\n",
    "        prog.cur += 2\n",
    "    end\n",
    "end\n",
    "\n",
    "function run(prog::Prog, input::Vector{Int})\n",
    "    prog.input = input\n",
    "    prog.state = 0\n",
    "    run(prog)\n",
    "end\n",
    "\n",
    "run(prog::Prog, input::Int) = run(prog, [input])\n",
    "\n",
    "function run(prog)\n",
    "    clear!(prog)\n",
    "    while prog.state == 0\n",
    "        instruction = Instruction(prog)\n",
    "        apply(prog, instruction)\n",
    "    end\n",
    "    \n",
    "    prog.output\n",
    "end\n",
    "\n",
    "function feed(prog::Prog, input::Vector{Int})\n",
    "    prog.input = vcat(prog.input, input)\n",
    "    prog.state = 0\n",
    "end\n",
    "\n",
    "clear!(prog) = (prog.output = [])"
   ]
  },
  {
   "cell_type": "markdown",
   "metadata": {},
   "source": [
    "## Part 1"
   ]
  },
  {
   "cell_type": "code",
   "execution_count": 6,
   "metadata": {},
   "outputs": [
    {
     "data": {
      "text/plain": [
       "1-element Array{Int64,1}:\n",
       " 0"
      ]
     },
     "execution_count": 6,
     "metadata": {},
     "output_type": "execute_result"
    }
   ],
   "source": [
    "vm = Prog(readline(\"input.txt\"))\n",
    "img_txt = run(vm, [50, 50])"
   ]
  },
  {
   "cell_type": "code",
   "execution_count": 170,
   "metadata": {},
   "outputs": [
    {
     "data": {
      "text/plain": [
       "2871"
      ]
     },
     "execution_count": 170,
     "metadata": {},
     "output_type": "execute_result"
    }
   ],
   "source": [
    "arr = zeros(Int, 200, 200)\n",
    "for idx in CartesianIndices(arr)\n",
    "    vm = Prog(readline(\"input.txt\"))\n",
    "    arr[idx] = run(vm, [idx[1] - 1, idx[2] - 1])[1]\n",
    "end\n",
    "sum(arr)"
   ]
  },
  {
   "cell_type": "markdown",
   "metadata": {},
   "source": [
    "## Part 2"
   ]
  },
  {
   "cell_type": "code",
   "execution_count": 160,
   "metadata": {},
   "outputs": [
    {
     "name": "stdout",
     "output_type": "stream",
     "text": [
      "..................................................\n",
      "..................................................\n",
      "..................................................\n",
      "..................................................\n",
      "..................................................\n",
      "..................................................\n",
      "..................................................\n",
      "..................................................\n",
      "..................................................\n",
      "..................................................\n",
      "..................................................\n",
      "..................................................\n",
      "..................................................\n",
      "..................................................\n",
      ".................................................#\n",
      "................................................##\n",
      "...............................................###\n",
      ".............................................#####\n",
      "............................................######\n",
      "..........................................########\n",
      ".........................................#########\n",
      "........................................#########.\n",
      "......................................##########..\n",
      ".....................................#########....\n",
      "...................................#########......\n",
      "..................................########........\n",
      ".................................########.........\n",
      "...............................########...........\n",
      "..............................#######.............\n",
      "............................#######...............\n",
      "...........................#######................\n",
      "..........................######..................\n",
      "........................######....................\n",
      ".......................#####......................\n",
      ".....................######.......................\n",
      "....................#####.........................\n",
      "...................####...........................\n",
      ".................####.............................\n",
      "................####..............................\n",
      "..............####................................\n",
      ".............###..................................\n",
      "............##....................................\n",
      "..........###.....................................\n",
      ".........##.......................................\n",
      ".......##.........................................\n",
      "......#...........................................\n",
      ".....#............................................\n",
      "...#..............................................\n",
      "..................................................\n",
      "#.................................................\n"
     ]
    }
   ],
   "source": [
    "for i in 50:-1:1\n",
    "    println(join(map(x -> x == 0 ? '.' : '#', arr[i, :])))\n",
    "end"
   ]
  },
  {
   "cell_type": "code",
   "execution_count": 48,
   "metadata": {},
   "outputs": [
    {
     "data": {
      "text/plain": [
       "30"
      ]
     },
     "execution_count": 48,
     "metadata": {},
     "output_type": "execute_result"
    }
   ],
   "source": [
    "minimum(findall(arr[:, 50] .== 1))"
   ]
  },
  {
   "cell_type": "code",
   "execution_count": 178,
   "metadata": {},
   "outputs": [
    {
     "data": {
      "text/plain": [
       "err (generic function with 1 method)"
      ]
     },
     "execution_count": 178,
     "metadata": {},
     "output_type": "execute_result"
    }
   ],
   "source": [
    "function get_line(arr, func)\n",
    "    line = Dict{Int, Int}()\n",
    "    for i in 1:size(arr)[1]\n",
    "        if !isempty(findall(arr[:, i] .== 1))\n",
    "            line[i - 1] = func(findall(arr[:, i] .== 1)) - 1\n",
    "        end\n",
    "    end\n",
    "    \n",
    "    line\n",
    "end\n",
    "\n",
    "lines = [get_line(arr, func) for func in [minimum, maximum]]\n",
    "\n",
    "function showline(l, func)\n",
    "    xx = sort(collect(keys(l)))\n",
    "    for x in xx\n",
    "        println(x, \":\", l[x], \":\", func(x))\n",
    "    end\n",
    "end\n",
    "\n",
    "function err(l, a)\n",
    "    xx = sort(collect(keys(l)))\n",
    "    sum([l[x] - f1(x, a) for x in xx])\n",
    "end"
   ]
  },
  {
   "cell_type": "code",
   "execution_count": 1,
   "metadata": {},
   "outputs": [
    {
     "data": {
      "text/plain": [
       "f2 (generic function with 1 method)"
      ]
     },
     "execution_count": 1,
     "metadata": {},
     "output_type": "execute_result"
    }
   ],
   "source": [
    "f1(x, a) = Int(ceil(a*x))\n",
    "f2(x, a) = Int(floor(a*x))"
   ]
  },
  {
   "cell_type": "code",
   "execution_count": 67,
   "metadata": {},
   "outputs": [
    {
     "data": {
      "text/plain": [
       "722"
      ]
     },
     "execution_count": 67,
     "metadata": {},
     "output_type": "execute_result"
    }
   ],
   "source": [
    "err(line, 0)"
   ]
  },
  {
   "cell_type": "code",
   "execution_count": 215,
   "metadata": {},
   "outputs": [
    {
     "data": {
      "text/plain": [
       "10-element Array{Int64,1}:\n",
       " 42\n",
       " 43\n",
       " 44\n",
       " 45\n",
       " 46\n",
       " 47\n",
       " 48\n",
       " 49\n",
       " 50\n",
       " 51"
      ]
     },
     "execution_count": 215,
     "metadata": {},
     "output_type": "execute_result"
    }
   ],
   "source": [
    "findall(arr[30, :] .== 1)"
   ]
  },
  {
   "cell_type": "code",
   "execution_count": 79,
   "metadata": {},
   "outputs": [
    {
     "data": {
      "text/plain": [
       "dihotomy (generic function with 1 method)"
      ]
     },
     "execution_count": 79,
     "metadata": {},
     "output_type": "execute_result"
    }
   ],
   "source": [
    "err(line, 1)\n",
    "\n",
    "function dihotomy(line, a, b)\n",
    "    v1 = err(line, a)\n",
    "    v2 = err(line, b)\n",
    "    v0 = v1\n",
    "    c = a\n",
    "    while  v0 != 0\n",
    "        c = (a + b)/2\n",
    "        v0 = err(line, c)\n",
    "        if v0 > 0 \n",
    "            a = c\n",
    "        else\n",
    "            b = c\n",
    "        end\n",
    "    end\n",
    "    \n",
    "    c\n",
    "end"
   ]
  },
  {
   "cell_type": "code",
   "execution_count": 129,
   "metadata": {},
   "outputs": [
    {
     "data": {
      "text/plain": [
       "0.572265625"
      ]
     },
     "execution_count": 129,
     "metadata": {},
     "output_type": "execute_result"
    }
   ],
   "source": [
    "dihotomy(line, 0, 1)"
   ]
  },
  {
   "cell_type": "code",
   "execution_count": 126,
   "metadata": {},
   "outputs": [
    {
     "name": "stdout",
     "output_type": "stream",
     "text": [
      "1:1:1\n",
      "4:3:3\n",
      "6:4:4\n",
      "7:5:5\n",
      "8:6:6\n",
      "9:6:6\n",
      "10:7:7\n",
      "11:7:7\n",
      "12:8:8\n",
      "13:8:8\n",
      "14:9:9\n",
      "15:10:10\n",
      "16:10:10\n",
      "17:11:11\n",
      "18:11:11\n",
      "19:12:12\n",
      "20:12:12\n",
      "21:13:13\n",
      "22:14:14\n",
      "23:14:14\n",
      "24:15:15\n",
      "25:15:15\n",
      "26:16:16\n",
      "27:16:16\n",
      "28:17:17\n",
      "29:18:18\n",
      "30:18:18\n",
      "31:19:19\n",
      "32:19:19\n",
      "33:20:20\n",
      "34:20:20\n",
      "35:21:21\n",
      "36:22:22\n",
      "37:22:22\n",
      "38:23:23\n",
      "39:23:23\n",
      "40:24:24\n",
      "41:24:24\n",
      "42:25:25\n",
      "43:26:26\n",
      "44:26:26\n",
      "45:27:27\n",
      "46:27:27\n",
      "47:28:28\n",
      "48:28:28\n",
      "49:29:29\n",
      "50:30:30\n",
      "51:30:30\n",
      "52:31:31\n",
      "53:31:31\n",
      "54:32:32\n",
      "55:32:32\n",
      "56:33:33\n",
      "57:34:34\n",
      "58:34:34\n",
      "59:35:35\n",
      "60:35:35\n",
      "61:36:36\n",
      "62:36:36\n",
      "63:37:37\n",
      "64:38:38\n",
      "65:38:38\n",
      "66:39:39\n",
      "67:39:39\n",
      "68:40:40\n",
      "69:40:40\n",
      "70:41:41\n",
      "71:42:42\n",
      "72:42:42\n",
      "73:43:43\n",
      "74:43:43\n",
      "75:44:44\n",
      "76:44:44\n",
      "77:45:45\n",
      "78:46:46\n",
      "79:46:46\n",
      "80:47:47\n",
      "81:47:47\n",
      "82:48:48\n",
      "83:48:48\n",
      "84:49:49\n",
      "85:50:50\n",
      "86:50:50\n",
      "87:51:51\n",
      "88:51:51\n",
      "89:52:52\n",
      "90:52:52\n",
      "91:53:53\n",
      "92:54:54\n",
      "93:54:54\n",
      "94:55:55\n",
      "95:55:55\n",
      "96:56:56\n",
      "97:56:57\n",
      "98:57:57\n",
      "99:58:58\n",
      "100:58:58\n"
     ]
    }
   ],
   "source": [
    "showline(line, 0.573)"
   ]
  },
  {
   "cell_type": "code",
   "execution_count": 111,
   "metadata": {},
   "outputs": [
    {
     "data": {
      "text/plain": [
       "0.5978260869742371"
      ]
     },
     "execution_count": 111,
     "metadata": {},
     "output_type": "execute_result"
    }
   ],
   "source": [
    "function dihotomy1(v0, a1, a2, f, eps)\n",
    "    v1 = f(a1)\n",
    "    v2 = f(a2)\n",
    "    c = a1\n",
    "    while abs(a1 - a2) > eps\n",
    "        c = (a1 + a2)/2\n",
    "        if f(c) > v0 \n",
    "            a2 = c\n",
    "        else\n",
    "            a1 = c\n",
    "        end\n",
    "    end\n",
    "    return c\n",
    "end\n",
    "\n",
    "function dihotomy2(v0, a1, a2, f, eps)\n",
    "    v1 = f(a1)\n",
    "    v2 = f(a2)\n",
    "    c = a1\n",
    "    while abs(a1 - a2) > eps\n",
    "        c = (a1 + a2)/2\n",
    "        if f(c) >= v0 \n",
    "            a2 = c\n",
    "        else\n",
    "            a1 = c\n",
    "        end\n",
    "    end\n",
    "    return c\n",
    "end\n",
    "\n",
    "dihotomy1(line[47], 0, 1, x -> f1(47, x), 10^-10)"
   ]
  },
  {
   "cell_type": "code",
   "execution_count": 172,
   "metadata": {},
   "outputs": [
    {
     "name": "stdout",
     "output_type": "stream",
     "text": [
      "0.5744680851348676\n",
      "0.571428571420256\n"
     ]
    }
   ],
   "source": [
    "xx = sort(collect(keys(line)))\n",
    "println(minimum([dihotomy1(line[x], 0, 1, z -> f1(x, z), 10^-10) for x in xx]))\n",
    "println(maximum([dihotomy2(line[x], 0, 1, z -> f1(x, z), 10^-10) for x in xx]))\n",
    "\n",
    "#dihotomy2(line[50], 0, 1, x -> f1(50, x), 10^-10)"
   ]
  },
  {
   "cell_type": "code",
   "execution_count": null,
   "metadata": {},
   "outputs": [],
   "source": [
    "# 0.573\n",
    "\n"
   ]
  },
  {
   "cell_type": "code",
   "execution_count": 155,
   "metadata": {},
   "outputs": [
    {
     "name": "stdout",
     "output_type": "stream",
     "text": [
      "0:0:0\n",
      "3:2:2\n",
      "5:3:3\n",
      "6:4:4\n",
      "7:5:5\n",
      "8:5:5\n",
      "9:6:6\n",
      "10:7:7\n",
      "11:7:7\n",
      "12:8:8\n",
      "13:9:9\n",
      "14:10:10\n",
      "15:10:10\n",
      "16:11:11\n",
      "17:12:12\n",
      "18:12:12\n",
      "19:13:13\n",
      "20:14:14\n",
      "21:15:15\n",
      "22:15:15\n",
      "23:16:16\n",
      "24:17:17\n",
      "25:17:17\n",
      "26:18:18\n",
      "27:19:19\n",
      "28:20:20\n",
      "29:20:20\n",
      "30:21:21\n",
      "31:22:22\n",
      "32:22:22\n",
      "33:23:23\n",
      "34:24:24\n",
      "35:25:25\n",
      "36:25:25\n",
      "37:26:26\n",
      "38:27:27\n",
      "39:27:27\n",
      "40:28:28\n",
      "41:29:29\n",
      "42:30:30\n",
      "43:30:30\n",
      "44:31:31\n",
      "45:32:32\n",
      "46:32:32\n",
      "47:33:33\n",
      "48:34:34\n",
      "49:35:35\n"
     ]
    }
   ],
   "source": [
    "showline(lines[2], x -> f2(x, 0.7158385093207471))"
   ]
  },
  {
   "cell_type": "code",
   "execution_count": 181,
   "metadata": {},
   "outputs": [
    {
     "data": {
      "text/plain": [
       "2-element Array{Any,1}:\n",
       " (0.571428571420256, 0.5721649485058151, 0.5717967599630356) \n",
       " (0.7106598985265009, 0.6000000000349246, 0.6553299492807128)"
      ]
     },
     "execution_count": 181,
     "metadata": {},
     "output_type": "execute_result"
    }
   ],
   "source": [
    "res = []\n",
    "for line in lines\n",
    "    xx = sort(collect(keys(line)))\n",
    "    a1 = maximum([dihotomy2(line[x], 0, 1, z -> f1(x, z), 10^-10) for x in xx])\n",
    "    a2 = minimum([dihotomy1(line[x], 0, 1, z -> f1(x, z), 10^-10) for x in xx])\n",
    "    push!(res, (a1, a2, (a1 + a2)/2))\n",
    "end\n",
    "\n",
    "res"
   ]
  },
  {
   "cell_type": "code",
   "execution_count": 179,
   "metadata": {},
   "outputs": [
    {
     "data": {
      "text/plain": [
       "Dict{Int64,Int64} with 197 entries:\n",
       "  11  => 7\n",
       "  134 => 77\n",
       "  158 => 91\n",
       "  160 => 92\n",
       "  29  => 17\n",
       "  131 => 75\n",
       "  173 => 99\n",
       "  74  => 43\n",
       "  176 => 101\n",
       "  57  => 33\n",
       "  31  => 18\n",
       "  70  => 41\n",
       "  33  => 19\n",
       "  114 => 66\n",
       "  165 => 95\n",
       "  96  => 55\n",
       "  133 => 77\n",
       "  49  => 29\n",
       "  84  => 49\n",
       "  117 => 67\n",
       "  93  => 54\n",
       "  50  => 29\n",
       "  77  => 45\n",
       "  80  => 46\n",
       "  188 => 108\n",
       "  ⋮   => ⋮"
      ]
     },
     "execution_count": 179,
     "metadata": {},
     "output_type": "execute_result"
    }
   ],
   "source": [
    "lines[1]"
   ]
  },
  {
   "cell_type": "code",
   "execution_count": 103,
   "metadata": {},
   "outputs": [
    {
     "data": {
      "text/plain": [
       "7.450580596923828e-9"
      ]
     },
     "execution_count": 103,
     "metadata": {},
     "output_type": "execute_result"
    }
   ],
   "source": [
    "# 0.5729483282775618; f1\n",
    "# 0.7158385093207471; f2"
   ]
  },
  {
   "cell_type": "code",
   "execution_count": 2,
   "metadata": {},
   "outputs": [
    {
     "data": {
      "text/plain": [
       "part2 (generic function with 1 method)"
      ]
     },
     "execution_count": 2,
     "metadata": {},
     "output_type": "execute_result"
    }
   ],
   "source": [
    "function part2()\n",
    "    i = 50\n",
    "    while true\n",
    "        if f2(i - 99, 0.7163649835856631) < f1(i, 0.5717967599630356) + 99\n",
    "            i += 1\n",
    "        else\n",
    "            return i\n",
    "        end\n",
    "    end\n",
    "end"
   ]
  },
  {
   "cell_type": "code",
   "execution_count": 3,
   "metadata": {},
   "outputs": [
    {
     "data": {
      "text/plain": [
       "1180"
      ]
     },
     "execution_count": 3,
     "metadata": {},
     "output_type": "execute_result"
    }
   ],
   "source": [
    "part2()"
   ]
  },
  {
   "cell_type": "code",
   "execution_count": 255,
   "metadata": {},
   "outputs": [
    {
     "data": {
      "text/plain": [
       "(675, 774)"
      ]
     },
     "execution_count": 255,
     "metadata": {},
     "output_type": "execute_result"
    }
   ],
   "source": [
    "f1(1180, 0.5717967599630356), f2(1180 - 99, 0.7163649835856631)"
   ]
  },
  {
   "cell_type": "code",
   "execution_count": 256,
   "metadata": {},
   "outputs": [
    {
     "data": {
      "text/plain": [
       "1081"
      ]
     },
     "execution_count": 256,
     "metadata": {},
     "output_type": "execute_result"
    }
   ],
   "source": [
    "1180 - 99"
   ]
  },
  {
   "cell_type": "code",
   "execution_count": 158,
   "metadata": {},
   "outputs": [
    {
     "data": {
      "text/plain": [
       "29"
      ]
     },
     "execution_count": 158,
     "metadata": {},
     "output_type": "execute_result"
    }
   ],
   "source": [
    "f1(50, 0.5729483282775618)"
   ]
  },
  {
   "cell_type": "code",
   "execution_count": 161,
   "metadata": {},
   "outputs": [
    {
     "data": {
      "text/plain": [
       "28"
      ]
     },
     "execution_count": 161,
     "metadata": {},
     "output_type": "execute_result"
    }
   ],
   "source": [
    "f2(40, 0.7158385093207471)"
   ]
  },
  {
   "cell_type": "code",
   "execution_count": 187,
   "metadata": {},
   "outputs": [
    {
     "data": {
      "text/plain": [
       "10890680"
      ]
     },
     "execution_count": 187,
     "metadata": {},
     "output_type": "execute_result"
    }
   ],
   "source": [
    "1089*10000 + 680"
   ]
  },
  {
   "cell_type": "code",
   "execution_count": 188,
   "metadata": {},
   "outputs": [
    {
     "data": {
      "text/plain": [
       "1089"
      ]
     },
     "execution_count": 188,
     "metadata": {},
     "output_type": "execute_result"
    }
   ],
   "source": [
    "1089"
   ]
  },
  {
   "cell_type": "code",
   "execution_count": 207,
   "metadata": {},
   "outputs": [],
   "source": [
    "res = []\n",
    "for i in 0:29\n",
    "    vm = Prog(readline(\"input.txt\"))\n",
    "    push!(res, run(vm, [30, i])[1])\n",
    "end"
   ]
  },
  {
   "cell_type": "code",
   "execution_count": 208,
   "metadata": {},
   "outputs": [
    {
     "data": {
      "text/plain": [
       "0-element Array{Int64,1}"
      ]
     },
     "execution_count": 208,
     "metadata": {},
     "output_type": "execute_result"
    }
   ],
   "source": [
    "findall(res .== 1)"
   ]
  },
  {
   "cell_type": "code",
   "execution_count": 251,
   "metadata": {},
   "outputs": [
    {
     "data": {
      "text/plain": [
       "1-element Array{Int64,1}:\n",
       " 0"
      ]
     },
     "execution_count": 251,
     "metadata": {},
     "output_type": "execute_result"
    }
   ],
   "source": [
    "vm = Prog(readline(\"input.txt\"))\n",
    "run(vm, [779, 1087])"
   ]
  },
  {
   "cell_type": "code",
   "execution_count": 231,
   "metadata": {},
   "outputs": [
    {
     "data": {
      "text/plain": [
       "6801089"
      ]
     },
     "execution_count": 231,
     "metadata": {},
     "output_type": "execute_result"
    }
   ],
   "source": [
    "680*10000 + 1089"
   ]
  },
  {
   "cell_type": "code",
   "execution_count": null,
   "metadata": {},
   "outputs": [],
   "source": [
    "6791088"
   ]
  },
  {
   "cell_type": "code",
   "execution_count": null,
   "metadata": {},
   "outputs": [],
   "source": [
    "6751081"
   ]
  }
 ],
 "metadata": {
  "kernelspec": {
   "display_name": "Julia 1.3.0",
   "language": "julia",
   "name": "julia-1.3"
  },
  "language_info": {
   "file_extension": ".jl",
   "mimetype": "application/julia",
   "name": "julia",
   "version": "1.3.0"
  }
 },
 "nbformat": 4,
 "nbformat_minor": 2
}
