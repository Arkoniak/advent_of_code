{
 "cells": [
  {
   "cell_type": "markdown",
   "metadata": {},
   "source": [
    "## Part 1"
   ]
  },
  {
   "cell_type": "code",
   "execution_count": 43,
   "metadata": {},
   "outputs": [
    {
     "data": {
      "text/plain": [
       "run (generic function with 2 methods)"
      ]
     },
     "execution_count": 43,
     "metadata": {},
     "output_type": "execute_result"
    }
   ],
   "source": [
    "mutable struct Prog\n",
    "    code::Vector{Int}\n",
    "    cur::Int\n",
    "    input::Vector{Int}\n",
    "    output::Vector{Int}\n",
    "    relative_base::Int\n",
    "    eop::Bool\n",
    "end\n",
    "\n",
    "str2prog(s) = parse.(Int, split(s, \",\"))\n",
    "\n",
    "Prog(s::String) = Prog(vcat(str2prog(s), zeros(Int, 10000)), 1, [], [], 0, false)\n",
    "\n",
    "struct Instruction\n",
    "    op::Int\n",
    "    modes::Vector{Int}\n",
    "end\n",
    "\n",
    "function Instruction(op_code::Int)\n",
    "    ops = Dict{Int, Int}(\n",
    "        1 => 3,\n",
    "        2 => 3,\n",
    "        3 => 1,\n",
    "        4 => 1,\n",
    "        5 => 2,\n",
    "        6 => 2,\n",
    "        7 => 3,\n",
    "        8 => 3,\n",
    "        9 => 1,\n",
    "        99 => 0\n",
    "    )\n",
    "    \n",
    "    op = mod(op_code, 100)\n",
    "    modes_code = div(op_code, 100)\n",
    "    modes = zeros(ops[op])\n",
    "    for i in 1:ops[op]\n",
    "        modes[i] = mod(modes_code, 10)\n",
    "        modes_code = div(modes_code, 10)\n",
    "    end\n",
    "    \n",
    "    Instruction(op, modes)\n",
    "end\n",
    "\n",
    "Instruction(prog::Prog) = Instruction(prog.code[prog.cur])\n",
    "\n",
    "function take(prog::Prog, mode, offset)\n",
    "    if mode == 0\n",
    "        return prog.code[prog.code[prog.cur + offset] + 1]\n",
    "    elseif mode == 1\n",
    "        return prog.code[prog.cur + offset]\n",
    "    else\n",
    "        return prog.code[prog.code[prog.cur + offset] + prog.relative_base + 1]\n",
    "    end\n",
    "end\n",
    "\n",
    "function update!(prog::Prog, value, offset, mode = 0)\n",
    "    if mode == 0\n",
    "        prog.code[prog.code[prog.cur + offset] + 1] = value\n",
    "    elseif mode == 2\n",
    "        prog.code[prog.code[prog.cur + offset] + prog.relative_base + 1] = value\n",
    "    end\n",
    "end\n",
    "\n",
    "function apply(prog::Prog, instruction::Instruction)\n",
    "    #println(instruction)\n",
    "    if instruction.op == 99\n",
    "        prog.eop = true\n",
    "    elseif instruction.op == 1\n",
    "        a1 = take(prog, instruction.modes[1], 1)\n",
    "        a2 = take(prog, instruction.modes[2], 2)\n",
    "        update!(prog, a1 + a2, 3, instruction.modes[3])\n",
    "        prog.cur += 4\n",
    "    elseif instruction.op == 2\n",
    "        a1 = take(prog, instruction.modes[1], 1)\n",
    "        a2 = take(prog, instruction.modes[2], 2)\n",
    "        update!(prog, a1 * a2, 3, instruction.modes[3])\n",
    "        prog.cur += 4\n",
    "    elseif instruction.op == 3\n",
    "        update!(prog, popfirst!(prog.input), 1, instruction.modes[1])\n",
    "        prog.cur += 2\n",
    "    elseif instruction.op == 4\n",
    "        push!(prog.output, take(prog, instruction.modes[1], 1))\n",
    "        prog.cur += 2\n",
    "    elseif instruction.op == 5\n",
    "        a1 = take(prog, instruction.modes[1], 1)\n",
    "        a2 = take(prog, instruction.modes[2], 2)\n",
    "        prog.cur = a1 != 0 ? a2 + 1 : prog.cur + 3\n",
    "    elseif instruction.op == 6\n",
    "        a1 = take(prog, instruction.modes[1], 1)\n",
    "        a2 = take(prog, instruction.modes[2], 2)\n",
    "        prog.cur = a1 == 0 ? a2 + 1 : prog.cur + 3\n",
    "    elseif instruction.op == 7\n",
    "        a1 = take(prog, instruction.modes[1], 1)\n",
    "        a2 = take(prog, instruction.modes[2], 2)\n",
    "        update!(prog, a1 < a2 ? 1 : 0, 3, instruction.modes[3])\n",
    "        prog.cur += 4\n",
    "    elseif instruction.op == 8\n",
    "        a1 = take(prog, instruction.modes[1], 1)\n",
    "        a2 = take(prog, instruction.modes[2], 2)\n",
    "        update!(prog, a1 == a2 ? 1 : 0, 3, instruction.modes[3])\n",
    "        prog.cur += 4\n",
    "    elseif instruction.op == 9\n",
    "        prog.relative_base += take(prog, instruction.modes[1], 1)\n",
    "        prog.cur += 2\n",
    "    end\n",
    "end\n",
    "\n",
    "function run(prog::Prog, input::Vector{Int})\n",
    "    prog.input = input\n",
    "    while !prog.eop\n",
    "        instruction = Instruction(prog)\n",
    "        apply(prog, instruction)\n",
    "    end\n",
    "    \n",
    "    prog.output\n",
    "end\n",
    "\n",
    "run(prog) = run(prog, Int[])"
   ]
  },
  {
   "cell_type": "code",
   "execution_count": 42,
   "metadata": {},
   "outputs": [
    {
     "data": {
      "text/plain": [
       "16-element Array{Int64,1}:\n",
       "  109\n",
       "    1\n",
       "  204\n",
       "   -1\n",
       " 1001\n",
       "  100\n",
       "    1\n",
       "  100\n",
       " 1008\n",
       "  100\n",
       "   16\n",
       "  101\n",
       " 1006\n",
       "  101\n",
       "    0\n",
       "   99"
      ]
     },
     "execution_count": 42,
     "metadata": {},
     "output_type": "execute_result"
    }
   ],
   "source": [
    "prog = Prog(\"109,1,204,-1,1001,100,1,100,1008,100,16,101,1006,101,0,99\")\n",
    "run(prog)"
   ]
  },
  {
   "cell_type": "code",
   "execution_count": 44,
   "metadata": {},
   "outputs": [],
   "source": [
    "prog = Prog(\"1102,34915192,34915192,7,4,7,99,0\")\n",
    "@assert length(collect(string(run(prog)[1]))) == 16"
   ]
  },
  {
   "cell_type": "code",
   "execution_count": 45,
   "metadata": {},
   "outputs": [
    {
     "data": {
      "text/plain": [
       "1-element Array{Int64,1}:\n",
       " 1125899906842624"
      ]
     },
     "execution_count": 45,
     "metadata": {},
     "output_type": "execute_result"
    }
   ],
   "source": [
    "prog = Prog(\"104,1125899906842624,99\")\n",
    "run(prog)"
   ]
  },
  {
   "cell_type": "code",
   "execution_count": 46,
   "metadata": {},
   "outputs": [
    {
     "data": {
      "text/plain": [
       "1-element Array{Int64,1}:\n",
       " 4080871669"
      ]
     },
     "execution_count": 46,
     "metadata": {},
     "output_type": "execute_result"
    }
   ],
   "source": [
    "prog = Prog(readline(\"input.txt\"))\n",
    "run(prog, [1])"
   ]
  },
  {
   "cell_type": "markdown",
   "metadata": {},
   "source": [
    "## Part 2"
   ]
  },
  {
   "cell_type": "code",
   "execution_count": 47,
   "metadata": {},
   "outputs": [
    {
     "data": {
      "text/plain": [
       "1-element Array{Int64,1}:\n",
       " 75202"
      ]
     },
     "execution_count": 47,
     "metadata": {},
     "output_type": "execute_result"
    }
   ],
   "source": [
    "prog = Prog(readline(\"input.txt\"))\n",
    "run(prog, [2])"
   ]
  },
  {
   "cell_type": "code",
   "execution_count": null,
   "metadata": {},
   "outputs": [],
   "source": []
  }
 ],
 "metadata": {
  "kernelspec": {
   "display_name": "Julia 1.3.0",
   "language": "julia",
   "name": "julia-1.3"
  },
  "language_info": {
   "file_extension": ".jl",
   "mimetype": "application/julia",
   "name": "julia",
   "version": "1.3.0"
  }
 },
 "nbformat": 4,
 "nbformat_minor": 2
}
