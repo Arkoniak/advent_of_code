{
 "cells": [
  {
   "cell_type": "markdown",
   "metadata": {},
   "source": [
    "## Part 1"
   ]
  },
  {
   "cell_type": "code",
   "execution_count": 1,
   "metadata": {},
   "outputs": [
    {
     "data": {
      "text/plain": [
       "clear! (generic function with 1 method)"
      ]
     },
     "execution_count": 1,
     "metadata": {},
     "output_type": "execute_result"
    }
   ],
   "source": [
    "# states are\n",
    "# 0 - running\n",
    "# 1 - waiting for input\n",
    "# 99 - halt\n",
    "\n",
    "mutable struct Prog\n",
    "    code::Vector{Int}\n",
    "    cur::Int\n",
    "    input::Vector{Int}\n",
    "    output::Vector{Int}\n",
    "    relative_base::Int\n",
    "    state::Int\n",
    "end\n",
    "\n",
    "str2prog(s) = parse.(Int, split(s, \",\"))\n",
    "\n",
    "Prog(s::String) = Prog(vcat(str2prog(s), zeros(Int, 10000)), 1, [], [], 0, 0)\n",
    "\n",
    "struct Instruction\n",
    "    op::Int\n",
    "    modes::Vector{Int}\n",
    "end\n",
    "\n",
    "function Instruction(op_code::Int)\n",
    "    ops = Dict{Int, Int}(\n",
    "        1 => 3,\n",
    "        2 => 3,\n",
    "        3 => 1,\n",
    "        4 => 1,\n",
    "        5 => 2,\n",
    "        6 => 2,\n",
    "        7 => 3,\n",
    "        8 => 3,\n",
    "        9 => 1,\n",
    "        99 => 0\n",
    "    )\n",
    "    \n",
    "    op = mod(op_code, 100)\n",
    "    modes_code = div(op_code, 100)\n",
    "    modes = zeros(ops[op])\n",
    "    for i in 1:ops[op]\n",
    "        modes[i] = mod(modes_code, 10)\n",
    "        modes_code = div(modes_code, 10)\n",
    "    end\n",
    "    \n",
    "    Instruction(op, modes)\n",
    "end\n",
    "\n",
    "Instruction(prog::Prog) = Instruction(prog.code[prog.cur])\n",
    "\n",
    "function take(prog::Prog, mode, offset)\n",
    "    if mode == 0\n",
    "        return prog.code[prog.code[prog.cur + offset] + 1]\n",
    "    elseif mode == 1\n",
    "        return prog.code[prog.cur + offset]\n",
    "    else\n",
    "        return prog.code[prog.code[prog.cur + offset] + prog.relative_base + 1]\n",
    "    end\n",
    "end\n",
    "\n",
    "function update!(prog::Prog, value, offset, mode = 0)\n",
    "    if mode == 0\n",
    "        prog.code[prog.code[prog.cur + offset] + 1] = value\n",
    "    elseif mode == 2\n",
    "        prog.code[prog.code[prog.cur + offset] + prog.relative_base + 1] = value\n",
    "    end\n",
    "end\n",
    "\n",
    "function apply(prog::Prog, instruction::Instruction)\n",
    "    if instruction.op == 99\n",
    "        prog.state = 99\n",
    "    elseif instruction.op == 1\n",
    "        a1 = take(prog, instruction.modes[1], 1)\n",
    "        a2 = take(prog, instruction.modes[2], 2)\n",
    "        update!(prog, a1 + a2, 3, instruction.modes[3])\n",
    "        prog.cur += 4\n",
    "    elseif instruction.op == 2\n",
    "        a1 = take(prog, instruction.modes[1], 1)\n",
    "        a2 = take(prog, instruction.modes[2], 2)\n",
    "        update!(prog, a1 * a2, 3, instruction.modes[3])\n",
    "        prog.cur += 4\n",
    "    elseif instruction.op == 3\n",
    "        if isempty(prog.input)\n",
    "            prog.state = 1\n",
    "        else\n",
    "            update!(prog, popfirst!(prog.input), 1, instruction.modes[1])\n",
    "            prog.cur += 2\n",
    "        end\n",
    "    elseif instruction.op == 4\n",
    "        push!(prog.output, take(prog, instruction.modes[1], 1))\n",
    "        prog.cur += 2\n",
    "    elseif instruction.op == 5\n",
    "        a1 = take(prog, instruction.modes[1], 1)\n",
    "        a2 = take(prog, instruction.modes[2], 2)\n",
    "        prog.cur = a1 != 0 ? a2 + 1 : prog.cur + 3\n",
    "    elseif instruction.op == 6\n",
    "        a1 = take(prog, instruction.modes[1], 1)\n",
    "        a2 = take(prog, instruction.modes[2], 2)\n",
    "        prog.cur = a1 == 0 ? a2 + 1 : prog.cur + 3\n",
    "    elseif instruction.op == 7\n",
    "        a1 = take(prog, instruction.modes[1], 1)\n",
    "        a2 = take(prog, instruction.modes[2], 2)\n",
    "        update!(prog, a1 < a2 ? 1 : 0, 3, instruction.modes[3])\n",
    "        prog.cur += 4\n",
    "    elseif instruction.op == 8\n",
    "        a1 = take(prog, instruction.modes[1], 1)\n",
    "        a2 = take(prog, instruction.modes[2], 2)\n",
    "        update!(prog, a1 == a2 ? 1 : 0, 3, instruction.modes[3])\n",
    "        prog.cur += 4\n",
    "    elseif instruction.op == 9\n",
    "        prog.relative_base += take(prog, instruction.modes[1], 1)\n",
    "        prog.cur += 2\n",
    "    end\n",
    "end\n",
    "\n",
    "function run(prog::Prog, input::Vector{Int})\n",
    "    prog.input = input\n",
    "    prog.state = 0\n",
    "    run(prog)\n",
    "end\n",
    "\n",
    "run(prog::Prog, input::Int) = run(prog, [input])\n",
    "\n",
    "function run(prog)\n",
    "    clear!(prog)\n",
    "    while prog.state == 0\n",
    "        instruction = Instruction(prog)\n",
    "        apply(prog, instruction)\n",
    "    end\n",
    "    \n",
    "    prog.output\n",
    "end\n",
    "\n",
    "function feed(prog::Prog, input::Vector{Int})\n",
    "    prog.input = vcat(prog.input, input)\n",
    "    prog.state = 0\n",
    "end\n",
    "\n",
    "clear!(prog) = (prog.output = [])"
   ]
  },
  {
   "cell_type": "code",
   "execution_count": 4,
   "metadata": {},
   "outputs": [],
   "source": [
    "function amplout(s, phases)\n",
    "    state = 0\n",
    "    for i in phases\n",
    "        code = Prog(s)\n",
    "        out = run(code, [i, state])\n",
    "        state = out[1]\n",
    "    end\n",
    "    \n",
    "    state\n",
    "end\n",
    "\n",
    "@assert amplout(\"3,15,3,16,1002,16,10,16,1,16,15,15,4,15,99,0,0\", [4, 3, 2, 1, 0]) == 43210\n",
    "@assert amplout(\"3,23,3,24,1002,24,10,24,1002,23,-1,23,101,5,23,23,1,24,23,23,4,23,99,0,0\", [0,1,2,3,4]) == 54321\n",
    "@assert amplout(\"3,31,3,32,1002,32,10,32,1001,31,-2,31,1007,31,0,33,1002,33,7,33,1,33,31,31,1,32,31,31,4,31,99,0,0,0\", [1,0,4,3,2]) == 65210"
   ]
  },
  {
   "cell_type": "code",
   "execution_count": 2,
   "metadata": {},
   "outputs": [
    {
     "data": {
      "text/plain": [
       "perms (generic function with 1 method)"
      ]
     },
     "execution_count": 2,
     "metadata": {},
     "output_type": "execute_result"
    }
   ],
   "source": [
    "function perms(acc, head, tails)\n",
    "    if isempty(tails)\n",
    "       push!(acc, head)\n",
    "    else\n",
    "        for (i, tail) in enumerate(tails)\n",
    "            perms(acc, vcat(head, tail), vcat(tails[1:(i - 1)], tails[(i+1): end]))\n",
    "        end\n",
    "    end\n",
    "end"
   ]
  },
  {
   "cell_type": "code",
   "execution_count": 5,
   "metadata": {},
   "outputs": [
    {
     "data": {
      "text/plain": [
       "findmaxphase (generic function with 1 method)"
      ]
     },
     "execution_count": 5,
     "metadata": {},
     "output_type": "execute_result"
    }
   ],
   "source": [
    "function findmaxphase(s)\n",
    "    states = Vector{Vector{Int}}()\n",
    "    perms(states, Int[], [0, 1, 2, 3, 4])\n",
    "    maximum(map(x -> amplout(s, x), states))\n",
    "end"
   ]
  },
  {
   "cell_type": "code",
   "execution_count": 39,
   "metadata": {},
   "outputs": [],
   "source": [
    "@assert findmaxphase(\"3,15,3,16,1002,16,10,16,1,16,15,15,4,15,99,0,0\") == 43210\n",
    "@assert findmaxphase(\"3,23,3,24,1002,24,10,24,1002,23,-1,23,101,5,23,23,1,24,23,23,4,23,99,0,0\") == 54321\n",
    "@assert findmaxphase(\"3,31,3,32,1002,32,10,32,1001,31,-2,31,1007,31,0,33,1002,33,7,33,1,33,31,31,1,32,31,31,4,31,99,0,0,0\") == 65210"
   ]
  },
  {
   "cell_type": "code",
   "execution_count": 6,
   "metadata": {},
   "outputs": [
    {
     "name": "stdout",
     "output_type": "stream",
     "text": [
      "880726\n"
     ]
    }
   ],
   "source": [
    "println(findmaxphase(readline(\"input.txt\")))"
   ]
  },
  {
   "cell_type": "markdown",
   "metadata": {},
   "source": [
    "## Part 2"
   ]
  },
  {
   "cell_type": "code",
   "execution_count": 28,
   "metadata": {},
   "outputs": [
    {
     "data": {
      "text/plain": [
       "amplout (generic function with 1 method)"
      ]
     },
     "execution_count": 28,
     "metadata": {},
     "output_type": "execute_result"
    }
   ],
   "source": [
    "function amplout(s, phases)\n",
    "    state = 0\n",
    "    vms = Vector{Prog}()\n",
    "    for phase in phases\n",
    "        vm = Prog(s)\n",
    "        run(vm, phase)\n",
    "        push!(vms, vm)\n",
    "    end\n",
    "    \n",
    "    running = true\n",
    "    while running\n",
    "        for vm in vms\n",
    "            if vm.state == 99\n",
    "                running = false\n",
    "                continue\n",
    "            end\n",
    "            state = run(vm, state)[1]\n",
    "        end\n",
    "    end\n",
    "    \n",
    "    state\n",
    "end"
   ]
  },
  {
   "cell_type": "code",
   "execution_count": 29,
   "metadata": {},
   "outputs": [
    {
     "data": {
      "text/plain": [
       "18216"
      ]
     },
     "execution_count": 29,
     "metadata": {},
     "output_type": "execute_result"
    }
   ],
   "source": [
    "amplout(\"3,52,1001,52,-5,52,3,53,1,52,56,54,1007,54,5,55,1005,55,26,1001,54,-5,54,1105,1,12,1,53,54,53,1008,54,0,55,1001,55,1,55,2,53,55,53,4,53,1001,56,-1,56,1005,56,6,99,0,0,0,0,10\", [9,7,8,5,6])"
   ]
  },
  {
   "cell_type": "code",
   "execution_count": 30,
   "metadata": {},
   "outputs": [
    {
     "data": {
      "text/plain": [
       "139629729"
      ]
     },
     "execution_count": 30,
     "metadata": {},
     "output_type": "execute_result"
    }
   ],
   "source": [
    "amplout(\"3,26,1001,26,-4,26,3,27,1002,27,2,27,1,27,26,27,4,27,1001,28,-1,28,1005,28,6,99,0,0,5\", [9,8,7,6,5])"
   ]
  },
  {
   "cell_type": "code",
   "execution_count": 31,
   "metadata": {},
   "outputs": [
    {
     "data": {
      "text/plain": [
       "findmaxphase (generic function with 1 method)"
      ]
     },
     "execution_count": 31,
     "metadata": {},
     "output_type": "execute_result"
    }
   ],
   "source": [
    "function findmaxphase(s)\n",
    "    states = Vector{Vector{Int}}()\n",
    "    perms(states, Int[], [5, 6, 7, 8, 9])\n",
    "    maximum(map(x -> amplout(s, x), states))\n",
    "end"
   ]
  },
  {
   "cell_type": "code",
   "execution_count": 32,
   "metadata": {},
   "outputs": [
    {
     "data": {
      "text/plain": [
       "139629729"
      ]
     },
     "execution_count": 32,
     "metadata": {},
     "output_type": "execute_result"
    }
   ],
   "source": [
    "findmaxphase(\"3,26,1001,26,-4,26,3,27,1002,27,2,27,1,27,26,27,4,27,1001,28,-1,28,1005,28,6,99,0,0,5\")"
   ]
  },
  {
   "cell_type": "code",
   "execution_count": 33,
   "metadata": {},
   "outputs": [
    {
     "data": {
      "text/plain": [
       "18216"
      ]
     },
     "execution_count": 33,
     "metadata": {},
     "output_type": "execute_result"
    }
   ],
   "source": [
    "findmaxphase(\"3,52,1001,52,-5,52,3,53,1,52,56,54,1007,54,5,55,1005,55,26,1001,54,-5,54,1105,1,12,1,53,54,53,1008,54,0,55,1001,55,1,55,2,53,55,53,4,53,1001,56,-1,56,1005,56,6,99,0,0,0,0,10\")"
   ]
  },
  {
   "cell_type": "code",
   "execution_count": 34,
   "metadata": {},
   "outputs": [
    {
     "data": {
      "text/plain": [
       "4931744"
      ]
     },
     "execution_count": 34,
     "metadata": {},
     "output_type": "execute_result"
    }
   ],
   "source": [
    "findmaxphase(readline(\"input.txt\"))"
   ]
  },
  {
   "cell_type": "code",
   "execution_count": null,
   "metadata": {},
   "outputs": [],
   "source": []
  }
 ],
 "metadata": {
  "kernelspec": {
   "display_name": "Julia 1.3.0",
   "language": "julia",
   "name": "julia-1.3"
  },
  "language_info": {
   "file_extension": ".jl",
   "mimetype": "application/julia",
   "name": "julia",
   "version": "1.3.0"
  }
 },
 "nbformat": 4,
 "nbformat_minor": 2
}
