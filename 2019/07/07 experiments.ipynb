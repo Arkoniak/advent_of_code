{
 "cells": [
  {
   "cell_type": "markdown",
   "metadata": {},
   "source": [
    "## Part 1"
   ]
  },
  {
   "cell_type": "code",
   "execution_count": 11,
   "metadata": {},
   "outputs": [
    {
     "data": {
      "text/plain": [
       "run (generic function with 2 methods)"
      ]
     },
     "execution_count": 11,
     "metadata": {},
     "output_type": "execute_result"
    }
   ],
   "source": [
    "mutable struct Code\n",
    "    code::Vector{Int}\n",
    "    cur::Int\n",
    "    input::Vector{Int}\n",
    "    output::Vector{Int}\n",
    "    eop::Bool\n",
    "end\n",
    "\n",
    "str2prog(s) = parse.(Int, split(s, \",\"))\n",
    "\n",
    "Code(s::String) = Code(str2prog(s), 1, [], [], false)\n",
    "\n",
    "struct Instruction\n",
    "    op::Int\n",
    "    modes::Vector{Int}\n",
    "end\n",
    "\n",
    "function Instruction(op_code::Int)\n",
    "    ops = Dict{Int, Int}(\n",
    "        1 => 3,\n",
    "        2 => 3,\n",
    "        3 => 1,\n",
    "        4 => 1,\n",
    "        5 => 2,\n",
    "        6 => 2,\n",
    "        7 => 3,\n",
    "        8 => 3,\n",
    "        99 => 0\n",
    "    )\n",
    "    \n",
    "    op = mod(op_code, 100)\n",
    "    modes_code = div(op_code, 100)\n",
    "    modes = zeros(ops[op])\n",
    "    for i in 1:ops[op]\n",
    "        modes[i] = mod(modes_code, 10)\n",
    "        modes_code = div(modes_code, 10)\n",
    "    end\n",
    "    \n",
    "    Instruction(op, modes)\n",
    "end\n",
    "\n",
    "Instruction(code::Code) = Instruction(code.code[code.cur])\n",
    "\n",
    "function apply(code::Code, instruction::Instruction)\n",
    "    if instruction.op == 99\n",
    "        code.eop = true\n",
    "    elseif instruction.op == 1\n",
    "        a1 = instruction.modes[1] == 1 ? code.code[code.cur + 1] : code.code[code.code[code.cur + 1] + 1]\n",
    "        a2 = instruction.modes[2] == 1 ? code.code[code.cur + 2] : code.code[code.code[code.cur + 2] + 1]\n",
    "        code.code[code.code[code.cur + 3] + 1] = a1 + a2\n",
    "        code.cur += 4\n",
    "    elseif instruction.op == 2\n",
    "        a1 = instruction.modes[1] == 1 ? code.code[code.cur + 1] : code.code[code.code[code.cur + 1] + 1]\n",
    "        a2 = instruction.modes[2] == 1 ? code.code[code.cur + 2] : code.code[code.code[code.cur + 2] + 1]\n",
    "        code.code[code.code[code.cur + 3] + 1] = a1 * a2\n",
    "        code.cur += 4\n",
    "    elseif instruction.op == 3\n",
    "        code.code[code.code[code.cur + 1] + 1] = popfirst!(code.input)\n",
    "        code.cur += 2\n",
    "    elseif instruction.op == 4\n",
    "        push!(code.output, instruction.modes[1] == 1 ? code.code[code.cur + 1] : code.code[code.code[code.cur + 1] + 1])\n",
    "        code.cur += 2\n",
    "    elseif instruction.op == 5\n",
    "        a1 = instruction.modes[1] == 1 ? code.code[code.cur + 1] : code.code[code.code[code.cur + 1] + 1]\n",
    "        a2 = instruction.modes[2] == 1 ? code.code[code.cur + 2] : code.code[code.code[code.cur + 2] + 1]\n",
    "        if a1 != 0 \n",
    "            code.cur = a2 + 1 \n",
    "        else\n",
    "            code.cur += 3\n",
    "        end\n",
    "    elseif instruction.op == 6\n",
    "        a1 = instruction.modes[1] == 1 ? code.code[code.cur + 1] : code.code[code.code[code.cur + 1] + 1]\n",
    "        a2 = instruction.modes[2] == 1 ? code.code[code.cur + 2] : code.code[code.code[code.cur + 2] + 1]\n",
    "        if a1 == 0 \n",
    "            code.cur = a2 + 1 \n",
    "        else\n",
    "            code.cur += 3\n",
    "        end\n",
    "    elseif instruction.op == 7\n",
    "        a1 = instruction.modes[1] == 1 ? code.code[code.cur + 1] : code.code[code.code[code.cur + 1] + 1]\n",
    "        a2 = instruction.modes[2] == 1 ? code.code[code.cur + 2] : code.code[code.code[code.cur + 2] + 1]\n",
    "        a3 = code.code[code.cur + 3] + 1\n",
    "        if a1 < a2\n",
    "            code.code[a3] = 1\n",
    "        else\n",
    "            code.code[a3] = 0\n",
    "        end\n",
    "        code.cur += 4\n",
    "    elseif instruction.op == 8\n",
    "        a1 = instruction.modes[1] == 1 ? code.code[code.cur + 1] : code.code[code.code[code.cur + 1] + 1]\n",
    "        a2 = instruction.modes[2] == 1 ? code.code[code.cur + 2] : code.code[code.code[code.cur + 2] + 1]\n",
    "        a3 = code.code[code.cur + 3] + 1\n",
    "        if a1 == a2\n",
    "            code.code[a3] = 1\n",
    "        else\n",
    "            code.code[a3] = 0\n",
    "        end\n",
    "        code.cur += 4\n",
    "    end\n",
    "end\n",
    "\n",
    "function run(code::Code, input::Vector{Int})\n",
    "    code.input = input\n",
    "    while !code.eop\n",
    "        instruction = Instruction(code)\n",
    "        apply(code, instruction)\n",
    "    end\n",
    "    \n",
    "    code.output\n",
    "end\n",
    "\n",
    "run(code) = run(code, [])"
   ]
  },
  {
   "cell_type": "code",
   "execution_count": 20,
   "metadata": {},
   "outputs": [],
   "source": [
    "function amplout(s, phases)\n",
    "    state = 0\n",
    "    for i in phases\n",
    "        code = Code(s)\n",
    "        out = run(code, [i, state])\n",
    "        state = out[1]\n",
    "    end\n",
    "    \n",
    "    state\n",
    "end\n",
    "\n",
    "@assert amplout(\"3,15,3,16,1002,16,10,16,1,16,15,15,4,15,99,0,0\", [4, 3, 2, 1, 0]) == 43210\n",
    "@assert amplout(\"3,23,3,24,1002,24,10,24,1002,23,-1,23,101,5,23,23,1,24,23,23,4,23,99,0,0\", [0,1,2,3,4]) == 54321\n",
    "@assert amplout(\"3,31,3,32,1002,32,10,32,1001,31,-2,31,1007,31,0,33,1002,33,7,33,1,33,31,31,1,32,31,31,4,31,99,0,0,0\", [1,0,4,3,2]) == 65210"
   ]
  },
  {
   "cell_type": "code",
   "execution_count": 28,
   "metadata": {},
   "outputs": [
    {
     "data": {
      "text/plain": [
       "perms (generic function with 1 method)"
      ]
     },
     "execution_count": 28,
     "metadata": {},
     "output_type": "execute_result"
    }
   ],
   "source": [
    "function perms(acc, head, tails)\n",
    "    if isempty(tails)\n",
    "       push!(acc, head)\n",
    "    else\n",
    "        for (i, tail) in enumerate(tails)\n",
    "            perms(acc, vcat(head, tail), vcat(tails[1:(i - 1)], tails[(i+1): end]))\n",
    "        end\n",
    "    end\n",
    "end"
   ]
  },
  {
   "cell_type": "code",
   "execution_count": 37,
   "metadata": {},
   "outputs": [
    {
     "data": {
      "text/plain": [
       "findmaxphase (generic function with 1 method)"
      ]
     },
     "execution_count": 37,
     "metadata": {},
     "output_type": "execute_result"
    }
   ],
   "source": [
    "function findmaxphase(s)\n",
    "    states = Vector{Vector{Int}}()\n",
    "    perms(states, Int[], [0, 1, 2, 3, 4])\n",
    "    maximum(map(x -> amplout(s, x), states))\n",
    "end"
   ]
  },
  {
   "cell_type": "code",
   "execution_count": 39,
   "metadata": {},
   "outputs": [],
   "source": [
    "@assert findmaxphase(\"3,15,3,16,1002,16,10,16,1,16,15,15,4,15,99,0,0\") == 43210\n",
    "@assert findmaxphase(\"3,23,3,24,1002,24,10,24,1002,23,-1,23,101,5,23,23,1,24,23,23,4,23,99,0,0\") == 54321\n",
    "@assert findmaxphase(\"3,31,3,32,1002,32,10,32,1001,31,-2,31,1007,31,0,33,1002,33,7,33,1,33,31,31,1,32,31,31,4,31,99,0,0,0\") == 65210"
   ]
  },
  {
   "cell_type": "code",
   "execution_count": 41,
   "metadata": {},
   "outputs": [
    {
     "name": "stdout",
     "output_type": "stream",
     "text": [
      "880726\n"
     ]
    }
   ],
   "source": [
    "println(findmaxphase(readline(\"input.txt\")))"
   ]
  },
  {
   "cell_type": "code",
   "execution_count": 24,
   "metadata": {},
   "outputs": [
    {
     "name": "stdout",
     "output_type": "stream",
     "text": [
      "1:10\n",
      "2:20\n"
     ]
    }
   ],
   "source": [
    "for (i, j) in enumerate([10, 20])\n",
    "    println(i, \":\", j)\n",
    "end"
   ]
  },
  {
   "cell_type": "code",
   "execution_count": 6,
   "metadata": {},
   "outputs": [
    {
     "name": "stdout",
     "output_type": "stream",
     "text": [
      "search: \u001b[0m\u001b[1mp\u001b[22m\u001b[0m\u001b[1mo\u001b[22m\u001b[0m\u001b[1mp\u001b[22m\u001b[0m\u001b[1mf\u001b[22m\u001b[0m\u001b[1mi\u001b[22m\u001b[0m\u001b[1mr\u001b[22m\u001b[0m\u001b[1ms\u001b[22m\u001b[0m\u001b[1mt\u001b[22m\u001b[0m\u001b[1m!\u001b[22m\n",
      "\n"
     ]
    },
    {
     "data": {
      "text/latex": [
       "\\begin{verbatim}\n",
       "popfirst!(collection) -> item\n",
       "\\end{verbatim}\n",
       "Remove the first \\texttt{item} from \\texttt{collection}.\n",
       "\n",
       "\\section{Examples}\n",
       "\\begin{verbatim}\n",
       "julia> A = [1, 2, 3, 4, 5, 6]\n",
       "6-element Array{Int64,1}:\n",
       " 1\n",
       " 2\n",
       " 3\n",
       " 4\n",
       " 5\n",
       " 6\n",
       "\n",
       "julia> popfirst!(A)\n",
       "1\n",
       "\n",
       "julia> A\n",
       "5-element Array{Int64,1}:\n",
       " 2\n",
       " 3\n",
       " 4\n",
       " 5\n",
       " 6\n",
       "\\end{verbatim}\n"
      ],
      "text/markdown": [
       "```\n",
       "popfirst!(collection) -> item\n",
       "```\n",
       "\n",
       "Remove the first `item` from `collection`.\n",
       "\n",
       "# Examples\n",
       "\n",
       "```jldoctest\n",
       "julia> A = [1, 2, 3, 4, 5, 6]\n",
       "6-element Array{Int64,1}:\n",
       " 1\n",
       " 2\n",
       " 3\n",
       " 4\n",
       " 5\n",
       " 6\n",
       "\n",
       "julia> popfirst!(A)\n",
       "1\n",
       "\n",
       "julia> A\n",
       "5-element Array{Int64,1}:\n",
       " 2\n",
       " 3\n",
       " 4\n",
       " 5\n",
       " 6\n",
       "```\n"
      ],
      "text/plain": [
       "\u001b[36m  popfirst!(collection) -> item\u001b[39m\n",
       "\n",
       "  Remove the first \u001b[36mitem\u001b[39m from \u001b[36mcollection\u001b[39m.\n",
       "\n",
       "\u001b[1m  Examples\u001b[22m\n",
       "\u001b[1m  ≡≡≡≡≡≡≡≡≡≡\u001b[22m\n",
       "\n",
       "\u001b[36m  julia> A = [1, 2, 3, 4, 5, 6]\u001b[39m\n",
       "\u001b[36m  6-element Array{Int64,1}:\u001b[39m\n",
       "\u001b[36m   1\u001b[39m\n",
       "\u001b[36m   2\u001b[39m\n",
       "\u001b[36m   3\u001b[39m\n",
       "\u001b[36m   4\u001b[39m\n",
       "\u001b[36m   5\u001b[39m\n",
       "\u001b[36m   6\u001b[39m\n",
       "\u001b[36m  \u001b[39m\n",
       "\u001b[36m  julia> popfirst!(A)\u001b[39m\n",
       "\u001b[36m  1\u001b[39m\n",
       "\u001b[36m  \u001b[39m\n",
       "\u001b[36m  julia> A\u001b[39m\n",
       "\u001b[36m  5-element Array{Int64,1}:\u001b[39m\n",
       "\u001b[36m   2\u001b[39m\n",
       "\u001b[36m   3\u001b[39m\n",
       "\u001b[36m   4\u001b[39m\n",
       "\u001b[36m   5\u001b[39m\n",
       "\u001b[36m   6\u001b[39m"
      ]
     },
     "execution_count": 6,
     "metadata": {},
     "output_type": "execute_result"
    }
   ],
   "source": [
    "?popfirst!"
   ]
  },
  {
   "cell_type": "code",
   "execution_count": null,
   "metadata": {},
   "outputs": [],
   "source": []
  }
 ],
 "metadata": {
  "kernelspec": {
   "display_name": "Julia 1.3.0",
   "language": "julia",
   "name": "julia-1.3"
  },
  "language_info": {
   "file_extension": ".jl",
   "mimetype": "application/julia",
   "name": "julia",
   "version": "1.3.0"
  }
 },
 "nbformat": 4,
 "nbformat_minor": 2
}
