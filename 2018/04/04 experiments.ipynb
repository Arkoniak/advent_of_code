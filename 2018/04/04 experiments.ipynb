{
 "cells": [
  {
   "cell_type": "markdown",
   "metadata": {},
   "source": [
    "## Part 1"
   ]
  },
  {
   "cell_type": "code",
   "execution_count": 11,
   "metadata": {},
   "outputs": [
    {
     "data": {
      "text/plain": [
       "17-element Array{String,1}:\n",
       " \"[1518-11-01 00:00] Guard #10 begins shift\"\n",
       " \"[1518-11-01 00:05] falls asleep\"          \n",
       " \"[1518-11-01 00:25] wakes up\"              \n",
       " \"[1518-11-01 00:30] falls asleep\"          \n",
       " \"[1518-11-01 00:55] wakes up\"              \n",
       " \"[1518-11-01 23:58] Guard #99 begins shift\"\n",
       " \"[1518-11-02 00:40] falls asleep\"          \n",
       " \"[1518-11-02 00:50] wakes up\"              \n",
       " \"[1518-11-03 00:05] Guard #10 begins shift\"\n",
       " \"[1518-11-03 00:24] falls asleep\"          \n",
       " \"[1518-11-03 00:29] wakes up\"              \n",
       " \"[1518-11-04 00:02] Guard #99 begins shift\"\n",
       " \"[1518-11-04 00:36] falls asleep\"          \n",
       " \"[1518-11-04 00:46] wakes up\"              \n",
       " \"[1518-11-05 00:03] Guard #99 begins shift\"\n",
       " \"[1518-11-05 00:45] falls asleep\"          \n",
       " \"[1518-11-05 00:55] wakes up\"              "
      ]
     },
     "execution_count": 11,
     "metadata": {},
     "output_type": "execute_result"
    }
   ],
   "source": [
    "data = sort(readlines(\"test_input.txt\"))"
   ]
  },
  {
   "cell_type": "code",
   "execution_count": 12,
   "metadata": {},
   "outputs": [
    {
     "data": {
      "text/plain": [
       "RegexMatch(\"[1518-11-01 00:00] Guard #10 begins shift\", 1=\"1518-11-01\", 2=\"00\", 3=\"10\")"
      ]
     },
     "execution_count": 12,
     "metadata": {},
     "output_type": "execute_result"
    }
   ],
   "source": [
    "m = match(r\"\\[([0-9][0-9][0-9][0-9]-[0-9][0-9]-[0-9][0-9]) ..:([0-9][0-9])\\] Guard #([0-9]+) .*\", data[1])"
   ]
  },
  {
   "cell_type": "code",
   "execution_count": 66,
   "metadata": {},
   "outputs": [
    {
     "data": {
      "text/plain": [
       "aoc1 (generic function with 1 method)"
      ]
     },
     "execution_count": 66,
     "metadata": {},
     "output_type": "execute_result"
    }
   ],
   "source": [
    "function aoc1(data)\n",
    "    data = sort!(data)\n",
    "    recs = Dict{Int, Dict{String, Vector{Int}}}()\n",
    "    cur = 0\n",
    "    fall = 0\n",
    "    for x in data\n",
    "        m = match(r\"\\[([0-9][0-9][0-9][0-9]-[0-9][0-9]-[0-9][0-9]) ..:([0-9][0-9])\\] Guard #([0-9]+) .*\", x)\n",
    "        if m != nothing\n",
    "            cur = parse(Int, m[3])\n",
    "            continue\n",
    "        end\n",
    "        m = match(r\"\\[([0-9][0-9][0-9][0-9]-[0-9][0-9]-[0-9][0-9]) ..:([0-9][0-9])\\] falls asleep$\", x)\n",
    "        if m != nothing\n",
    "            fall = parse(Int, m[2])\n",
    "            continue\n",
    "        end\n",
    "        \n",
    "        m = match(r\"\\[([0-9][0-9][0-9][0-9]-[0-9][0-9]-[0-9][0-9]) ..:([0-9][0-9])\\] wakes up$\", x)\n",
    "        if !(cur in keys(recs))\n",
    "            recs[cur] = Dict{String, Vector{Int}}([m[1] => zeros(Int, 60)])\n",
    "        end\n",
    "            \n",
    "        if !(m[1] in keys(recs[cur]))\n",
    "            recs[cur][m[1]] = zeros(Int, 60)\n",
    "        end\n",
    "\n",
    "        for i in (fall + 1):(parse(Int, m[2]))\n",
    "            recs[cur][m[1]][i] = 1\n",
    "        end\n",
    "    end\n",
    "    \n",
    "    sleepers = Dict( key => sum(sum.(values(value))) for (key, value) in recs)\n",
    "    maxid = -1\n",
    "    maxsleep = 0\n",
    "    for (k, v) in sleepers\n",
    "        if v > maxsleep \n",
    "            maxid = k\n",
    "            maxsleep = v\n",
    "        end\n",
    "    end\n",
    "\n",
    "    x = zeros(Int, 60)\n",
    "    for v1 in values(recs[maxid])\n",
    "        x = x .+ v1\n",
    "    end\n",
    "    \n",
    "    minute = argmax(x)\n",
    "\n",
    "    (minute - 1)*maxid\n",
    "end"
   ]
  },
  {
   "cell_type": "code",
   "execution_count": 67,
   "metadata": {},
   "outputs": [
    {
     "name": "stdout",
     "output_type": "stream",
     "text": [
      "240\n"
     ]
    }
   ],
   "source": [
    "data = readlines(\"test_input.txt\")\n",
    "println(aoc1(data))"
   ]
  },
  {
   "cell_type": "code",
   "execution_count": 68,
   "metadata": {},
   "outputs": [
    {
     "name": "stdout",
     "output_type": "stream",
     "text": [
      "60438\n"
     ]
    }
   ],
   "source": [
    "data = readlines(\"input.txt\")\n",
    "println(aoc1(data))"
   ]
  },
  {
   "cell_type": "markdown",
   "metadata": {},
   "source": [
    "## Part 2"
   ]
  },
  {
   "cell_type": "code",
   "execution_count": 70,
   "metadata": {},
   "outputs": [
    {
     "data": {
      "text/plain": [
       "aoc2 (generic function with 1 method)"
      ]
     },
     "execution_count": 70,
     "metadata": {},
     "output_type": "execute_result"
    }
   ],
   "source": [
    "function max_minute(d)\n",
    "    x = zeros(Int, 60)\n",
    "    for v1 in values(d)\n",
    "        x = x .+ v1\n",
    "    end\n",
    "    \n",
    "    (argmax(x), x[argmax(x)])\n",
    "end\n",
    "\n",
    "function aoc2(data)\n",
    "    data = sort!(data)\n",
    "    recs = Dict{Int, Dict{String, Vector{Int}}}()\n",
    "    cur = 0\n",
    "    fall = 0\n",
    "    for x in data\n",
    "        m = match(r\"\\[([0-9][0-9][0-9][0-9]-[0-9][0-9]-[0-9][0-9]) ..:([0-9][0-9])\\] Guard #([0-9]+) .*\", x)\n",
    "        if m != nothing\n",
    "            cur = parse(Int, m[3])\n",
    "            continue\n",
    "        end\n",
    "        m = match(r\"\\[([0-9][0-9][0-9][0-9]-[0-9][0-9]-[0-9][0-9]) ..:([0-9][0-9])\\] falls asleep$\", x)\n",
    "        if m != nothing\n",
    "            fall = parse(Int, m[2])\n",
    "            continue\n",
    "        end\n",
    "        \n",
    "        m = match(r\"\\[([0-9][0-9][0-9][0-9]-[0-9][0-9]-[0-9][0-9]) ..:([0-9][0-9])\\] wakes up$\", x)\n",
    "        if !(cur in keys(recs))\n",
    "            recs[cur] = Dict{String, Vector{Int}}([m[1] => zeros(Int, 60)])\n",
    "        end\n",
    "            \n",
    "        if !(m[1] in keys(recs[cur]))\n",
    "            recs[cur][m[1]] = zeros(Int, 60)\n",
    "        end\n",
    "\n",
    "        for i in (fall + 1):(parse(Int, m[2]))\n",
    "            recs[cur][m[1]][i] = 1\n",
    "        end\n",
    "    end\n",
    "    \n",
    "    sleepers = Dict( key => max_minute(value) for (key, value) in recs)\n",
    "    maxid = -1\n",
    "    maxsleep = 0\n",
    "    for (k, v) in sleepers\n",
    "        if v[2] > maxsleep\n",
    "            maxid = k\n",
    "            maxsleep = v[2]\n",
    "        end\n",
    "    end\n",
    "\n",
    "    (sleepers[maxid][1] - 1)*maxid\n",
    "end"
   ]
  },
  {
   "cell_type": "code",
   "execution_count": 71,
   "metadata": {},
   "outputs": [
    {
     "name": "stdout",
     "output_type": "stream",
     "text": [
      "4455\n"
     ]
    }
   ],
   "source": [
    "data = readlines(\"test_input.txt\")\n",
    "println(aoc2(data))"
   ]
  },
  {
   "cell_type": "code",
   "execution_count": 72,
   "metadata": {},
   "outputs": [
    {
     "name": "stdout",
     "output_type": "stream",
     "text": [
      "47989\n"
     ]
    }
   ],
   "source": [
    "data = readlines(\"input.txt\")\n",
    "println(aoc2(data))"
   ]
  },
  {
   "cell_type": "code",
   "execution_count": 74,
   "metadata": {},
   "outputs": [
    {
     "data": {
      "text/plain": [
       "32"
      ]
     },
     "execution_count": 74,
     "metadata": {},
     "output_type": "execute_result"
    }
   ],
   "source": [
    "'c' - 'C'"
   ]
  },
  {
   "cell_type": "code",
   "execution_count": 75,
   "metadata": {},
   "outputs": [
    {
     "data": {
      "text/plain": [
       "32"
      ]
     },
     "execution_count": 75,
     "metadata": {},
     "output_type": "execute_result"
    }
   ],
   "source": [
    "'a' - 'A'"
   ]
  },
  {
   "cell_type": "code",
   "execution_count": 76,
   "metadata": {},
   "outputs": [
    {
     "data": {
      "text/plain": [
       "-32"
      ]
     },
     "execution_count": 76,
     "metadata": {},
     "output_type": "execute_result"
    }
   ],
   "source": [
    "'A' - 'a'"
   ]
  },
  {
   "cell_type": "code",
   "execution_count": 116,
   "metadata": {},
   "outputs": [
    {
     "data": {
      "text/plain": [
       "16-element Array{Char,1}:\n",
       " 'd'\n",
       " 'a'\n",
       " 'b'\n",
       " 'A'\n",
       " 'c'\n",
       " 'C'\n",
       " 'a'\n",
       " 'C'\n",
       " 'B'\n",
       " 'A'\n",
       " 'c'\n",
       " 'C'\n",
       " 'c'\n",
       " 'a'\n",
       " 'D'\n",
       " 'A'"
      ]
     },
     "execution_count": 116,
     "metadata": {},
     "output_type": "execute_result"
    }
   ],
   "source": [
    "t = collect(\"dabAcCaCBAcCcaDA\")"
   ]
  },
  {
   "cell_type": "code",
   "execution_count": 125,
   "metadata": {},
   "outputs": [
    {
     "data": {
      "text/plain": [
       "0-element Array{Int64,1}"
      ]
     },
     "execution_count": 125,
     "metadata": {},
     "output_type": "execute_result"
    }
   ],
   "source": [
    "z = findall(abs.(t .- vcat(t[2:end], [t[end]])) .== 32)"
   ]
  },
  {
   "cell_type": "code",
   "execution_count": 126,
   "metadata": {},
   "outputs": [
    {
     "data": {
      "text/plain": [
       "0"
      ]
     },
     "execution_count": 126,
     "metadata": {},
     "output_type": "execute_result"
    }
   ],
   "source": [
    "length(z)"
   ]
  },
  {
   "cell_type": "code",
   "execution_count": 115,
   "metadata": {},
   "outputs": [
    {
     "data": {
      "text/plain": [
       "4-element Array{Int64,1}:\n",
       "  5\n",
       "  6\n",
       " 11\n",
       " 12"
      ]
     },
     "execution_count": 115,
     "metadata": {},
     "output_type": "execute_result"
    }
   ],
   "source": [
    "sort(vcat(z, z .+ 1))"
   ]
  },
  {
   "cell_type": "code",
   "execution_count": 124,
   "metadata": {},
   "outputs": [
    {
     "data": {
      "text/plain": [
       "10-element Array{Char,1}:\n",
       " 'd'\n",
       " 'a'\n",
       " 'b'\n",
       " 'C'\n",
       " 'B'\n",
       " 'A'\n",
       " 'c'\n",
       " 'a'\n",
       " 'D'\n",
       " 'A'"
      ]
     },
     "execution_count": 124,
     "metadata": {},
     "output_type": "execute_result"
    }
   ],
   "source": [
    "deleteat!(t, sort(vcat(z, z .+ 1)))"
   ]
  },
  {
   "cell_type": "code",
   "execution_count": 120,
   "metadata": {},
   "outputs": [
    {
     "data": {
      "text/plain": [
       "12-element Array{Char,1}:\n",
       " 'd'\n",
       " 'a'\n",
       " 'b'\n",
       " 'A'\n",
       " 'a'\n",
       " 'C'\n",
       " 'B'\n",
       " 'A'\n",
       " 'c'\n",
       " 'a'\n",
       " 'D'\n",
       " 'A'"
      ]
     },
     "execution_count": 120,
     "metadata": {},
     "output_type": "execute_result"
    }
   ],
   "source": [
    "t"
   ]
  },
  {
   "cell_type": "code",
   "execution_count": 122,
   "metadata": {},
   "outputs": [
    {
     "data": {
      "text/plain": [
       "12-element Array{Int64,1}:\n",
       "   3\n",
       "  -1\n",
       "  33\n",
       " -32\n",
       "  30\n",
       "   1\n",
       "   1\n",
       " -34\n",
       "   2\n",
       "  29\n",
       "   3\n",
       "   0"
      ]
     },
     "execution_count": 122,
     "metadata": {},
     "output_type": "execute_result"
    }
   ],
   "source": [
    "t .- vcat(t[2:end], [t[end]])"
   ]
  },
  {
   "cell_type": "code",
   "execution_count": null,
   "metadata": {},
   "outputs": [],
   "source": []
  }
 ],
 "metadata": {
  "kernelspec": {
   "display_name": "Julia 1.3.0",
   "language": "julia",
   "name": "julia-1.3"
  },
  "language_info": {
   "file_extension": ".jl",
   "mimetype": "application/julia",
   "name": "julia",
   "version": "1.3.0"
  }
 },
 "nbformat": 4,
 "nbformat_minor": 2
}
