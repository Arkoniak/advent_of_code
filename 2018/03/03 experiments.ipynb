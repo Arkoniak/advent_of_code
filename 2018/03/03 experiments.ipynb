{
 "cells": [
  {
   "cell_type": "markdown",
   "metadata": {},
   "source": [
    "## Part 1"
   ]
  },
  {
   "cell_type": "code",
   "execution_count": 1,
   "metadata": {},
   "outputs": [],
   "source": [
    "struct Dot\n",
    "    x::Int\n",
    "    y::Int\n",
    "end"
   ]
  },
  {
   "cell_type": "code",
   "execution_count": 2,
   "metadata": {},
   "outputs": [
    {
     "data": {
      "text/plain": [
       "Dict{Dot,Array{Int64,1}} with 0 entries"
      ]
     },
     "execution_count": 2,
     "metadata": {},
     "output_type": "execute_result"
    }
   ],
   "source": []
  },
  {
   "cell_type": "code",
   "execution_count": 28,
   "metadata": {},
   "outputs": [
    {
     "data": {
      "text/plain": [
       "aoc1 (generic function with 1 method)"
      ]
     },
     "execution_count": 28,
     "metadata": {},
     "output_type": "execute_result"
    }
   ],
   "source": [
    "function aoc1(data)\n",
    "    fabriq = Dict{Dot, Vector{Int}}()\n",
    "    for x in data\n",
    "        m = match(r\"^#([0-9]+) @ ([0-9]+),([0-9]+): ([0-9]+)x([0-9]+)$\", x)\n",
    "        m = parse.(Int, m.captures)\n",
    "        for i in m[2]:(m[2] + m[4] - 1), j in m[3]:(m[3] + m[5] - 1)\n",
    "            if Dot(i, j) in keys(fabriq)\n",
    "                push!(fabriq[Dot(i, j)], m[1])\n",
    "            else\n",
    "                fabriq[Dot(i, j)] = [m[1]]\n",
    "            end\n",
    "        end\n",
    "    end\n",
    "    \n",
    "    sum(length.(values(fabriq)) .> 1)\n",
    "end"
   ]
  },
  {
   "cell_type": "code",
   "execution_count": 30,
   "metadata": {},
   "outputs": [],
   "source": [
    "data = readlines(\"test_input.txt\")\n",
    "@assert aoc1(data) == 4"
   ]
  },
  {
   "cell_type": "code",
   "execution_count": 31,
   "metadata": {},
   "outputs": [
    {
     "name": "stdout",
     "output_type": "stream",
     "text": [
      "100595\n"
     ]
    }
   ],
   "source": [
    "data = readlines(\"input.txt\")\n",
    "println(aoc1(data))"
   ]
  },
  {
   "cell_type": "markdown",
   "metadata": {},
   "source": [
    "## Part 2"
   ]
  },
  {
   "cell_type": "code",
   "execution_count": 46,
   "metadata": {},
   "outputs": [
    {
     "data": {
      "text/plain": [
       "aoc2 (generic function with 1 method)"
      ]
     },
     "execution_count": 46,
     "metadata": {},
     "output_type": "execute_result"
    }
   ],
   "source": [
    "function aoc2(data)\n",
    "    fabriq = Dict{Dot, Vector{Int}}()\n",
    "    ids = Set{Int}()\n",
    "    xids = Set{Int}()\n",
    "    for x in data\n",
    "        m = match(r\"^#([0-9]+) @ ([0-9]+),([0-9]+): ([0-9]+)x([0-9]+)$\", x)\n",
    "        m = parse.(Int, m.captures)\n",
    "        push!(ids, m[1])\n",
    "        for i in m[2]:(m[2] + m[4] - 1), j in m[3]:(m[3] + m[5] - 1)\n",
    "            if Dot(i, j) in keys(fabriq)\n",
    "                push!(fabriq[Dot(i, j)], m[1])\n",
    "            else\n",
    "                fabriq[Dot(i, j)] = [m[1]]\n",
    "            end\n",
    "        end\n",
    "    end\n",
    "\n",
    "    for v in values(fabriq)\n",
    "        if length(v) > 1\n",
    "            xids = union(xids, Set(v))\n",
    "        end\n",
    "    end\n",
    "    \n",
    "    collect(setdiff(ids, xids))[1]\n",
    "end"
   ]
  },
  {
   "cell_type": "code",
   "execution_count": 48,
   "metadata": {},
   "outputs": [],
   "source": [
    "data = readlines(\"test_input.txt\")\n",
    "@assert aoc2(data) == 3"
   ]
  },
  {
   "cell_type": "code",
   "execution_count": 54,
   "metadata": {},
   "outputs": [
    {
     "name": "stdout",
     "output_type": "stream",
     "text": [
      "415\n"
     ]
    }
   ],
   "source": [
    "data = readlines(\"input.txt\")\n",
    "println(aoc2(data))"
   ]
  },
  {
   "cell_type": "code",
   "execution_count": 50,
   "metadata": {},
   "outputs": [
    {
     "data": {
      "text/plain": [
       "aoc2_2 (generic function with 1 method)"
      ]
     },
     "execution_count": 50,
     "metadata": {},
     "output_type": "execute_result"
    }
   ],
   "source": [
    "function aoc2_2(data)\n",
    "    fabriq = Dict{Dot, Vector{Int}}()\n",
    "    ids = Set{Int}()\n",
    "    for x in data\n",
    "        m = match(r\"^#([0-9]+) @ ([0-9]+),([0-9]+): ([0-9]+)x([0-9]+)$\", x)\n",
    "        m = parse.(Int, m.captures)\n",
    "        push!(ids, m[1])\n",
    "        for i in m[2]:(m[2] + m[4] - 1), j in m[3]:(m[3] + m[5] - 1)\n",
    "            if Dot(i, j) in keys(fabriq)\n",
    "                push!(fabriq[Dot(i, j)], m[1])\n",
    "                ids = setdiff(ids, fabriq[Dot(i, j)])\n",
    "            else\n",
    "                fabriq[Dot(i, j)] = [m[1]]\n",
    "            end\n",
    "        end\n",
    "    end\n",
    "\n",
    "    collect(ids)[1]\n",
    "end"
   ]
  },
  {
   "cell_type": "code",
   "execution_count": 52,
   "metadata": {},
   "outputs": [],
   "source": [
    "data = readlines(\"test_input.txt\")\n",
    "@assert aoc2_2(data) == 3"
   ]
  },
  {
   "cell_type": "code",
   "execution_count": 55,
   "metadata": {},
   "outputs": [
    {
     "name": "stdout",
     "output_type": "stream",
     "text": [
      "415\n"
     ]
    }
   ],
   "source": [
    "data = readlines(\"input.txt\")\n",
    "println(aoc2_2(data))"
   ]
  }
 ],
 "metadata": {
  "kernelspec": {
   "display_name": "Julia 1.3.0",
   "language": "julia",
   "name": "julia-1.3"
  },
  "language_info": {
   "file_extension": ".jl",
   "mimetype": "application/julia",
   "name": "julia",
   "version": "1.3.0"
  }
 },
 "nbformat": 4,
 "nbformat_minor": 2
}
